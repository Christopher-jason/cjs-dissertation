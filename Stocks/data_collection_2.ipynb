{
 "cells": [
  {
   "cell_type": "code",
   "execution_count": 2,
   "metadata": {},
   "outputs": [],
   "source": [
    "import praw\n",
    "import pandas as pd\n",
    "from requests import Session\n",
    "from os import getenv\n",
    "from dotenv import load_dotenv\n",
    "from datetime import datetime as dt\n"
   ]
  },
  {
   "cell_type": "code",
   "execution_count": 3,
   "metadata": {},
   "outputs": [],
   "source": [
    "load_dotenv()\n",
    "session = Session()"
   ]
  },
  {
   "cell_type": "code",
   "execution_count": 4,
   "metadata": {},
   "outputs": [],
   "source": [
    "#Connect to reddit server\n",
    "reddit = praw.Reddit(\n",
    "    client_id=getenv('client_id'),\n",
    "    client_secret=getenv('client_secret'),\n",
    "    requestor_kwargs={\"session\": session},\n",
    "    user_agent=getenv('user_agent'),\n",
    "    username=getenv('username'),\n",
    "    password=getenv('password')\n",
    ")\n",
    "#defining subreddit\n",
    "subreddit = reddit.subreddit(\"wallstreetbets\")"
   ]
  },
  {
   "cell_type": "code",
   "execution_count": 8,
   "metadata": {},
   "outputs": [
    {
     "ename": "TypeError",
     "evalue": "ListingGenerator.__init__() got an unexpected keyword argument 'time_filter'",
     "output_type": "error",
     "traceback": [
      "\u001b[0;31m---------------------------------------------------------------------------\u001b[0m",
      "\u001b[0;31mTypeError\u001b[0m                                 Traceback (most recent call last)",
      "Cell \u001b[0;32mIn[8], line 1\u001b[0m\n\u001b[0;32m----> 1\u001b[0m \u001b[39mfor\u001b[39;00m submission \u001b[39min\u001b[39;00m subreddit\u001b[39m.\u001b[39;49mhot(time_filter\u001b[39m=\u001b[39;49m\u001b[39m30\u001b[39;49m, limit \u001b[39m=\u001b[39;49m \u001b[39m10\u001b[39;49m):\n\u001b[1;32m      2\u001b[0m     \u001b[39mprint\u001b[39m(submission\u001b[39m.\u001b[39mtitle, submission\u001b[39m.\u001b[39mid)\n",
      "File \u001b[0;32m/opt/homebrew/anaconda3/envs/stocks/lib/python3.11/site-packages/praw/models/listing/mixins/base.py:93\u001b[0m, in \u001b[0;36mBaseListingMixin.hot\u001b[0;34m(self, **generator_kwargs)\u001b[0m\n\u001b[1;32m     91\u001b[0m generator_kwargs\u001b[39m.\u001b[39msetdefault(\u001b[39m\"\u001b[39m\u001b[39mparams\u001b[39m\u001b[39m\"\u001b[39m, {})\n\u001b[1;32m     92\u001b[0m url \u001b[39m=\u001b[39m \u001b[39mself\u001b[39m\u001b[39m.\u001b[39m_prepare(arguments\u001b[39m=\u001b[39mgenerator_kwargs, sort\u001b[39m=\u001b[39m\u001b[39m\"\u001b[39m\u001b[39mhot\u001b[39m\u001b[39m\"\u001b[39m)\n\u001b[0;32m---> 93\u001b[0m \u001b[39mreturn\u001b[39;00m ListingGenerator(\u001b[39mself\u001b[39;49m\u001b[39m.\u001b[39;49m_reddit, url, \u001b[39m*\u001b[39;49m\u001b[39m*\u001b[39;49mgenerator_kwargs)\n",
      "\u001b[0;31mTypeError\u001b[0m: ListingGenerator.__init__() got an unexpected keyword argument 'time_filter'"
     ]
    }
   ],
   "source": [
    "for submission in subreddit.hot(time_filter=30, limit = 10):\n",
    "    print(submission.title, submission.id)\n"
   ]
  },
  {
   "cell_type": "code",
   "execution_count": null,
   "metadata": {},
   "outputs": [],
   "source": []
  }
 ],
 "metadata": {
  "kernelspec": {
   "display_name": "stocks",
   "language": "python",
   "name": "python3"
  },
  "language_info": {
   "codemirror_mode": {
    "name": "ipython",
    "version": 3
   },
   "file_extension": ".py",
   "mimetype": "text/x-python",
   "name": "python",
   "nbconvert_exporter": "python",
   "pygments_lexer": "ipython3",
   "version": "3.11.4"
  },
  "orig_nbformat": 4
 },
 "nbformat": 4,
 "nbformat_minor": 2
}
