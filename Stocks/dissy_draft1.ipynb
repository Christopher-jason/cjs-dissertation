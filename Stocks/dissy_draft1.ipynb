{
 "cells": [
  {
   "cell_type": "markdown",
   "metadata": {},
   "source": [
    "# Draft 1 - Dissertation\n",
    "\n",
    "Sentiment analysis to understand the effect of meme community on the stock market. This paper studies how r/wallstreetbets have an impact on the stock market and how some companies are discussed more due to the relevance/popularity of the company in the general space."
   ]
  },
  {
   "cell_type": "markdown",
   "metadata": {},
   "source": [
    "# Importing Libraries\n",
    "\n",
    "TODO: ML libraries to be added"
   ]
  },
  {
   "cell_type": "code",
   "execution_count": 1,
   "metadata": {},
   "outputs": [],
   "source": [
    "import pandas as pd\n",
    "import numpy as np\n",
    "import matplotlib.pyplot as plt\n",
    "import re\n",
    "import yfinance as yf\n",
    "from datetime import datetime, timedelta"
   ]
  },
  {
   "cell_type": "markdown",
   "metadata": {},
   "source": [
    "# Read the symbols into a variable \n",
    "\n",
    "and search any specific symbol, and/or add \"$\" to a paticular symbol"
   ]
  },
  {
   "cell_type": "code",
   "execution_count": 3,
   "metadata": {},
   "outputs": [
    {
     "data": {
      "text/html": [
       "<div>\n",
       "<style scoped>\n",
       "    .dataframe tbody tr th:only-of-type {\n",
       "        vertical-align: middle;\n",
       "    }\n",
       "\n",
       "    .dataframe tbody tr th {\n",
       "        vertical-align: top;\n",
       "    }\n",
       "\n",
       "    .dataframe thead th {\n",
       "        text-align: right;\n",
       "    }\n",
       "</style>\n",
       "<table border=\"1\" class=\"dataframe\">\n",
       "  <thead>\n",
       "    <tr style=\"text-align: right;\">\n",
       "      <th></th>\n",
       "      <th>Symbol</th>\n",
       "      <th>Dollar_Symbol</th>\n",
       "      <th>Name</th>\n",
       "    </tr>\n",
       "  </thead>\n",
       "  <tbody>\n",
       "    <tr>\n",
       "      <th>0</th>\n",
       "      <td>$A</td>\n",
       "      <td>$A</td>\n",
       "      <td>Agilent Technologies Inc. Common Stock</td>\n",
       "    </tr>\n",
       "    <tr>\n",
       "      <th>1</th>\n",
       "      <td>AA</td>\n",
       "      <td>$AA</td>\n",
       "      <td>Alcoa Corporation Common Stock</td>\n",
       "    </tr>\n",
       "    <tr>\n",
       "      <th>2</th>\n",
       "      <td>AAC</td>\n",
       "      <td>$AAC</td>\n",
       "      <td>Ares Acquisition Corporation Class A Ordinary ...</td>\n",
       "    </tr>\n",
       "  </tbody>\n",
       "</table>\n",
       "</div>"
      ],
      "text/plain": [
       "  Symbol Dollar_Symbol                                               Name\n",
       "0     $A            $A             Agilent Technologies Inc. Common Stock\n",
       "1     AA           $AA                    Alcoa Corporation Common Stock \n",
       "2    AAC          $AAC  Ares Acquisition Corporation Class A Ordinary ..."
      ]
     },
     "execution_count": 3,
     "metadata": {},
     "output_type": "execute_result"
    }
   ],
   "source": [
    "symbols = pd.read_csv('symbols.csv')\n",
    "symbols.head(3)"
   ]
  },
  {
   "cell_type": "code",
   "execution_count": 4,
   "metadata": {},
   "outputs": [
    {
     "name": "stdout",
     "output_type": "stream",
     "text": [
      "     Symbol Dollar_Symbol                          Name\n",
      "2328    NOW          $NOW  ServiceNow Inc. Common Stock\n"
     ]
    }
   ],
   "source": [
    "#search for a specific symbol\n",
    "sym = 'NOW'\n",
    "print(symbols.loc[symbols['Symbol'] == sym])"
   ]
  },
  {
   "cell_type": "code",
   "execution_count": 5,
   "metadata": {},
   "outputs": [
    {
     "name": "stdout",
     "output_type": "stream",
     "text": [
      "     Symbol Dollar_Symbol                          Name\n",
      "2328   $NOW          $NOW  ServiceNow Inc. Common Stock\n"
     ]
    }
   ],
   "source": [
    "#add a \"$\" to a specific Symbol column in the symbols df from the change variable matching the Symbols column\n",
    "change = 'NOW'\n",
    "symbols.loc[symbols['Symbol'] == change, 'Symbol'] = '$' + change\n",
    "print(symbols.loc[symbols['Symbol'] == '$'+change])"
   ]
  },
  {
   "cell_type": "markdown",
   "metadata": {},
   "source": [
    "# Cleaning the data - Remove duplicates\n"
   ]
  },
  {
   "cell_type": "code",
   "execution_count": 2,
   "metadata": {},
   "outputs": [],
   "source": [
    "def remove_duplicates(input_file, output_file):\n",
    "    try:\n",
    "        with open(input_file, 'r') as f:\n",
    "            sentences = f.readlines()\n",
    "\n",
    "        # Remove duplicates while preserving the order\n",
    "        unique_sentences = list(dict.fromkeys(sentences))\n",
    "\n",
    "        with open(output_file, 'w') as f:\n",
    "            f.writelines(unique_sentences)\n",
    "\n",
    "        print(\"Duplicates removed successfully and saved to\", output_file)\n",
    "    except FileNotFoundError:\n",
    "        print(\"File not found. Please check the input file path.\")\n",
    "    except Exception as e:\n",
    "        print(\"An error occurred:\", e)"
   ]
  },
  {
   "cell_type": "code",
   "execution_count": 4,
   "metadata": {},
   "outputs": [
    {
     "name": "stdout",
     "output_type": "stream",
     "text": [
      "Duplicates removed successfully and saved to clean_hot.txt\n"
     ]
    }
   ],
   "source": [
    "# File inputs\n",
    "input_file = 'hot.txt'\n",
    "output_file = 'clean_hot.txt'\n",
    "\n",
    "remove_duplicates(input_file, output_file)"
   ]
  },
  {
   "cell_type": "markdown",
   "metadata": {},
   "source": [
    "# Read the hot file into a variable"
   ]
  },
  {
   "cell_type": "code",
   "execution_count": 6,
   "metadata": {},
   "outputs": [
    {
     "data": {
      "text/plain": [
       "3212"
      ]
     },
     "execution_count": 6,
     "metadata": {},
     "output_type": "execute_result"
    }
   ],
   "source": [
    "#import the hot text file to a list\n",
    "hot = open('clean_hot.txt').read().split('\\n')\n",
    "#count the number of items in the list\n",
    "len(hot)"
   ]
  },
  {
   "cell_type": "markdown",
   "metadata": {},
   "source": [
    "# Make the lines into dictionaries with dates as keys\n",
    "\n",
    "this is done so it is easy to get the dates with the sentences"
   ]
  },
  {
   "cell_type": "code",
   "execution_count": 7,
   "metadata": {},
   "outputs": [
    {
     "ename": "IndentationError",
     "evalue": "expected an indented block after function definition on line 1 (2465593696.py, line 4)",
     "output_type": "error",
     "traceback": [
      "\u001b[0;36m  Cell \u001b[0;32mIn[7], line 4\u001b[0;36m\u001b[0m\n\u001b[0;31m    hot_dict = {}\u001b[0m\n\u001b[0m    ^\u001b[0m\n\u001b[0;31mIndentationError\u001b[0m\u001b[0;31m:\u001b[0m expected an indented block after function definition on line 1\n"
     ]
    }
   ],
   "source": [
    "def make_dictionary():\n",
    "    # Initialize an empty dictionary to store the data\n",
    "    date_data_dict = {}\n",
    "\n",
    "    # Open the 'hot.txt' file for reading\n",
    "    with open('clean_hot.txt', 'r') as file:\n",
    "        current_date = None\n",
    "        current_lines = []\n",
    "\n",
    "        # Read the file line by line\n",
    "        for line in file:\n",
    "            # Check if the line matches the date format\n",
    "            match = re.search(r'[-]+(\\d{4}-\\d{2}-\\d{2})', line)\n",
    "            if match:\n",
    "                # Extract the date in the format \"YYYY-MM-DD\"\n",
    "                current_date = match.group(0).replace('--', '')\n",
    "\n",
    "                # Start a new list of lines for the current date\n",
    "                current_lines = []\n",
    "\n",
    "                # Store the lines under the current date in the dictionary\n",
    "                date_data_dict[current_date] = current_lines\n",
    "            else:\n",
    "                # If the line is not a date, add it to the current list of lines\n",
    "                current_lines.append(line.strip())\n",
    "\n",
    "    # Print the date_data_dict to see the results\n",
    "    print(date_data_dict)\n",
    "\n",
    "    # Return the dictionary\n",
    "    return date_data_dict"
   ]
  },
  {
   "cell_type": "code",
   "execution_count": null,
   "metadata": {},
   "outputs": [],
   "source": []
  }
 ],
 "metadata": {
  "kernelspec": {
   "display_name": "stocks",
   "language": "python",
   "name": "python3"
  },
  "language_info": {
   "codemirror_mode": {
    "name": "ipython",
    "version": 3
   },
   "file_extension": ".py",
   "mimetype": "text/x-python",
   "name": "python",
   "nbconvert_exporter": "python",
   "pygments_lexer": "ipython3",
   "version": "3.11.4"
  },
  "orig_nbformat": 4
 },
 "nbformat": 4,
 "nbformat_minor": 2
}
