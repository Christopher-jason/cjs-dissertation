{
 "cells": [
  {
   "cell_type": "code",
   "execution_count": 1,
   "metadata": {
    "tags": []
   },
   "outputs": [
    {
     "name": "stdout",
     "output_type": "stream",
     "text": [
      "Requirement already satisfied: pandas in /opt/homebrew/anaconda3/envs/stocks/lib/python3.11/site-packages (2.0.3)\n",
      "Requirement already satisfied: python-dateutil>=2.8.2 in /opt/homebrew/anaconda3/envs/stocks/lib/python3.11/site-packages (from pandas) (2.8.2)\n",
      "Requirement already satisfied: pytz>=2020.1 in /opt/homebrew/anaconda3/envs/stocks/lib/python3.11/site-packages (from pandas) (2023.3)\n",
      "Requirement already satisfied: tzdata>=2022.1 in /opt/homebrew/anaconda3/envs/stocks/lib/python3.11/site-packages (from pandas) (2023.3)\n",
      "Requirement already satisfied: numpy>=1.21.0 in /opt/homebrew/anaconda3/envs/stocks/lib/python3.11/site-packages (from pandas) (1.24.3)\n",
      "Requirement already satisfied: six>=1.5 in /opt/homebrew/anaconda3/envs/stocks/lib/python3.11/site-packages (from python-dateutil>=2.8.2->pandas) (1.16.0)\n",
      "Note: you may need to restart the kernel to use updated packages.\n"
     ]
    }
   ],
   "source": [
    "pip install pandas"
   ]
  },
  {
   "cell_type": "markdown",
   "metadata": {},
   "source": [
    "# Start\n"
   ]
  },
  {
   "cell_type": "markdown",
   "metadata": {},
   "source": [
    "## Step 1"
   ]
  },
  {
   "cell_type": "code",
   "execution_count": 2,
   "metadata": {},
   "outputs": [],
   "source": [
    "import pandas as pd"
   ]
  },
  {
   "cell_type": "markdown",
   "metadata": {},
   "source": [
    "## nasdaq screener copy"
   ]
  },
  {
   "cell_type": "code",
   "execution_count": 74,
   "metadata": {},
   "outputs": [
    {
     "data": {
      "text/html": [
       "<div>\n",
       "<style scoped>\n",
       "    .dataframe tbody tr th:only-of-type {\n",
       "        vertical-align: middle;\n",
       "    }\n",
       "\n",
       "    .dataframe tbody tr th {\n",
       "        vertical-align: top;\n",
       "    }\n",
       "\n",
       "    .dataframe thead th {\n",
       "        text-align: right;\n",
       "    }\n",
       "</style>\n",
       "<table border=\"1\" class=\"dataframe\">\n",
       "  <thead>\n",
       "    <tr style=\"text-align: right;\">\n",
       "      <th></th>\n",
       "      <th>Symbol</th>\n",
       "      <th>Name</th>\n",
       "    </tr>\n",
       "  </thead>\n",
       "  <tbody>\n",
       "    <tr>\n",
       "      <th>0</th>\n",
       "      <td>A</td>\n",
       "      <td>Agilent Technologies Inc. Common Stock</td>\n",
       "    </tr>\n",
       "    <tr>\n",
       "      <th>1</th>\n",
       "      <td>AA</td>\n",
       "      <td>Alcoa Corporation Common Stock</td>\n",
       "    </tr>\n",
       "    <tr>\n",
       "      <th>2</th>\n",
       "      <td>AAC</td>\n",
       "      <td>Ares Acquisition Corporation Class A Ordinary ...</td>\n",
       "    </tr>\n",
       "    <tr>\n",
       "      <th>3</th>\n",
       "      <td>AAIN</td>\n",
       "      <td>Arlington Asset Investment Corp 6.000% Senior ...</td>\n",
       "    </tr>\n",
       "    <tr>\n",
       "      <th>4</th>\n",
       "      <td>AAL</td>\n",
       "      <td>American Airlines Group Inc. Common Stock</td>\n",
       "    </tr>\n",
       "    <tr>\n",
       "      <th>5</th>\n",
       "      <td>AAN</td>\n",
       "      <td>Aarons Holdings Company Inc. Common Stock</td>\n",
       "    </tr>\n",
       "    <tr>\n",
       "      <th>6</th>\n",
       "      <td>AAON</td>\n",
       "      <td>AAON Inc. Common Stock</td>\n",
       "    </tr>\n",
       "    <tr>\n",
       "      <th>7</th>\n",
       "      <td>AAP</td>\n",
       "      <td>Advance Auto Parts Inc.</td>\n",
       "    </tr>\n",
       "    <tr>\n",
       "      <th>8</th>\n",
       "      <td>AAPL</td>\n",
       "      <td>Apple Inc. Common Stock</td>\n",
       "    </tr>\n",
       "    <tr>\n",
       "      <th>9</th>\n",
       "      <td>AAT</td>\n",
       "      <td>American Assets Trust Inc. Common Stock</td>\n",
       "    </tr>\n",
       "  </tbody>\n",
       "</table>\n",
       "</div>"
      ],
      "text/plain": [
       "  Symbol                                               Name\n",
       "0      A             Agilent Technologies Inc. Common Stock\n",
       "1     AA                    Alcoa Corporation Common Stock \n",
       "2    AAC  Ares Acquisition Corporation Class A Ordinary ...\n",
       "3   AAIN  Arlington Asset Investment Corp 6.000% Senior ...\n",
       "4    AAL          American Airlines Group Inc. Common Stock\n",
       "5    AAN         Aarons Holdings Company Inc. Common Stock \n",
       "6   AAON                             AAON Inc. Common Stock\n",
       "7    AAP                            Advance Auto Parts Inc.\n",
       "8   AAPL                            Apple Inc. Common Stock\n",
       "9    AAT            American Assets Trust Inc. Common Stock"
      ]
     },
     "execution_count": 74,
     "metadata": {},
     "output_type": "execute_result"
    }
   ],
   "source": [
    "#read nasdaq csv file in the same directory\n",
    "nasdaq = pd.read_csv('nasdaq_screener_new.csv')\n",
    "#print first 2 columns and 10 rows\n",
    "nasdaq.iloc[:10, :2]\n"
   ]
  },
  {
   "cell_type": "code",
   "execution_count": 95,
   "metadata": {},
   "outputs": [
    {
     "data": {
      "text/plain": [
       "['$A',\n",
       " '$AA',\n",
       " '$AAC',\n",
       " '$AAIN',\n",
       " '$AAL',\n",
       " '$AAN',\n",
       " '$AAON',\n",
       " '$AAP',\n",
       " '$AAPL',\n",
       " '$AAT']"
      ]
     },
     "execution_count": 95,
     "metadata": {},
     "output_type": "execute_result"
    }
   ],
   "source": [
    "#make a list of all the symbols of and add \"$\" before every symbol with no space\n",
    "dollar_list = nasdaq['Symbol'].tolist()\n",
    "dollar_list = [ '$' + str(elem) for elem in dollar_list ]\n",
    "dollar_list[:10]"
   ]
  },
  {
   "cell_type": "code",
   "execution_count": 96,
   "metadata": {},
   "outputs": [
    {
     "data": {
      "text/html": [
       "<div>\n",
       "<style scoped>\n",
       "    .dataframe tbody tr th:only-of-type {\n",
       "        vertical-align: middle;\n",
       "    }\n",
       "\n",
       "    .dataframe tbody tr th {\n",
       "        vertical-align: top;\n",
       "    }\n",
       "\n",
       "    .dataframe thead th {\n",
       "        text-align: right;\n",
       "    }\n",
       "</style>\n",
       "<table border=\"1\" class=\"dataframe\">\n",
       "  <thead>\n",
       "    <tr style=\"text-align: right;\">\n",
       "      <th></th>\n",
       "      <th>Symbol</th>\n",
       "      <th>Dollar_Symbol</th>\n",
       "      <th>Name</th>\n",
       "    </tr>\n",
       "  </thead>\n",
       "  <tbody>\n",
       "    <tr>\n",
       "      <th>0</th>\n",
       "      <td>A</td>\n",
       "      <td>$A</td>\n",
       "      <td>Agilent Technologies Inc. Common Stock</td>\n",
       "    </tr>\n",
       "    <tr>\n",
       "      <th>1</th>\n",
       "      <td>AA</td>\n",
       "      <td>$AA</td>\n",
       "      <td>Alcoa Corporation Common Stock</td>\n",
       "    </tr>\n",
       "    <tr>\n",
       "      <th>2</th>\n",
       "      <td>AAC</td>\n",
       "      <td>$AAC</td>\n",
       "      <td>Ares Acquisition Corporation Class A Ordinary ...</td>\n",
       "    </tr>\n",
       "    <tr>\n",
       "      <th>3</th>\n",
       "      <td>AAIN</td>\n",
       "      <td>$AAIN</td>\n",
       "      <td>Arlington Asset Investment Corp 6.000% Senior ...</td>\n",
       "    </tr>\n",
       "    <tr>\n",
       "      <th>4</th>\n",
       "      <td>AAL</td>\n",
       "      <td>$AAL</td>\n",
       "      <td>American Airlines Group Inc. Common Stock</td>\n",
       "    </tr>\n",
       "  </tbody>\n",
       "</table>\n",
       "</div>"
      ],
      "text/plain": [
       "  Symbol Dollar_Symbol                                               Name\n",
       "0      A            $A             Agilent Technologies Inc. Common Stock\n",
       "1     AA           $AA                    Alcoa Corporation Common Stock \n",
       "2    AAC          $AAC  Ares Acquisition Corporation Class A Ordinary ...\n",
       "3   AAIN         $AAIN  Arlington Asset Investment Corp 6.000% Senior ...\n",
       "4    AAL          $AAL          American Airlines Group Inc. Common Stock"
      ]
     },
     "execution_count": 96,
     "metadata": {},
     "output_type": "execute_result"
    }
   ],
   "source": [
    "# a new dataframe with the Symbol column from nasdaq then the symbols list named \"dollar_symbol\" and then the Name column from nasdaq\n",
    "symbols = pd.DataFrame(nasdaq['Symbol'])\n",
    "symbols['Dollar_Symbol'] = dollar_list\n",
    "symbols['Name'] = nasdaq['Name']\n",
    "symbols.head()"
   ]
  },
  {
   "cell_type": "code",
   "execution_count": 100,
   "metadata": {},
   "outputs": [
    {
     "data": {
      "text/html": [
       "<div>\n",
       "<style scoped>\n",
       "    .dataframe tbody tr th:only-of-type {\n",
       "        vertical-align: middle;\n",
       "    }\n",
       "\n",
       "    .dataframe tbody tr th {\n",
       "        vertical-align: top;\n",
       "    }\n",
       "\n",
       "    .dataframe thead th {\n",
       "        text-align: right;\n",
       "    }\n",
       "</style>\n",
       "<table border=\"1\" class=\"dataframe\">\n",
       "  <thead>\n",
       "    <tr style=\"text-align: right;\">\n",
       "      <th></th>\n",
       "      <th>Symbol</th>\n",
       "      <th>Dollar_Symbol</th>\n",
       "      <th>Name</th>\n",
       "    </tr>\n",
       "  </thead>\n",
       "  <tbody>\n",
       "    <tr>\n",
       "      <th>0</th>\n",
       "      <td>$A</td>\n",
       "      <td>$A</td>\n",
       "      <td>Agilent Technologies Inc. Common Stock</td>\n",
       "    </tr>\n",
       "    <tr>\n",
       "      <th>1</th>\n",
       "      <td>AA</td>\n",
       "      <td>$AA</td>\n",
       "      <td>Alcoa Corporation Common Stock</td>\n",
       "    </tr>\n",
       "    <tr>\n",
       "      <th>2</th>\n",
       "      <td>AAC</td>\n",
       "      <td>$AAC</td>\n",
       "      <td>Ares Acquisition Corporation Class A Ordinary ...</td>\n",
       "    </tr>\n",
       "    <tr>\n",
       "      <th>3</th>\n",
       "      <td>AAIN</td>\n",
       "      <td>$AAIN</td>\n",
       "      <td>Arlington Asset Investment Corp 6.000% Senior ...</td>\n",
       "    </tr>\n",
       "    <tr>\n",
       "      <th>4</th>\n",
       "      <td>AAL</td>\n",
       "      <td>$AAL</td>\n",
       "      <td>American Airlines Group Inc. Common Stock</td>\n",
       "    </tr>\n",
       "  </tbody>\n",
       "</table>\n",
       "</div>"
      ],
      "text/plain": [
       "  Symbol Dollar_Symbol                                               Name\n",
       "0     $A            $A             Agilent Technologies Inc. Common Stock\n",
       "1     AA           $AA                    Alcoa Corporation Common Stock \n",
       "2    AAC          $AAC  Ares Acquisition Corporation Class A Ordinary ...\n",
       "3   AAIN         $AAIN  Arlington Asset Investment Corp 6.000% Senior ...\n",
       "4    AAL          $AAL          American Airlines Group Inc. Common Stock"
      ]
     },
     "execution_count": 100,
     "metadata": {},
     "output_type": "execute_result"
    }
   ],
   "source": [
    "#add a \"$\" to all these instances to the \"Symbol\" column with a loop\n",
    "for i in range(len(symbols)):\n",
    "    if len(symbols['Symbol'][i]) == 1:\n",
    "        symbols['Symbol'][i] = '$' + symbols['Symbol'][i]\n",
    "symbols.head()\n",
    "\n"
   ]
  },
  {
   "cell_type": "code",
   "execution_count": 101,
   "metadata": {},
   "outputs": [],
   "source": [
    "#write only the first 2 columns without the index to a new csv file named symbols.csv\n",
    "symbols.to_csv('symbols.csv', index=False)\n"
   ]
  },
  {
   "cell_type": "code",
   "execution_count": 102,
   "metadata": {},
   "outputs": [
    {
     "data": {
      "text/html": [
       "<div>\n",
       "<style scoped>\n",
       "    .dataframe tbody tr th:only-of-type {\n",
       "        vertical-align: middle;\n",
       "    }\n",
       "\n",
       "    .dataframe tbody tr th {\n",
       "        vertical-align: top;\n",
       "    }\n",
       "\n",
       "    .dataframe thead th {\n",
       "        text-align: right;\n",
       "    }\n",
       "</style>\n",
       "<table border=\"1\" class=\"dataframe\">\n",
       "  <thead>\n",
       "    <tr style=\"text-align: right;\">\n",
       "      <th></th>\n",
       "      <th>Symbol</th>\n",
       "      <th>Dollar_Symbol</th>\n",
       "      <th>Name</th>\n",
       "    </tr>\n",
       "  </thead>\n",
       "  <tbody>\n",
       "    <tr>\n",
       "      <th>0</th>\n",
       "      <td>$A</td>\n",
       "      <td>$A</td>\n",
       "      <td>Agilent Technologies Inc. Common Stock</td>\n",
       "    </tr>\n",
       "    <tr>\n",
       "      <th>1</th>\n",
       "      <td>AA</td>\n",
       "      <td>$AA</td>\n",
       "      <td>Alcoa Corporation Common Stock</td>\n",
       "    </tr>\n",
       "    <tr>\n",
       "      <th>2</th>\n",
       "      <td>AAC</td>\n",
       "      <td>$AAC</td>\n",
       "      <td>Ares Acquisition Corporation Class A Ordinary ...</td>\n",
       "    </tr>\n",
       "    <tr>\n",
       "      <th>3</th>\n",
       "      <td>AAIN</td>\n",
       "      <td>$AAIN</td>\n",
       "      <td>Arlington Asset Investment Corp 6.000% Senior ...</td>\n",
       "    </tr>\n",
       "    <tr>\n",
       "      <th>4</th>\n",
       "      <td>AAL</td>\n",
       "      <td>$AAL</td>\n",
       "      <td>American Airlines Group Inc. Common Stock</td>\n",
       "    </tr>\n",
       "    <tr>\n",
       "      <th>5</th>\n",
       "      <td>AAN</td>\n",
       "      <td>$AAN</td>\n",
       "      <td>Aarons Holdings Company Inc. Common Stock</td>\n",
       "    </tr>\n",
       "    <tr>\n",
       "      <th>6</th>\n",
       "      <td>AAON</td>\n",
       "      <td>$AAON</td>\n",
       "      <td>AAON Inc. Common Stock</td>\n",
       "    </tr>\n",
       "    <tr>\n",
       "      <th>7</th>\n",
       "      <td>AAP</td>\n",
       "      <td>$AAP</td>\n",
       "      <td>Advance Auto Parts Inc.</td>\n",
       "    </tr>\n",
       "    <tr>\n",
       "      <th>8</th>\n",
       "      <td>AAPL</td>\n",
       "      <td>$AAPL</td>\n",
       "      <td>Apple Inc. Common Stock</td>\n",
       "    </tr>\n",
       "    <tr>\n",
       "      <th>9</th>\n",
       "      <td>AAT</td>\n",
       "      <td>$AAT</td>\n",
       "      <td>American Assets Trust Inc. Common Stock</td>\n",
       "    </tr>\n",
       "  </tbody>\n",
       "</table>\n",
       "</div>"
      ],
      "text/plain": [
       "  Symbol Dollar_Symbol                                               Name\n",
       "0     $A            $A             Agilent Technologies Inc. Common Stock\n",
       "1     AA           $AA                    Alcoa Corporation Common Stock \n",
       "2    AAC          $AAC  Ares Acquisition Corporation Class A Ordinary ...\n",
       "3   AAIN         $AAIN  Arlington Asset Investment Corp 6.000% Senior ...\n",
       "4    AAL          $AAL          American Airlines Group Inc. Common Stock\n",
       "5    AAN          $AAN         Aarons Holdings Company Inc. Common Stock \n",
       "6   AAON         $AAON                             AAON Inc. Common Stock\n",
       "7    AAP          $AAP                            Advance Auto Parts Inc.\n",
       "8   AAPL         $AAPL                            Apple Inc. Common Stock\n",
       "9    AAT          $AAT            American Assets Trust Inc. Common Stock"
      ]
     },
     "execution_count": 102,
     "metadata": {},
     "output_type": "execute_result"
    }
   ],
   "source": [
    "#read the new csv file\n",
    "symbols = pd.read_csv('symbols.csv')\n",
    "symbols.head(10)\n"
   ]
  },
  {
   "cell_type": "markdown",
   "metadata": {},
   "source": [
    "## Find the number of instances of the tickers in the data collected\n",
    "\n"
   ]
  },
  {
   "cell_type": "markdown",
   "metadata": {},
   "source": [
    "import the updated CSV file for further research."
   ]
  },
  {
   "cell_type": "markdown",
   "metadata": {},
   "source": [
    "## Step 2\n"
   ]
  },
  {
   "cell_type": "code",
   "execution_count": 103,
   "metadata": {},
   "outputs": [
    {
     "data": {
      "text/html": [
       "<div>\n",
       "<style scoped>\n",
       "    .dataframe tbody tr th:only-of-type {\n",
       "        vertical-align: middle;\n",
       "    }\n",
       "\n",
       "    .dataframe tbody tr th {\n",
       "        vertical-align: top;\n",
       "    }\n",
       "\n",
       "    .dataframe thead th {\n",
       "        text-align: right;\n",
       "    }\n",
       "</style>\n",
       "<table border=\"1\" class=\"dataframe\">\n",
       "  <thead>\n",
       "    <tr style=\"text-align: right;\">\n",
       "      <th></th>\n",
       "      <th>Symbol</th>\n",
       "      <th>Dollar_Symbol</th>\n",
       "      <th>Name</th>\n",
       "    </tr>\n",
       "  </thead>\n",
       "  <tbody>\n",
       "    <tr>\n",
       "      <th>0</th>\n",
       "      <td>$A</td>\n",
       "      <td>$A</td>\n",
       "      <td>Agilent Technologies Inc. Common Stock</td>\n",
       "    </tr>\n",
       "    <tr>\n",
       "      <th>1</th>\n",
       "      <td>AA</td>\n",
       "      <td>$AA</td>\n",
       "      <td>Alcoa Corporation Common Stock</td>\n",
       "    </tr>\n",
       "    <tr>\n",
       "      <th>2</th>\n",
       "      <td>AAC</td>\n",
       "      <td>$AAC</td>\n",
       "      <td>Ares Acquisition Corporation Class A Ordinary ...</td>\n",
       "    </tr>\n",
       "    <tr>\n",
       "      <th>3</th>\n",
       "      <td>AAIN</td>\n",
       "      <td>$AAIN</td>\n",
       "      <td>Arlington Asset Investment Corp 6.000% Senior ...</td>\n",
       "    </tr>\n",
       "    <tr>\n",
       "      <th>4</th>\n",
       "      <td>AAL</td>\n",
       "      <td>$AAL</td>\n",
       "      <td>American Airlines Group Inc. Common Stock</td>\n",
       "    </tr>\n",
       "  </tbody>\n",
       "</table>\n",
       "</div>"
      ],
      "text/plain": [
       "  Symbol Dollar_Symbol                                               Name\n",
       "0     $A            $A             Agilent Technologies Inc. Common Stock\n",
       "1     AA           $AA                    Alcoa Corporation Common Stock \n",
       "2    AAC          $AAC  Ares Acquisition Corporation Class A Ordinary ...\n",
       "3   AAIN         $AAIN  Arlington Asset Investment Corp 6.000% Senior ...\n",
       "4    AAL          $AAL          American Airlines Group Inc. Common Stock"
      ]
     },
     "execution_count": 103,
     "metadata": {},
     "output_type": "execute_result"
    }
   ],
   "source": [
    "#import symbols from the csv file\n",
    "symbols = pd.read_csv('symbols.csv')  \n",
    "symbols.head()\n"
   ]
  },
  {
   "cell_type": "code",
   "execution_count": 123,
   "metadata": {},
   "outputs": [
    {
     "data": {
      "text/html": [
       "<div>\n",
       "<style scoped>\n",
       "    .dataframe tbody tr th:only-of-type {\n",
       "        vertical-align: middle;\n",
       "    }\n",
       "\n",
       "    .dataframe tbody tr th {\n",
       "        vertical-align: top;\n",
       "    }\n",
       "\n",
       "    .dataframe thead th {\n",
       "        text-align: right;\n",
       "    }\n",
       "</style>\n",
       "<table border=\"1\" class=\"dataframe\">\n",
       "  <thead>\n",
       "    <tr style=\"text-align: right;\">\n",
       "      <th></th>\n",
       "      <th>Symbol</th>\n",
       "      <th>Dollar_Symbol</th>\n",
       "      <th>Name</th>\n",
       "    </tr>\n",
       "  </thead>\n",
       "  <tbody>\n",
       "    <tr>\n",
       "      <th>104</th>\n",
       "      <td>AI</td>\n",
       "      <td>$AI</td>\n",
       "      <td>C3.ai Inc. Class A Common Stock</td>\n",
       "    </tr>\n",
       "  </tbody>\n",
       "</table>\n",
       "</div>"
      ],
      "text/plain": [
       "    Symbol Dollar_Symbol                             Name\n",
       "104     AI           $AI  C3.ai Inc. Class A Common Stock"
      ]
     },
     "execution_count": 123,
     "metadata": {},
     "output_type": "execute_result"
    }
   ],
   "source": [
    "#find the row number of the symbol 'AAPL'\n",
    "symbols[symbols['Symbol'] == 'AI']"
   ]
  },
  {
   "cell_type": "code",
   "execution_count": 105,
   "metadata": {},
   "outputs": [
    {
     "data": {
      "text/plain": [
       "3718"
      ]
     },
     "execution_count": 105,
     "metadata": {},
     "output_type": "execute_result"
    }
   ],
   "source": [
    "len(symbols)"
   ]
  },
  {
   "cell_type": "markdown",
   "metadata": {},
   "source": [
    "## Step 3 - get hot data"
   ]
  },
  {
   "cell_type": "code",
   "execution_count": 4,
   "metadata": {},
   "outputs": [
    {
     "data": {
      "text/plain": [
       "4415"
      ]
     },
     "execution_count": 4,
     "metadata": {},
     "output_type": "execute_result"
    }
   ],
   "source": [
    "#import the hot text file to a list\n",
    "hot = open('hot.txt').read().split('\\n')\n",
    "#count the number of items in the list\n",
    "len(hot)"
   ]
  },
  {
   "cell_type": "markdown",
   "metadata": {},
   "source": [
    "## Step 4 - Dictioneries"
   ]
  },
  {
   "cell_type": "code",
   "execution_count": 8,
   "metadata": {},
   "outputs": [
    {
     "name": "stdout",
     "output_type": "stream",
     "text": [
      "{'2023-03-16': ['What Are Your Moves Tomorrow, March 16, 2023', 'Most Anticipated Earnings Releases for the week beginning March 13th, 2023', 'Eggon says “GME go up” after earnings. ⬆️', 'Goldman Sachs: 99% of borrowers have a mortgage rate lower than the current market rate', 'Who would have thought?', 'Live look at banks', 'Warning from the treasury market', 'Credit Suisse shares suspended, banking crisis deepens', \"let me introduce you to the infinite Frosty glitch from Wendy - apply for their jobs, and get a free frosty whenever you're not selected.\", '#DWAC and Trump Media Being investigated for Money Laundering for Russians', 'Credit Suisse to borrow up to about $54 billion from Swiss National Bank', 'It’s confirmed, Rivian has gone tits up!', 'Swiss National Bank says it will provide Credit Suisse with liquidity if necessary', '\"Credit suisse is a great company\"', 'Wen bankruptcy?', 'Robinhood Users Say The Trading App Won’t Cash In Their Profitable Bets Against Silicon Valley Bank', 'Aging like a taco bell you just ate', 'The Roaring 20s', 'Reddit just mooned, thoughts ?', 'Carl Icahn explains Twitter.', 'A simple calculation', 'Day 3 of Photoshopping failing banks on their way to a “meeting”with the FED', 'Here is a list of companies that are currently exposed to high levels of debt financing and the incoming credit crunch. Choose your short.', 'Jim Cramer Emo Remix - I made a mistake (SVB, Signature Bank & Meta Apology) - Lil Bubble', 'Biden reverses on TikTok', 'Can’t make this sh*t up. Schwab CEO vs. The Big Short', '+1000% on 0DTE Overnight You Fucking Nerds!', \"Credit Swiss' chairman has a very appropriate name\", '0DTE Gains Part 3: $150,000+', 'The time of the bear has come, buckle up buckaroos 🐻', 'Why SVB is just the beginning: Part II Eurodollar edition, from a investment analyst', 'YOLO', '(Pure speculation) I think J Pow confirms 25 base pts, or pause.', \"'Credit Suisse To Collapse Next', Says Robert Kiyosaki Who Predicted Lehman Brothers' Fall\", 'Joseph Gentile Destroying Capitalism', 'Breaking News via Bloomberg', 'First Republic Bank, is said to weigh options including a sale, per Bloomberg', 'Swiss National Bank says it will provide Credit Suisse with liquidity if necessary', 'Credit Suisse: Short term CDS at >830 bps', 'Gotta bankrupt them all', 'Switzerland faces pressure from at least one major government to intervene on Credit Suisse', 'CNBC doing JPow dirty with this pic', 'Hey, bank for sale..! For sale?', 'FDIC is Daddy', 'NVDA CFO just sold a bunch of stock, probably nothing.', 'How everyone is looking at CS right now...', 'Credit Suisse mooning tomorrow?', 'FEDs are not bailing out banks, they are bailing out the bond market.', 'All this wishful thinking JPOW is suddenly their friend...', 'Snap & Meta stock surges on report that Biden may ban TikTok', 'Daily Discussion Thread for March 15, 2023', 'President Joe Biden on Monday underscored that the American banking system remains safe', 'Virgin Orbit pauses operations for a week, furloughs nearly entire staff as it seeks funding', 'The SVB crisis, explained in ten seconds', 'Brrr...', 'Recession Confirmed!', 'The Federal Home Loans Banks sold 90B in bonds and treasuries to raise liquidity for commercial banks. Tick fucking tock.', 'Nothing to see here.. keep it movin…', '\"you met me at a very strange time in my life\"', 'The volatility continues… 3-15-23 SPY/ ES Futures, DXY, 10YR and VIX Daily Market Analysis', 'Adjusted CET1 capital ratio for unrealised losses', \"Could a SVB's collapse been prevented if the accounting rules for recognizing bond losses were required to mark-to market?\", '143K gain riding the S&P rodeo. ES, SPX 0-days. Thanks Europe, keep it going!', 'RIP BULLZ', 'Credit Suisse = Lehman Brothers', 'Everyone mass buying gold post-SVB collapse', \"Life moves pretty fast when you're having fun\", 'Jackson Hole 2.0 Speech Leak', 'I’m a fucking degenerate regard - YOLO 100x SPY 388P 3/17', '100% Batting Average today- +$12k', 'Weekend Discussion Thread for the Weekend of March 18, 2023', 'Most Anticipated Earnings Releases for the week beginning March 20th, 2023', 'How it feels', 'Imagine', 'JPOW did nothing wrong', 'Summary of Yellen’s testimony yesterday', 'Jpow VW effect', 'For people who think the banks are fine…', 'WSB autist impresses the ladies', \"Noted... In the future only deposit into banks that can't fail\", 'The cycle of the market', '40K Stock YOLO on BAC', 'Update from the fed', 'DO NOT hold near-expiry Puts on any stock that might collapse. Brokers are refusing to honor Puts on halted bank stocks…YOU WILL LOSE 100%', 'Fed balance sheet ticks up massively. Lots of banks wanted liquidity.', 'SVB Saga', 'WELP peeps there waiting and ready for the crash', 'THE INVESTOOR', 'Fed poised to approve quarter-point rate hike next week, despite market turmoil', 'Why printer is back on… 2023 is worse than 2008 in terms of deposits held by failed banks.', 'Credit Suisse getting desperate for liquidity', 'I feel like we’re watching The Big Short in real time', \"One of these days we'll figure it out, right? ...guys?\", 'I guess this is the right day for this meme? Or maybe wait a few more weeks?', 'Fed pivoting their balance sheet strategy while inflation is still 6% year-over-year', '1... 2... FRED is coming for you...', \"Memes create dreams. We're going to the moon folks 🚀🫡\", 'RIP Quantitative Tightening', 'Got ‘em. Bulls on parade.', \"Are you ready to party like it's 1929? Why just have a depression when you can have a GREAT Depression? 🍾🍸🤠🥂\", 'FRC moments after the money hits', 'Deal of the year 💸💸 already backed by Bank of America.', 'Update: High Probability Recession Hits U.S. in Late 2023'], '2023-03-17': ['Daily Discussion Thread for March 17, 2023', 'I’m sorry, little ones', \"How Jerome's Week Went\", 'The Insurance Sector and the Bank Bailout Effect', 'SPY YOLO profits from yesterday. Get ready for more dick today Bers!', 'Question about making money of dividends.', '\"No one guzzles leverage quite like Realtors, no one\"', '“Inflation is always and everywhere a monetary phenomenon” - Milton Friedman', 'AI CEO ON GPT-4: THIS CAN GET “SUPER-DANGEROUS VERY QUICKLY”', 'Bank Failure Stock and Options Trading Activity', 'No one is goin have a good time fr fr', 'FRC 30B sunk cost fallacy: The leverage is on the wall st.', 'Denis Rodman explains in simple terms about FED bailouts', 'The BOIL regard, post your porn loss!', 'I think we should be bearish in every bank', \"Government won't bail out the failing banks, so the big banks are bailing out the failing bank with OUR deposits, how is this different?\", 'Swiss flag after Credit Suisse', 'How crazy was Silicon Valley Bank’s zero-hedge strategy?', 'Credit Suisse sheds another 5% as traders digest emergency liquidity', 'Strolling through the financial district and look who popped up to let me know we’d be blessed with hulk dicks all day. Absolute legend', 'Coming this year', 'How are you guys trading this Price action?', '$93k big bank yolo, too big to fail', 'Banks right now be like...', 'Meh I can get used to this', 'Jim Cramer is a moron who agrees?', 'Covid or Hyperinflation?', 'How the fed be handling the bank run…', \"Why First Republic Bank's Stock Probably won't Recover\", 'Best buys right now', 'Meandering rant on banks and VR', 'When Jerome hits with that .75 instead next week'], '2023-03-18': ['Weekend Discussion Thread for the Weekend of March 18, 2023', 'Most Anticipated Earnings Releases for the week beginning March 20th, 2023', 'Next time, it’ll be different.', 'Now this is the kind of financial news I want to see!', 'The Federal Reserve right now', 'We just started', 'Midsize US Banks Ask FDIC to Insure All Deposits for Two Years', 'RIP Shareholders - UBS offers to buy CS for up to $1bn. Swiss authorities expected to change country’s law to bypass UBS shareholder vote.', 'Don’t worry', 'How much money did you lose?', 'Bank Failures 2001-2023 (Inflation Adjusted)', 'So hot', 'Fed goes brrrrrrrrrrrrr', 'If our banking system was a gy', 'Accurate Swiss negotiations', 'Saw this headline, excited for whatever you guys are up to', 'Retail Investor vs Accredited Investor', 'Pivot already started, Jpow will have to explain why he printed money last week at the FOMC meeting', 'UBS offers to buy Credit Suisse for $0.25 a share', 'Bloomberg: Credit Suisse said to push back against UBS $1 Billion offer.', 'Powell’s bane', 'BTC is 20% up in 5 days, 30% down in 1 year', 'Jpow as the Joker dealing with the Banking Crisis!', 'The only Debit Suisse chart that shows outperformance:', '$FRC When JP Morgan invests billions in uninsured deposits and gives a $62 price target but some rando hack analyst gives a $5 price target', 'I’m Gonna Wreck It!!!', 'Puts on Stocktwits', 'Midsize U.S. banks reportedly ask the FDIC to insure all deposits for two years', 'Troubled Banks', \"JUST IN: Credit Suisse is pushing back against UBS's $1 billion offer\", 'Looking across ALL global currencies, gold is already well into an historic ATH run. Gold mining company stocks are WAY behind.', 'These spam bots are getting a bit annoying', 'Credit Suisse thinks UBS offer is too low and would hurt the shareholders. CS stock is down 98% so who will it hurt?', 'The Contagion of Credit Suisse default: Swiss interbank lending market for regional banks is collapsing', 'Sums it up', 'Live look at jpow saving the banks', '4 Emotions of a BAD Stock Trade', 'Decennial', 'Friend of mine sent me this text asking where to buy SIVB stonks. Who’s gonna tell him?', 'Berkshire Hathaway vs. S&P 500', 'Learning from history, how will the Federal Reserve handle this crisis?', \"You're never too big to fail, when you're FAMILY\", 'UBS seeks US$6b in govt guarantees for Credit Suisse takeover: source', 'Powell is getting ready for more QE injections. I heard he’s jonesing for them.', 'Anticipating the Fed’s Next Move.....', 'John Oliver talking about Banks and Jim Cramer', 'Hella catchy', 'DD on the First Republic Bank ($FRC)', 'Regarding banks', 'Does CEO matter in stock returns? A look at select tickers.', 'How much the FED will raise rates', 'Market Cycle Cheat Sheet', 'Is Jay Powell like the “thinker” of the fed or the “face” of it', \"Despite UBS and Credit Squeeze's refusal to merge, Switzerland government is now forcing UBS to hold Debit Suisse's bags\", 'This was from Deadpool vs Carnage comic, a decade ago.', 'UBS nears deal to take over Credit Suisse: ReportAge of Easy Money PBS Frontline', 'A story in three parts lmfaoPortfolio shuffle, all in into gold!!', 'How is the Bankrun Going around $FRC, First Republic Bank stores?', 'How it feels', 'Too Big to Succeed - Rates, Bank closures and impending market turmoil', \"🚀🌕 NVDA: Crypto Slump Ain't Holding Us Back – Gaming Revenues Ready to Blast Off! 💥🎮\", 'Remembered this post from a few years ago after reading this article.', \"I'm not a huge fan of technical analysis but Gold is forming a huge cup and handle formation that has been decades in the works.\", 'Interest rates hike and inflation - question', 'Some context for the current banking problems', '$FRC It’s just me and Buffett. LFG', 'Summary of Yellen’s testimony yesterday', 'ECONOMIC RESEARCH FEDERAL RESERVE BANK OF ST. LOUIS. Why Are the Wealthiest So Wealthy Report', 'Banking crisis in a nutshell', 'Not Banks, but Insurance is the problem. (Maybe)?', 'Should the Fed’s new BTFP also offer long-term maturities?', 'Crazy Idea, Hear Me Out', 'ZIM Analysts have revised up earnings for 2023 to 42 cents from 24 cents after 3.44 was made 4th Qtr 2022, 6.40 Dividend announced', 'Daddy Powell is ripped!', 'Super Bank Creampie', 'Hindsight 20/20', 'Private Funds will be the next massive problem for the Fed.', 'Example of how long quantitative tightening lasted', 'Fed Rate Hike Next Week', 'BlackRock explored rival Credit Suisse takeover bid', 'WSB discord', 'ECB went ahead with 50bp hike. What hopium did our bond market smoke last week?', 'First Republic is conservatively worth $83 / share', 'DO NOT hold near-expiry Puts on any stock that might collapse. Brokers are refusing to honor Puts on halted bank stocks…', 'YOU WILL LOSE 100%', 'UBS eyeing swoop for Credit Suisse amid fears of banking contagion', 'THE INVESTOORSVB Saga', 'And then it was Junk. First Republic bank gets ratings downgrade tonight.', \"What's going on with Pactiv-Evergreen (PTVE)?\", 'My life the last 4 weeks', '2023-03-20 Wrinkle-brain Plays (Mathematically derived options plays)', 'When a bank or hedge fund declares bankruptcy and is short any stock & they don’t have resources to cover', 'Michael Burry’s Chart for Banks with regard to deposit ratio and unrealized losses', 'Question about low-interest rate mortgages during a bank collapse?', 'Line Rider on bank stocks 🛷📉', 'Do you think inflation is over considering that oil has fallen to $66?', 'How do you guys value stocks?', 'Why is FRC Bank so undervalued?'], '2023-03-20': ['Daily Discussion Thread for March 20, 2023.', 'SBF is surprised.', 'Fake Jobs, Fake Economy, Fake Money, is anything real?', 'Credit Suisse (CSGN.SW) down 60+% in European markets. Blood is on the streets.', 'Banking in 2024.', 'Breaking: Emergency Fed Chair Speech before FOMC - JPOW speaks.', 'The $17 billion wipeout of Credit Suisse bondholders has not gone down well in Europe.', 'The last few weeks in a nutshell.', 'Rock and a hard place.', \"RIP Janet Yellen. Committed seppoku so that she wouldn't be wrong in saying there wouldn't be another financial crisis in her lifetime.\", \"Hey! I've seen this one before!\", 'Fed found problems with SVB four years ago, but still let the Black Swan event happen ....', \"Sadly can't relate to the potential crisis.\", 'State of matters.', 'Everything is going to be fine.', 'UBS shares slide 5%, Credit Suisse craters 60% after takeover deal.', 'My losses are offset by my gains = back to 0.', \"Let's play a game.\", 'Here I go again!', '2023 Bank customer service.', 'The Famous Ball and Shaft Pattern - TA says up or down?', 'A disturbance.', 'Regional banks and uninsured deposits. Can you name a better duo?', 'Well that worked… 🤔', 'CEO of Credit Suisse goes on media saying liquidity is very very strong then sells it to UBS for pennies on the dollar.', 'Imagine being the bondholder reading that equity was given preference over you🤣.', 'Feds and Inflation.', 'The start of the Credit Suisse downfall.', 'UBS agrees to buy Credit Suisse for more than $2 billion, Financial Times reports.', 'Jamie Dimon Leading Efforts to Craft New First Republic Bank Rescue Plan.', \"I'm tired, boss.\", 'BANKS RIGHT NOW.', '$CS right now …', 'No risk, no reward?', 'Fate of First Republic Uncertain as Shares Plummet Again.', 'The Greeks explained in a dick joke... (sigh).', 'The real victims are the banks. If you disagree with my take IDC I spent more time (not long) making the video than planning my positions.', 'A short-story repost; from Evergrande to UBS 😂.', 'FRC $20K Yolo | 420x Call Contracts | Expire 03/24/2023 | 35.00 Strike | 50c Cost Basis.', '60GB Deutsche Bank data allegedly for sale on the dark web...', 'Study finds 186 banks vulnerable to SVB-like collapse.', 'Amazon announces 9,000 job cuts in the face of an uncertain economy.', 'Nice.', 'Jerome Powell FOMC Quotes & Market Prediction.', 'Is this time different or the same?', 'Fixed view of Zurich Paradeplatz.', \"This didn't age well.\", '$11k NVDA Long Put YOLO (plus a little chicanery insurance) — wish me luck!!', 'Credit Suisse down -56% in Pre-market on takeover from UBS!', 'Bloomberg Terminal FRC Long Term Value.', 'No Jail, Pass Go, Collect $2T.', 'You broke my heart, Credit Suisse.', 'Global stocks sink after Credit Suisse takeover.', \"The Great Financial Collapse of 2023. Comparison of Bear Stearns' collapse in March 2008 and Credit Suisse in March 2023.\", \"I think this is the last straw. I'm exhausted and tired. I don't think I can keep going.\", 'PACW update, has $10.8 billion in cash and can cover all uninsured deposits! Bullish!', 'First Republic Bank - May not survive by this Friday. Powell keeps on increasing rates.', \"Next time, it'll be different.\", 'UBS buys Credit Suisse for $3.2 billion as regulators look to shore up the global banking system.', 'And the dip goes on...', 'Leaked notes from the upcoming FOMC.', 'How the UBS/Credit Suisse Negotiations Went.', 'Credit Suisse promises to pay bonuses despite UBS rescue.', 'Best Options Report Week of March 20th.', \"RIP Shareholders - UBS offers to buy CS for up to $1 billion. Swiss authorities expected to change the country's law to bypass UBS shareholder vote.\", 'Too Big To Fail.', 'AT1 to CET1 evaluation after Credit Suisse crisis.', 'S&P cuts First Republic deeper into junk, says $30 billion infusion may not solve problems.', 'UBS is not paying $3 billion (or any other amount) for Credit Suisse.', 'Sharon Stone: I lost half my fortune in the banking crisis (One of Us!).', 'UBS agrees to buy Credit Suisse for more than $2 billion, Financial Times reports.', 'Bank giant UBS has officially announced its full acquisition of Credit Suisse.', 'How far is this bank crisis going?', 'Will the Fed give the greatest head fake of all time and slap a 50bps this week?', 'MR.Everchosen.', 'March 20 replay, see short do short.', 'Lieutenant Dan Got Me Invested In Some Kind Of Fruit Company.', 'CS in Germany. Going down... Preparing for tomorrow.', \"JUST IN: Credit Suisse is pushing back against UBS's $1 billion offer.\", 'What Are Your Moves Tomorrow, March 20, 2023.', 'Sir Pow.', \"UBS.... they're the big cheese now.\", 'QE for Me, QT for Thee.', '$25.7K YOLO on AMD NVDA, my gf is out with Powell tonight.', 'Now this is the kind of financial news I want to see!', \"Déjà vu. Credit Suisse's board of directors Chairman is Mr. Lehmann.\", 'But what about MBS as the rates have skyrocketed?', 'The Fed putting back the economy on its feet by giving bonuses to bank CEOs.', 'Morning Briefing 🌞 Mar 20th 2023.', \"Credit Suisse's $17 Billion of Risky Bonds Are Now Worthless.\", 'Low effort JPOW meme 🐻🌈.', \"You're never too big to fail when you're FAMILY.\", 'Pay no attention to that man behind the curtain.', 'FED Cooperates With A Series Of Central Banks To Enhance USD Liquidity.', 'Fed goes brrrrrrrrrrrrr.', 'DB up next for collapse?', 'New Bankfall Chronicles.', 'Stocks will go up, Real Estate will go down.', \"How did SVB slip through regulators' fingers?\", 'Unemployed guy explains Greeks.'], '2023-03-21': ['Daily Discussion Thread for March 21, 2023.', 'Most Anticipated Earnings Releases for the week beginning March 20th, 2023.', 'The original \"when to make money\" bro from the 1800s.', '🥲.', 'JPMorgan Chase thought it had $1.3 million worth of nickel stored in a warehouse. A closer examination revealed bags of stones.', 'Flashback: On June 2017, Janet Yellen said \"I don\\'t believe we\\'ll see another financial crisis in our lifetime.\"', 'Me trying to find a safe place for my money.', 'The Fed only had $128 billion in FDIC insurance funds. It gave SVB and Signature bank $143 billion. It has no more money for bailouts.', 'The last few weeks in a nutshell.', '$46k FRC yolo.', 'Bitcoin breaking 50 and 200 moving average on the weekly. The last time this occurred, the run was 600% in 10 months. Currently, the target is $80k.', 'Home sales spike 14.5% in February as the median price drops for the first time in over a decade.', \"Sweden's Alecta Sold First Republic Stake at a $727 million loss.\", 'Embracing reality.', '3 days, I lost ~80k from 40k to negative 43k. I will sue Fidelity.', 'Coupla months earlier.', \"This isn't going to end well..\", 'SBF is surprised.', 'First Republic Bank shares sink to another record low.', 'How the sub has looked in the past couple days $FRC.', 'Treasury Secretary Yellen says the government could backstop more deposits if necessary to stop contagion.', 'EOY 2023.', 'Fake Jobs, Fake Economy, Fake Money, is anything real?', 'Dobby is a free elf, Dobby needs a pause.', \"Investor Leon Cooperman says the US is going through a 'textbook' financial crisis and the S&P 500 won't hit a new high for a long time.\", \"Artificial Treasury Prop-up. Here's to a 200 bps hike tomorrow to negate that.\", 'BlackBerry Announces New Patent Sale Transaction with Leading Patent Monetization Company for Up to $900 Million.', \"How the Swiss 'trinity' forced UBS to save Credit Suisse.\", 'The market estimates the odds for a 25bps hike tomorrow to be 86.4%.', 'Neinthing to see here.', 'Shit about to go down this Wednesday.', 'Tesla is poised to report one of its best quarters in China, the latest retail sales data showed. - Reuters.', '🤔.', 'The Absurdity of Modern Finance.', \"The Biggest Banking Crisis of US History | RAY DALIO'S LAST WARNING.\", 'Best Options to Trade 4 Weeks Out.', 'Credit Suisse (CSGN.SW) down 60+% in European markets. Blood is on the streets.', 'FRC $20K Yolo | 420x Call Contracts | Expire 03/24/2023 | 35.00 Strike | 50c Cost Basis.', 'Tiny First Republic Bank, Uncle Yellen Got Your Backstop.', 'Credit Suisse\\'s decline continues! First Republic Bank \"stops the bleeding\" and rises more than 14 in pre-market.', 'Three aggressive rejections followed by a breakdown on VIX, bears are fucked.', 'Somehow NVDA managed to enter a bigger bubble than Sep 2021! \"iT\\'s A bUy\".', '10T Balance sheet by EoY Prediction!', 'First Republic Bank.', 'The real victims are the banks. If you disagree with my take IDC I spent more time (not long) making the video than planning my positions.', 'STABILIZING STATEMENTS ARE HERE.', 'This is bullish, right?', \"So what's it gonna be J Pow.\", 'Banking in 2024.', 'Fed found problems with SVB four years ago, but still let the Black Swan event happen ....', 'Deutsche Bank default up next / inconsistency with AT-1 (Additional Tier 1) notes.', 'The Gov and Fed created a ticking time bomb.', 'The Famous Ball and Shaft Pattern - TA says up or down?', 'The banking industry is really buzzing, and three related points to ponder. With a small survey: What do you think the Fed will do tomorrow?', 'Hmm.. (part 2).', 'The only lambo WallStreetBets users can afford.', 'Breaking: Emergency Fed Chair Speech before FOMC - JPOW speaks.', 'Calls it is!', 'Unpopular opinion but fed will probably hike 50 bps.', 'Imagine being the bondholder reading that equity was given preference over you🤣.', 'Bloomberg: US Studies Ways to Guarantee ALL Bank Deposits If Crisis Expands.', 'Rock and a hard place.', 'The calm before the storm… 2 days till FOMC. 3-20-23 SPY/ ES Futures, VIX, DXY and 10YR Daily Market Analysis.', 'Will the death of the regional banks be the death of the US economy?', 'What Are Your Moves Tomorrow, March 21, 2023.', 'What will happen to the $19 billion of Russian assets frozen at Credit Suisse? 🥶.', 'Feds and Inflation.', 'Regional banks and uninsured deposits. Can you name a better duo?', 'BANKS RIGHT NOW.', 'First Republic Bank - May not survive by this Friday. Powell keeps on increasing rates.', 'State of matters.', 'RedHill Initiates First Community-Setting Warranty Program to Refund Talicia Non-Responders.', \"Hey! I've seen this one before!\", 'Personal analysis of this Fed rate hike.', 'My losses are offset by my gains = back to 0.', \"Sadly can't relate to the potential crisis.\", 'Visiting Robinhood tomorrow. Any spicy questions for them?', \"History doesn't repeat but surely rhymes $CS.\", 'Here I go again!', '[DD] Trump is getting arrested tomorrow. Puts on SPX.', 'Study finds 186 banks vulnerable to SVB-like collapse.', 'Fate of First Republic Uncertain as Shares Plummet Again.', 'UBS shares slide 5%, Credit Suisse craters 60% after takeover deal.', \"I think this is the last straw. I'm exhausted and tired. I don't think I can keep going.\", 'Amazon announces 9,000 job cuts in the face of an uncertain economy.', '10K NVDA PUTS YOLO.', 'TXN all set to 195 and beyond.', 'Everything is going to be fine.', 'NKE: A movie in the offing and more Upside.', 'How the Fed and banks are losing trust step by step with a forecasted 25 basis point rate hike.', 'Well, either knowing it makes no sense when articles like this surface all over the place, it typically means I should get some Calls.', 'Banking situation visualized.', 'What is About to Happen.', 'Credit Suisse promises to pay bonuses despite UBS rescue.', 'The Minsky Moment (New Yorker Article from Jan 27, 2008).', '2023 Bank customer service.', 'Jamie Dimon Leading Efforts to Craft New First Republic Bank Rescue Plan.', 'CEO of Credit Suisse goes on media saying liquidity is very very strong, then sells it to UBS for pennies on the dollar.', 'Pivot or not to Pivot...', 'Well, that worked… 🤔.'], '2023-03-22': ['Daily Discussion Thread for March 22, 2023.', 'This fucking guy...', 'Eggon: \"Are You Not Entertained?!\"', \"(GME) Gamestop earnings. Let's take a closer look...\", 'Thank you for hodling for me $GME gains $252k - $24k cost basis.', 'Jpow at 2:30 pm.', 'Shorts are Clucked 🐔🚀💰📈.', 'NVDA got me feeling like...', 'Switzerland’s emergency rescue of Credit Suisse could cost each and every Swiss person $13,500.', '‘Already past the point of no return’: JPMorgan says the U.S. is probably headed for a recession as economic ‘engines are about to turn off’.', 'America’s banks are missing hundreds of billions of dollars.', 'Retirements a relative concept at this point.', 'I know the deal, congrats and fuck me 🫡❤️ i’ll fuck your wife too 💰🥳.', 'UK inflation jumps to 10.4%. 0.5% ahead of what analysts expected. The government also just gave a pay raise to Publ. Sector + actual stimmys.', \"How I know we're in for a shitstorm.\", 'Jim Cramer is shilling NVIDIA.', 'The original \"when to make money\" bro from the 1800s.', 'Ty GME + 14.1k.', 'Never going to be able to retire?', '$TLRY 🌿🔥 😎 CNBC News - \"Cannabis in Germany will be a success story: Europe’s biggest economy moves closer to weed legalization.\"', 'Aped $1k into GME calls yesterday - LFG.', 'JPMorgan Chase thought it had $1.3 million worth of nickel stored in a warehouse. A closer examination revealed bags of stones.', 'When I explain to people what WSB is.', 'Time to short the absolute fuck out of NVDA - P/E of 120 with stalled revenue and declining earnings growth.', 'Saudi Arabia Lost $1 Billion or 80% on its Credit Suisse Investment.', '2DTE 30k SPY PUTS.', 'How today will go… (bears r fkt).', 'The market estimates the odds for a 25bps hike tomorrow to be 86.4%.', '“The consumer is strong.”', 'The past 2 weeks.', 'Looks like there was hope...', '$46k FRC yolo.', \"Where will the stock market go after tomorrow's Fed meeting?\", '🥲.', 'Banks issuing additional tier 1 capital.', 'Basis points predictions?', 'Pop Quiz Hotshot! The FOMC meeting is here and inflation is still out of control, but now banks are taken hostage with rates, what do you do?', 'Flashback: On June 2017, Janet Yellen said \"I don\\'t believe we\\'ll see another financial crisis in our lifetime.\"', 'The state of the market this week.', 'UBS-Credit Suisse Takeover Could Lay Off 30k workers.', '50 Mil in profit after 2.2 BIL in sales.', '👁👄👁.', \"Merry Powell Eve - He sneakin' down your chimney.\", 'Small Apple Scalp.', 'Stanford business study shows bank values are actually $2 trillion lower than book value.', 'DAY 12 / HYPERINFLATION TRACKER.', 'Unpopular opinion but fed will probably hike 50 bps.', 'What Are Your Moves Tomorrow, March 22, 2023.', 'To raise or not to raise? How does the Fed choose as banks blow up and hit hyperinflation? What do you think?', 'Interest Rate Meeting.', 'Disrespect your seniors.', 'Insider Trading Weekly Update #031: A(nother) Buffett of Oil | Financial Sector Insiders Buy Bank Shares in Droves | Insider Trading Recap.', 'The face ripper bear market is just around the corner, boys.', 'Me trying to find a safe place for my money.', '10T Balance sheet by EoY Prediction!', 'How are we supposed to expect the markets to react to Jpow tomorrow?', 'Home sales spike 14.5% in February as the median price drops for the first time in over a decade.', 'Reno 911! Federal Reserve Edition.', 'Goldman betting against Fed Raise.', 'Priced in?', 'Pre-FOMC day… let the show begin! 3-21-23 SPY/ ES Futures, VIX, DXY and 10YR Yield Daily Market Analysis.', \"Sweden's Alecta Sold First Republic Stake at a $727 million loss.\", 'Washington prepares for war with Amazon on mergers, antitrust, privacy, and more.', 'Odds for 25 rate hike are 86.4%… How JPow be like tomorrow…', '17 million Disallowed loss on options losses?', 'The Fed only had $128 billion in FDIC insurance funds. It gave SVB and Signature bank $143 billion. It has no more money for bailouts.', 'When to start stop shorting U.S. stocks.', '15k YOLO into FRC.', 'The last few weeks in a nutshell.', \"Expert who coined 'quantitative easing' says Fed too powerful | Fortune.\", 'To the moon! The interest payments of the US Government as old debt is rolled into new one.', \"Help, I don't know what I'm doing.\", 'Eggcellent DD - Cal-Maine Foods ($CALM).', 'The $VIX just gave the middle finger to all the put holders today 😂 including myself 😭.', 'Bitcoin breaking 50 and 200 moving average on the weekly. The last time this occurred, the run was 600% in 10 months. Currently, the target is $80k.', 'Coupla months earlier.', \"Artificial Treasury Prop-up. Here's to a 200 bps hike tomorrow to negate that.\", 'Embracing reality.', '3 days, I lost ~80k from 40k to negative 43k. I will sue Fidelity.', 'White House Takes Aim at Crypto in Scathing Economic Report.', '2023-03-22 Wrinkle-brain Plays (Mathematically derived options plays).', \"This isn't going to end well.\", 'Treasury Secretary Yellen says the government could backstop more deposits if necessary to stop contagion.', 'BlackBerry Announces New Patent Sale Transaction with Leading Patent Monetization Company for Up to $900 Million.', 'UK inflation rises to 10.4%.', 'LUCID TO THE MOON! Last chance to hop on the train 😤😤.', \"Investor Leon Cooperman says the US is going through a 'textbook' financial crisis and the S&P 500 won't hit a new high for a long time.\", \"After the banking crisis, what's next for the $8 trillion MBS market?\", 'First Republic New Debts.', 'First Republic Bank shares sink to another record low.', 'Daily Discussion Thread for March 21, 2023.', 'SBF is surprised.', 'What is About to Happen.', 'How the sub has looked in the past couple of days $FRC.', 'NVDA put yolo.', 'Started with little to nothing in January… back behind Wendy’s dumpster or naw 🤔.', 'Dobby is a free elf, Dobby needs a pause.', 'Tesla is poised to report one of its best quarters in China, the latest retail sales data showed. - Reuters.', 'Small & Medium-Sized Banks Are Getting Worried.', 'U.S. stocks were up 1% at the beginning of the session. First Republic Bank rallies 36% from new lows.', 'EOY 2023.', 'What Are Your Moves Tomorrow, March 23, 2023.', 'Exclusive: JPOW follow-up to Sunday night comments during FOMC press conference.', \"I know the deal, congrats and fuck me 🫡❤️ I'll fuck your wife too 💰🥳\", 'Fed hikes rates by a quarter percentage point despite recent turmoil in the banking sector.', 'Bankers better start pulling up their socks.', 'JPow, Nooooo!!!!!!', 'I blame all of YOU for inflation.', 'Federal Reserve raises interest rates 0.25% to the highest since 2007 amid the bank crisis.', 'This is the guy who saved your puts today. The market turned after this question.', 'Thank you for hodling for me $GME gains $252k - $24k cost basis.', 'This fucking guy...', 'Jpow at 2:30 pm.', 'Jim Cramer is shilling NVIDIA.', 'Eggon: \"Are You Not Entertained?!\"', 'Ty GME + 14.1k.', \"It's going down even more tomorrow, shoutout to all the doubters in my yolo post.\", 'Thanks FED...', \"(GME) Gamestop earnings. Let's take a closer look...\", 'America’s banks are missing hundreds of billions of dollars.', 'Retirements a relative concept at this point.', 'Shorts are Clucked 🐔🚀💰📈.', 'UK inflation jumps to 10.4%. 0.5% ahead of what analysts expected. The government also just gave a pay raise to Publ. Sector + actual stimmys.', 'Just ordered pizza and found this on my napkin...', 'NVDA got me feeling like...', 'The loan market tells us stocks are about to fall off a cliff.', 'Switzerland’s emergency rescue of Credit Suisse could cost each and every Swiss person $13,500.', \"How I know we're in for a shitstorm.\", 'Fed increased rates by 25 basis points. Further rate increase possible. NO rate cut 2023. Yellen no insurance beyond 250K.', '‘Already past the point of no return’: JPMorgan says the U.S. is probably headed for a recession as economic ‘engines are about to turn off’.', '$TLRY 🌿🔥 😎 CNBC News - \"Cannabis in Germany will be a success story: Europe’s biggest economy moves closer to weed legalization.\"', 'To the moon! The interest payments of the US Government as old debt is rolled into new one.', 'FOMC Day… HAWK Powell… 3-22-23 SPY/ ES Futures, VIX, DXY and 10YR Yield Daily Market Analysis.', 'Daily Discussion Thread for March 22, 2023.', 'Fed projection charts are out.', 'My dad died 7,500,000+ in the red.', 'Thanks Jerome 🫡.', '10-year - 3-month spread - Hold on to your butts.', 'The original \"when to make money\" bro from the 1800s.', 'Time to short the absolute fuck out of NVDA - P/E of 120 with stalled revenue and declining earnings growth.', 'RIP the NVDA bears that helped drive these gains.', 'Never going to be able to retire?', 'So how deep is this banking crisis?', 'How today will go… (bears r fkt).', 'The Fed, for the last 9 months.', \"Expert who coined 'quantitative easing' says Fed too powerful | Fortune.\", 'When I explain to people what WSB is.', 'SEC is Suing COIN.', 'Dot plot analysis December meeting versus now.', \"I can't see any good rate move.\", 'JPMorgan Chase thought it had $1.3 million worth of nickel stored in a warehouse. A closer examination revealed bags of stones.', 'Crises not crisis.', \"Calls on grandma's money market account.\", 'Saudi Arabia Lost $1 Billion or 80% on its Credit Suisse Investment.', '2DTE 30k SPY PUTS.', 'AMD put. Not bad.', 'Today.', 'Federal Reserve Chairman Powell: participants believe that this year will not cut interest rates.', 'The past 2 weeks.', 'JPOW: \"No cuts this year.\" Me: IS THE PIVOT IN THE ROOM WITH US NOW BULLS?', 'Looks like there was hope...', 'Do I belong here?', 'Don\\'t want to \"scare\" the markets, of course.', 'The market estimates the odds for a 25bps hike tomorrow to be 86.4%.', '\"The consumer is strong.\"', 'Economy sht Jerome Powell will be a homie with 75bp hike ez money.', 'Powell Speech Summary and Translation for Smooth Brains.', 'Economy go brrrrr.', 'UK inflation rate in surprise rise to 10.4% as salad crisis pushes up prices | Inflation.', \"Where will the stock market go after tomorrow's Fed meeting?\", 'Pop Quiz Hotshot! The FOMC meeting is here and inflation is still out of control, but now banks are taken hostage with rates, what do you do?', '50 Mil in profit after 2.2 BIL in sales.', '$46k FRC yolo.', 'Best Options Report 4 Weeks Out.', 'Banks issuing additional tier 1 capital.', 'Basis points predictions? 🥲.', 'UBS-Credit Suisse Takeover Could Lay Off 30k workers.', 'sh-tpost.', \"I'm doing it again, as promised. Let's get some chairs in this bitch.\", 'The state of the market this week.', \"Merry Powell Eve - He sneakin' down your chimney.\", 'Flashback: On June 2017, Janet Yellen said \"I don\\'t believe we\\'ll see another financial crisis in our lifetime.\"', 'Who’s going down next?', 'Setting stop losses when volatility is expected.', 'To raise or not to raise? How does the Fed choose as banks blow up and hit hyperinflation? What do you think?', 'Small Apple Scalp.', 'My comment aged well 👀.', 'DAY 12 / HYPERINFLATION TRACKER.', 'Which bank stock is next?', 'Puts on Google & Stackoverflow, Calls on Microsoft.', 'Stanford business study shows bank values are actually $2 trillion lower than book value.', 'Have no clue how stocks work, just trying to get into it.', '1 day vs All Time.', 'Eggcellent DD - Cal-Maine Foods ($CALM).', 'Insider Trading Weekly Update #031: A(nother) Buffett of Oil | Financial Sector Insiders Buy Bank Shares in Droves | Insider Trading Recap.', 'Pre-Powel gains.', 'Still bullish despite FOMC.', 'Disrespect your seniors.', 'Interest Rate Meeting.', 'Unpopular opinion but fed will probably hike 50 bps.'], '2023-03-23': ['Daily Discussion Thread for March 23, 2023.', \"Reddit has officially killed Talks. We're live on Discord now!\", 'This is the guy who saved your puts today. The market turned after this question.', '4 Trillion dollar corrective response.', 'Trading 101.', 'Swiss central bank hikes interest rates by 50 basis points despite Credit Suisse turmoil.', 'I know the deal, congrats and fuck me. 🫡❤️ I’ll fuck your wife too. 💰🥳', 'Fed hikes rates by a quarter percentage point despite recent turmoil in the banking sector.', 'I blame all of YOU for inflation.', 'JPow, Nooooo!!!!!!', 'Exclusive: JPOW follow-up to Sunday night comments during FOMC press conference.', 'Come back when you’re a bank.', 'Hindenburg Research is out!', 'The $4 Trillion Dollar Man, get anyone else?', 'With great power comes great sacrifice.', 'Rate Hike Today... Going to leave this here.', 'Hedging is for regards, real banks HODL!!!', 'The Next Shoe to Drop - 20 trillion in commercial real estate.', \"Calls on grandma's money market account.\", 'Federal Reserve raises interest rates 0.25% to the highest since 2007 amid bank crisis.', \"J Pow can't be contained.\", 'The Fed, for the last 9 months.', \"It's been a long 3 days.\", 'Thank you for hodling for me $GME gains $252k - $24k cost basis.', 'US Senator Ted Cruz Introduces CBDC Development Ban Bill.', 'Thanks FED...', 'The Future Of The Economy Comes Down To One Thing.', 'Well, well, well. What do we have here?', 'Jpow at 2:30 pm.', 'This fucking guy...', \"It's going down even more tomorrow, shoutout to all the doubters in my yolo post.\", 'SEC Issues Wells Notice to Coinbase, Shares Fall 12%.', 'Reality vs. Powell.', 'MACD on the weekly just produced a sell signal on SPY.', 'How was trading on FOMC meeting day?', 'FOMC Yolo: $100,000+ 0DTE.', 'Jim Cramer is shilling NVIDIA.', \"This might be of interest to some, based on this morning's news.\", \"The tasteful thickness of Jerome's card.\", 'What Are Your Moves Tomorrow, March 23, 2023.', 'Pre-Market! Musk speaks out, slams Fed rate hike! Coinbase slumped 12% after a sudden shortfall.', 'Ty GME + 14.1k.', \"Summary of today's FOMC meeting: The labor market remains too strong.\", 'Powell Speech Summary and Translation for Smooth Brains.', 'Eggon: \"Are You Not Entertained?!\"', 'Fed increased rates by 25 basis points. Further rate increase possible. NO rate cut 2023. Yellen no insurance beyond 250K.', '35k Gain - AMD 90c 4/21.', '10-year - 3-month spread - Hold on to your butts.', 'Opening | U.S. stocks open collectively higher on three major indices, Block down more than 17%.', \"SEC is Suing COIN(GME) Gamestop earnings. Let's take a closer look...\", 'America’s banks are missing hundreds of billions of dollars.', 'FOMC Day… HAWK Powell… 3-22-23 SPY/ ES Futures, VIX, DXY and 10YR Yield Daily Market Analysis.', 'Retirements a relative concept at this point.', 'Jobless Claims - Daily Trading Report.', 'Banks with the largest exposure to CRE/Tier 1, if you are looking for short targets.', 'Fed Funds Futures are Calling BS on Powell.', 'UK inflation jumps to 10.4%. 0.5% ahead of what analysts expected. The government also just gave a pay raise to Publ. Sector + actual stimmys.', 'Thanks Jerome 🫡.', 'Shorts are Clucked 🐔🚀💰📈.', 'So how deep is this banking crisis?', 'NVDA got me feeling like...', 'Secretary Becerra provides update on Cannabis Schedule Review - End of Prohibition may be close!', 'Tesla shares (NASDAQ:TSLA) have shown some volatility during the past weeks, but a Wall Street veteran has noted that the electric vehicle m', 'Switzerland’s emergency rescue of Credit Suisse could cost each and every Swiss person $13,500.', \"How I know we're in for a shitstorm.\", 'JPOW: \"No cuts this year.\" Me: IS THE PIVOT IN THE ROOM WITH US NOW BULLS?', 'AMD put. Not bad.', '$TLRY 🌿🔥 😎 CNBC News - \"Cannabis in Germany will be a success story: Europe’s biggest economy moves closer to weed legalization.\"', 'To the moon! The interest payments of the US Government as old debt is rolled into new one.', 'Betting against banks.', '‘Already past the point of no return’: JPMorgan says the U.S. is probably headed for a recession as economic ‘engines are about to turn off’.', '9 consecutive times! Fed raises rates again by 25 percentage points.', 'Goldman Sachs also embraces AI after Big Morgan: uses GPT-like technology to help developers write code.', 'The three major stock indexes closed down collectively, the Fed announced a 25 basis point rate hike.', 'Fed projection charts are out.', 'RIP the NVDA bears that helped drive these gains.', 'Daily Discussion Thread for March 22, 2023.', 'DV: A Stock to take note of.', 'Dot plot analysis December meeting versus now.', 'Texas Lawmaker Launches Resolution to Protect Bitcoin Investors, Support BTC Economy – Regulation Bitcoin News.', 'Time to short the absolute fuck out of NVDA - P/E of 120 with stalled revenue and declining earnings growth.', \"Expert who coined 'quantitative easing' says Fed too powerful | Fortune.\", 'The original \"when to make money\" bro from the 1800s.', 'Addressing Semiconductor Supply Chain Risks - Time to Diversify?', 'Never going to be able to retire?', 'How today will go… (bears r fkt).', 'Crises not crisis.', 'The Bank of England was not deterred by the banking crisis and raised interest rates by 25 basis points as expected.', 'When I explain to people what WSB is.', 'Do I belong here?', \"OpenAI's Business Strategy - What is their Eng Game?\", 'As I expected. The Fed raised rates by 25 basis points.', \"I can't see any good rate move.\", 'JPMorgan Chase thought it had $1.3 million worth of nickel stored in a warehouse. A closer examination revealed bags of stones.', '2DTE 30k SPY PUTS.', 'Why This Banking Crisis Won’t Wreck the Economy.', 'Saudi Arabia Lost $1 Billion or 80% on its Credit Suisse Investment.', 'A Review of Winners & Losers from March 23 Expiration (Infographic).', 'The past 2 weeks.'], '2023-03-24': ['Daily Discussion Thread for March 24, 2023.', '0DTE Jackpot: $280,000+ in 4 Hours. Full Regard Edition.', 'That’s cuz they survived every recession since 1920.', 'Please help. I have not slept in days. This is everything I have… I’m devastated… I was told the stock would be $1 soon. Should I get out?', \"Knock knock. You're next.\", \"Given Credit Suisse's trouble, I'm legitimately shocked.\", \"I don't understand anything apparently.\", 'Sent to my friend from her bank, literally speechless.', 'Deutsche Bank shares slide after sudden spike in the Credit Default Swaps.', 'NVDA is up 74% since ChatGPT release (152% since Oct bottom). Overvalued by ANY metric. What will trigger a repricing?', 'Love the printer detail.', 'For all your securities loss class action needs!', 'Fed Balance Sheet.', 'The Superior Technical Indicator.', 'Printer go Brrrr for the second week.', 'As borrowing costs increase.', \"I don't think people really understand the impact of the rate hikes at a large scale...\", 'Bulls vs Bears when they finally get their way.', 'Hindenburg Research is out!', '$6B disappears in one story.', '$META and $SNAP watching the TikTok CEO getting roasted by Congress and eventually banned.', 'FOMC Minutes from yesterday.', 'Western Union is trading at 2009 lows - 9% Div Yield.', 'Am no saying the printer go Brrrr but the printer goes brrrrrrrrrrrrrrrrrrrrrrr!', 'Deutsche Bank shares plummet amid concerns over European banking stability.', \"Brace for the S&P 500 to plunge 50% and a painful recession to strike as the 'everything bubble' bursts, elite investor Jeremy Grantham warns.\", 'Money Printer Go Brr (Sad Edition).', 'The $4 Trillion Dollar Man, get anyone else?', 'Swiss central bank hikes interest rates by 50 basis points despite Credit Suisse turmoil.', 'American Households Likely to Sell $750 Billion in Stocks, Goldman Sachs Estimates - Higher yields, lower personal savings to drive selling.', 'Deutsche Bank Shares Plunge Over 9%.', 'Dow Jones Futures Fall as Deutsche Bank Shares Sell Off on Rising Default Risks.', 'Trading 101.', '4 Trillion dollar corrective response.', 'This is the guy who saved your puts today. The market turned after this question.', 'Why does WeBull call FD\\'s \"0DTE Options\"?', 'We are going to need more liquidity.', 'What Are Your Moves Tomorrow, March 24, 2023?', 'How to successfully gamble your retirement funds. $85k Gains (+92%) in 10 months.', '0DTE. Bought puts all along the ride up this morning til all-in. Down 10k at 11am. Up 18k by 3pm.', \"Anyone else's tax guy sigh at you?\", 'Dutch central bank reports first loss since 1931 amid rising interest rates.', 'Could the FIMA facility usage be related to Deutsche Bank?', '17k SPY calls 1-4DTE - y’all too bearish.', 'What a rollercoaster of a day… 3-23-23 SPY/ ES Futures, VIX, DXY and 10YR YIELD Daily Market Analysis.', 'I’m telling my kids this was the banking crisis of 2023.', '“We like Coinbase to $475”.', 'Tomorrow or Monday.', 'El Salvador President Proposes Zero Taxation on Technology Innovations.', 'Banks are Getting into a big problem. Why is this happening in 2023? Are these some scars from Covid-19 back in 2020?', 'Bank stocks fell again, is this a good opportunity to buy at the bottom?', 'Netflix password sharing crackdown to begin in one week (3/31).', 'Blockbuster is coming back!', 'BlackBerry sells 32,000 mobile, wireless patents for up to US$900M.', 'Hedging is for regards, real banks HODL!!!', 'I blame all of YOU for inflation.', 'Lookie here. COF credit default swaps, whatever it is. Imma fuckin buy puts so inverse me and buy calls for free money.', 'I know the deal, congrats and fuck me. I’ll fuck your wife too.', 'Baidu is faking its AI and only developed a wrapper for stable diffusion.', 'Fed hikes rates by a quarter percentage point despite recent turmoil in the banking sector.', 'JPow, Nooooo!!!!!!', 'I got the $2570s this morning for $8. Sold same day for $46. BKNG is all I play.', 'Exclusive: JPOW follow-up to Sunday night comments during FOMC press conference.', 'With great power comes great sacrifice.', 'When you try to trade FOMC.', 'A Thank You To All The Regard Bulls! 🤏🏻', 'Block’s statement on short seller report.', \"The tasteful thickness of Jerome's card.\", \"The Stock Market Hit a Pandemic Bottom 3 Years Ago. Here's How It Has Performed Since Then.\", 'The Next Shoe to Drop - 20 trillion in commercial real estate.', 'NVDA Short Trade Setup.', 'Primed for Disruption: The Rise of Generative AI in Investor Relations.', 'Rate Hike Today... Going to leave this here.', 'US Senator Ted Cruz Introduces CBDC Development Ban Bill.', 'SEC Issues Wells Notice to Coinbase, Shares Fall 12%.', 'New Account 10x Speedrun. How long till I lose it all?', \"J Pow can't be contained.\", \"Reddit has officially killed Talks. We're live on Discord now!\", 'Daily Discussion Thread for March 23, 2023.', 'Market Tug-of-War: Unraveling the High-Stakes Battle to Defend the 200-Day Moving Average.', 'The economists will say record jobs available is a good thing. This incorrect.', 'There… I fixed it…', '~$17K SPY Put Yolo 85 DTE.', 'Block is not your typical payments company.', 'PSLV vs THE WORLD - Must-read for gold and silver bugs.', \"Calls on grandma's money market account.\", 'Well, well, well. What do we have here?', 'The Banking System Is Safe. Bank Deposits Have Stabilized in the Last Week, Powell Says.', 'Banking Crisis Strikes! A large group of macro hedge funds hit hard, with the biggest drop of 32%.', 'Tomorrow - You Should Sell Your Calls And Buy Puts.', '270K SPX APPL NVDA puts.', 'Love me a good pumpp. 879% <> 20k Gain. 🌈 🐻', 'Any ideas on how/where to open a short position against the $USD?', \"It's been a long 3 days.\", 'Oh China...', 'The Fed, for the last 9 months.', 'YOLO? Got approved for options recently and bet my entire account on a collapse. I’m in college, is this regarded enough?', 'Federal Reserve raises interest rates 0.25% to the highest since 2007 amid bank crisis.', 'The scrutiny on TikTok could be bad news for U.S. companies, Fast Money traders say.', 'SEC warns investors about risks of purchasing crypto asset securities.', 'Daily Discussion Thread for March 24, 2023.', '0DTE Jackpot: $280,000+ in 4 Hours. Full Regard Edition.', 'That’s cuz they survived every recession since 1920.', 'Please help. I have not slept in days. This is everything I have… I’m devastated… I was told the stock would be $1 soon. Should I get out?', \"Knock knock. You're next.\", \"Given Credit Suisse's trouble, I'm legitimately shocked.\", 'I dont understand anything apparently.', 'Sent to my friend from her bank, literally speechless.', 'Deutsche Bank shares slide after sudden spike in the Credit Default Swaps.', 'NVDA is up 74% since ChatGPT release (152% since Oct bottom). Overvalued by ANY metric. What will trigger a repricing?', 'Love the printer detail.', 'For all your securities loss class action needs!', 'Fed Balance Sheet.', 'The Superior Technical Indicator.', 'Printer go Brrrr for the second week.', 'As borrowing costs increase.', \"I don't think people really understand the impact of the rate hikes at a large scale...\", 'Bulls vs Bears when they finally get their way.', 'Hindenburg Research is out!', '$6B disappears in one story.', '$META and $SNAP watching the TikTok CEO getting roasted by Congress and eventually banned.', 'FOMC Minutes from yesterday.', 'Western Union is trading at 2009 lows - 9% Div Yield.', 'Am no saying the printer go Brrrr but the printer goes brrrrrrrrrrrrrrrrrrrrrrr!', 'Deutsche Bank shares plummet amid concerns over European banking stability.', \"Brace for the S&P 500 to plunge 50% and a painful recession to strike as the 'everything bubble' bursts, elite investor Jeremy Grantham warns.\", 'Money Printer Go Brr (Sad Edition).', 'The $4 Trillion Dollar Man, get anyone else?', 'Swiss central bank hikes interest rates by 50 basis points despite Credit Suisse turmoil.', 'American Households Likely to Sell $750 Billion in Stocks, Goldman Sachs Estimates - Higher yields, lower personal savings to drive selling.', 'Deutsche Bank Shares Plunge Over 9%.', 'Dow Jones Futures Fall as Deutsche Bank Shares Sell Off on Rising Default Risks.', 'Trading 101.', '4 Trillion dollar corrective response.', 'This is the guy who saved your puts today. The market turned after this question.', 'Why does WeBull call FD\\'s \"0DTE Options\"?', 'We are going to need more liquidity.', 'What Are Your Moves Tomorrow, March 24, 2023.', 'How to successfully gamble your retirement funds. $85k Gains (+92%) in 10 months.', '0DTE. Bought puts all along the ride up this morning til all-in. Down 10k at 11am. Up 18k by 3pm.', \"Anyone else's tax guy sigh at you?\", 'Dutch central bank reports first loss since 1931 amid rising interest rates.', 'Could the FIMA facility usage be related to Deutsche Bank?', '17k SPY calls 1-4DTE - y’all too bearish.', 'What a rollercoaster of a day… 3-23-23 SPY/ES Futures, VIX, DXY, and 10YR YIELD Daily Market Analysis.', 'I’m telling my kids this was the banking crisis of 2023.', '“We like Coinbase to $475”.', 'Tomorrow or Monday.', 'El Salvador President Proposes Zero Taxation on Technology Innovations.', 'Banks are getting into a big problem. Why is this happening in 2023? Are these some scars from Covid-19 back in 2020?', 'Bank stocks fell again, is this a good opportunity to buy at the bottom?', 'Netflix password sharing crackdown to begin in one week (3/31).', 'Blockbuster is coming back!', 'BlackBerry sells 32,000 mobile, wireless patents for up to US$900M.', 'Hedging is for regards, real banks HODL!!!', 'I blame all of YOU for inflation.', 'Lookie here. COF credit default swaps, whatever it is. Imma fuckin buy puts so inverse me and buy calls for free money.', 'I know the deal, congrats and fuck me. I’ll fuck your wife too.', 'Baidu is faking its AI and only developed a wrapper for stable diffusion.', 'Fed hikes rates by a quarter percentage point despite recent turmoil in the banking sector.', 'JPow, Nooooo!!!!!!', 'I got the $2570s this morning for $8. Sold same day for $46. BKNG is all I play.', 'Exclusive: JPOW follow up to Sunday night comments during FOMC press conference.', 'With great power comes great sacrifice.', 'When you try to trade FOMC.', 'A Thank You To All The Regard Bulls! 🤏🏻', 'Block’s statement on short seller report.', \"The tasteful thickness of Jerome's card.\", \"The Stock Market Hit a Pandemic Bottom 3 Years Ago. Here's How It Has Performed Since Then.\", 'The Next Shoe to Drop - 20 trillion in commercial real estate.', 'NVDA Short Trade Setup.', 'Primed for Disruption: The Rise of Generative AI in Investor Relations.', 'Rate Hike Today... Going to leave this here.', 'US Senator Ted Cruz Introduces CBDC Development Ban Bill.', 'SEC Issues Wells Notice to Coinbase, Shares Fall 12%.', 'New Account 10x Speedrun. How long till I lose it all?', \"J Pow can't be contained.\", \"Reddit has officially killed Talks. We're live on Discord now!\", 'Daily Discussion Thread for March 23, 2023.', 'Market Tug-of-War: Unraveling the High-Stakes Battle to Defend the 200-Day Moving Average.', 'The economists will say record jobs available is a good thing. This incorrect.', 'There… I fixed it…', '~$17K SPY Put Yolo 85 DTE.', 'Block is not your typical payments company.', 'PSLV vs THE WORLD - Must read for gold and silver bugs.', \"Calls on grandma's money market account.\", 'Well, well, well. What do we have here?', 'The Banking System Is Safe. Bank Deposits Have Stabilized in the Last Week, Powell Says.', 'Banking Crisis Strikes! Large group of macro hedge funds hit hard, with the biggest drop of 32%.', 'Tomorrow - You Should Sell Your Calls And Buy Puts.', '270K SPX APPL NVDA puts.', 'Love me a good pumpp. 879% <> 20k Gain. 🌈 🐻', 'Any ideas on how/where to open a short position against the $USD?', \"It's been a long 3 days.\", 'Oh China...', 'The Fed, for the last 9 months.', 'YOLO? Got approved for options recently and bet my entire account on a collapse. I’m in college, is this regarded enough?', 'Federal Reserve raises interest rates 0.25% to highest since 2007 amid bank crisis.', 'The scrutiny on TikTok could be bad news for U.S. companies, Fast Money traders say.', 'SEC warns investors about risks of purchasing crypto asset securities.'], '2023-03-25': ['Weekend Discussion Thread for the Weekend of March 25, 2023.', 'Most Anticipated Earnings Releases for the week beginning March 27th, 2023.', 'It’s not looking great, boys.', 'Deutsche Bank kiss of death.', 'Did everyone fill out their March Madness brackets?', 'Who would win?', '2/3 of QT has been reversed.', 'Please help. I have not slept in days. This is everything I have… I’m devastated… I was told the stock would be $1 soon. Should I get out?', 'Bank of America Identifies the Next Bubble And Says Investors Should Sell Stocks Rather Than Buy Them After the Last Rate Hike.', 'Deutsche Bank shares slide after sudden spike in the Credit Default Swaps.', \"Given Credit Suisse's trouble, I'm legitimately shocked.\", 'Meow me.', 'That’s cuz they survived every recession since 1920.', 'Deutsche Bank is not the next Credit Suisse, analysts say as panic spreads.', \"Anyone else's tax guy sigh at you?\", 'Cathie Wood Today Buys $21M Of Block Stock; And Sells Over $27M In Tesla.', 'The market is being held up by 7 companies.', 'Don’t Get Me Wrong but how is it possible that the Dow and everything is up?', \"Knock knock. You're next.\", \"Jesus Christ... that's Jason Bourne.\", \"Sounds about right LOL: “Nearly $100 billion in deposits pulled from banks; officials call system 'sound and resilient'”.\", \"Reddit has officially killed Talks. We're live on Discord now!\", \"I don't understand anything apparently.\", '21k SPY Calls 1-3DTE PT.2 - y’all keep being bearish.', 'Deutsche Bank shares plummet amid concerns over European banking stability.', 'We have come full circle! Time to buy MSFT.', 'The Superior Technical Indicator.', 'Sent to my friend from her bank, literally speechless.', \"Backstopping deposits doesn't mean the banks won't fail - here's who's next.\", 'Daily Discussion Thread for March 24, 2023.', 'Bank of America: Money fund assets hit a record high as investors are cashing out at the fastest pace since the epidemic.', 'Deutsche Bank Shares Plunge Over 9%.', 'All in FRC Roth IRA.', 'For all your securities loss class action needs!', 'Going in big.', 'A key indicator says a recession is guaranteed in 2023 — and Bill Ackman, Nouriel Roubini, and others are warning of trouble ahead.', '0DTE Jackpot: $280,000+ in 4 Hours. Full Regard Edition.', 'Value hail mary.', 'NVDA is up 74% since ChatGPT release (152% since Oct bottom). Overvalued by ANY metric. What will trigger a repricing?', 'Fed Balance Sheet.', 'OpenAI helped with homework so I bought AI ticker.', \"Probably should've held, judging from this morning, but can't be too upset (sold for 4.20).\", 'Deutsche Bank shares drop amid global jitters over banks.', 'Dow Jones Futures Fall as Deutsche Bank Shares Sell Off on Rising Default Risks.', 'Volatility in mortgage rates will lead to further deterioration of the U.S. real estate sector in 2023.', 'U.S. regional bank liquidity risk continues to spread as market rate hike expectations cut sharply.', 'Been trying a new trading strategy. Buy high...', 'Printer go Brrrr for the second week.', 'You know oils in trouble when OPEC has this front & center on their own website.', 'Bulls vs Bears when they finally get their way.', '$NVDA short term bearish with head and shoulders pattern. 3/31 $250 puts printing 👀 #NFA.', \"A Fool's guide for Option Greeks.\", \"I don't think people really understand the impact of the rate hikes at a large scale...\", 'Traders bet on Fed rate cut as early as June amid fears of banking crisis.', 'What would happen if Cramer said he was bullish on $SJIM and that was the only ETF or stock he talked about until his retirement?', 'For those who trade SPY (SPX) calls/puts, what is your strategy?', '$6B disappears in one story.', 'As borrowing costs increase.', 'A massive gains/losses counter that everyone contributed to would be cool to watch.', 'Signature Bank Founders Lost Small Fortune in Bank Collapse: Prior, their Signature holdings dropped 80 percent. After seizure, all vanished.', 'Why does WeBull call FD\\'s \"0DTE Options\"?', 'El Salvador President Proposes Zero Taxation on Technology Innovations.', \"To my knowledge, wouldn't the vast majority of non-full-time investors just be better off by investing in the S&P 500?\", 'American Households Likely to Sell $750 Billion in Stocks, Goldman Sachs Estimates - Higher yields, lower personal savings to drive selling.', 'I’m Project POW And I’m Down For My Crown Mang.', 'Am no saying the printer go brrrr but the printer goes brrrrrrrrrrrrrrrrrrrrrrr!', 'Western Union is trading at 2009 lows - 9% Div Yield.', 'SOFI stock? Potential or nah?', 'Hindenburg Research is out!', 'Whenever we think we have it bad...', 'Is there an ETF/ETN that exposes me to the Norwegian krone (or Nordic currencies in general)?', 'FOMC Minutes from yesterday.', 'The swap contract completely rules out a Fed rate hike in May and continues to reflect a rate cut before the end of the year.', 'Money Printer Go Brr (Sad Edition).', '$META and $SNAP watching the TikTok CEO getting roasted by Congress and eventually banned.', \"Brace for the S&P 500 to plunge 50% and a painful recession to strike as the 'everything bubble' bursts, elite investor Jeremy Grantham warns.\", 'The $4 Trillion Dollar Man, get anyone else?', 'I bought $SCHW at $58, I’m in for a roller coaster…', 'Could the FIMA facility usage be related to Deutsche Bank?', 'Nothing to see here. Bullish.', 'FLNG- Heard they will be getting a nice jump today.', '4/21 CSwiss central bank hikes interest rates by 50 basis points despite Credit Suisse turmoil.', 'Microsoft-Activision merger CMA revision.', \"Aren't Tier 1 MSOs (Cannabis) Looking Attractive for Long-Term Trade?\", 'How to successfully gamble your retirement funds. $85k gains (+92%) in 10 months.', 'I read that S&P 500 became 119 fold over the past 50 years.', 'Will further banks restrict transactions to exchanges like Coinbase?', 'Trading 101.', 'We are going to need more liquidity.', '4 Trillion dollar corrective response.', '17k SPY calls 1-4DTE - y’all too bearish.', 'Good? Bad? Little bit of both?', 'This is the guy who saved your puts today. The market turned after this question.', '0DTE. Bought puts all along the ride up this morning til all-in. Down 10k at 11am. Up 18k by 3pm.', 'What a rollercoaster of a day… 3-23-23 SPY/ES Futures, VIX, DXY, and 10YR YIELD Daily Market Analysis.', 'Baidu is faking its AI and only developed a wrapper for stable diffusion.', 'What Are Your Moves Tomorrow, March 24, 2023.', 'March 24 stock market views.', 'Dutch central bank reports first loss since 1931 amid rising interest rates.', 'Silly bers.', 'Weekend Discussion Thread for the Weekend of March 25, 2023.', 'Most Anticipated Earnings Releases for the week beginning March 27th, 2023.', 'It’s not looking great, boys.', 'Cramer syndrome - RIP Deutsche Bank.', 'Did everyone fill out their March Madness brackets?', 'whatsm are you doing Uncle Powell?', 'Hope everyone has been mentally preparing for next week.', 'Down 87%… hoping the banks fall apart over the weekend.', 'Deutsche Bank kiss of death.', 'Who would win?', 'How the fuck are people still getting surprised?', 'You will be hearing about \\'Credit Default Swaps\\' (\"CDSs\") a lot in the coming days. Let me explain it simply.', '2/3 of QT has been reversed.', \"Sounds about right LOL: “Nearly $100 billion in deposits pulled from banks; officials call system 'sound and resilient'”.\", 'Bank of America Identifies the Next Bubble And Says Investors Should Sell Stocks Rather Than Buy Them After the Last Rate Hike.', '🌈🐻 gotta do what a 🌈🐻 gotta do.', \"Jesus Christ... that's Jason Bourne.\", 'Still waiting, Cathie.', 'Please help. I have not slept in days. This is everything I have… I’m devastated… I was told the stock would be $1 soon. Should I get out?', 'You guys are making money?', 'Deutsche Bank shares slide after sudden spike in the Credit Default Swaps.', 'Square 1.5k to 14k overnight.', 'Sometimes You Have To Trade The Fridge For The Upgrades.', 'Markets Falling Before Deutsche Bank Bankruptcy Contagion Worries.', \"The fed can't keep bailing banks out.\", 'We have come full circle! Time to buy MSFT.', \"Taken from the securities portfolio section of Signature Bank's 2021 annual report. This aged well.\", 'Cathie Wood Today Buys $21M Of Block Stock; And Sells Over $27M In Tesla.', \"Given Credit Suisse's trouble, I'm legitimately shocked.\", 'Deutsche Bank is not the next Credit Suisse, analysts say as panic spreads.', 'OpenAI helped with homework so I bought AI ticker.', 'Don’t Get Me Wrong but how is it possible that the Dow and everything is up?', 'Would it be 2008 again?', 'The Idiots Guide to Why the CRE Market just entered a Negative Feedback Loop.', \"Anyone else's tax guy sigh at you?\", 'That’s cuz they survived every recession since 1920.', 'The market is being held up by 7 companies.', \"'Bond Kings' Bill Gross and Jeffrey Gundlach predict an imminent US recession as surging interest rates strangle growth.\", 'Good news everyone!', '21k SPY Calls 1-3DTE PT.2 - y’all keep being bearish.', 'All in FRC Roth IRA.', \"Knock knock. You're next.\", 'U.S. regional bank liquidity risk continues to spread as market rate hike expectations cut sharply.', \"Reddit has officially killed Talks. We're live on Discord now!\", \"Busboys of WSB - how's business going?\", 'Expected moves for next week.', \"I don't understand anything apparently.\", 'Now Hiring Repo Men for the Pounding Banks and Dealers are Going to Feel Soon!', 'Deutsche Bank shares plummet amid concerns over European banking stability.', 'Ok, just let me cook for a little.', \"Backstopping deposits doesn't mean the banks won't fail - here's who's next.\", '2023-03-27 Wrinkle Brain Plays - In the style of Hermione Granger.', 'Bank of America: Money fund assets hit a record high as investors are cashing out at the fastest pace since the epidemic.', 'The Superior Technical Indicator.', 'Going in big.', 'Sent to my friend from her bank, literally speechless.', 'A key indicator says a recession is guaranteed in 2023 — and Bill Ackman, Nouriel Roubini, and others are warning of trouble ahead.', 'Deutsche Bank Shares Plunge Over 9%.', 'Daily Discussion Thread for March 24, 2023.', 'For all your securities loss class action needs!', 'For those who trade SPY (SPX) calls/puts, what is your strategy?', '0DTE Jackpot: $280,000+ in 4 Hours. Full Regard Edition.', 'Volatility in mortgage rates will lead to further deterioration of the U.S. real estate sector in 2023.', 'Dow Jones Index, new trading idea.', 'What would happen if Cramer said he was bullish on $SJIM and that was the only ETF or stock he talked about until his retirement?', 'NVDA is up 74% since ChatGPT release (152% since Oct bottom). Overvalued by ANY metric. What will trigger a repricing?', 'Fed Balance Sheet.', 'Feedbacks on BUX Zero.', 'Dow Jones Index, future trades on Index, long, short.', 'You know oils in trouble when OPEC has this front & center on their own website.', \"Probably should've held, judging from this morning, but can't be too upset (sold for 4.20).\", '$NVDA short term bearish with head and shoulders pattern. 3/31 $250 puts printing 👀 #NFA.', 'Dow Jones Futures Fall as Deutsche Bank Shares Sell Off on Rising Default Risks.', 'Deutsche Bank shares drop amid global jitters over banks.', 'LULU Earnings.', 'Signature Bank Founders Lost Small Fortune in Bank Collapse: Prior, their Signature holdings dropped 80 percent. After seizure, all vanished.', 'Printer go Brrrr for the second week.', \"A Fool's guide for Option Greeks.\", 'Bulls vs Bears when they finally get their way.', 'Danny Boy in talks with big banks?', 'PSQ vs SQQQ Volume.', \"I don't think people really understand the impact of the rate hikes at a large scale...\", 'Traders bet on Fed rate cut as early as June amid fears of banking crisis.', '$6B disappears in one story.', 'Why does WeBull call FD\\'s \"0DTE Options\"?', 'As borrowing costs increase.', 'A massive gains/losses counter that everyone contributed to would be cool to watch.', 'Is there an ETF/ETN that exposes me to the Norwegian krone (or Nordic currencies in general)?', \"To my knowledge, wouldn't the vast majority of non-full-time investors just be better off by investing in the S&P 500?\", 'El Salvador President Proposes Zero Taxation on Technology Innovations.', 'Silly bers.', 'American Households Likely to Sell $750 Billion in Stocks, Goldman Sachs Estimates - Higher yields, lower personal savings to drive selling.', 'Am no saying the printer go brrrr but the printer goes brrrrrrrrrrrrrrrrrrrrrrr!', 'MercadoLibre Investment Thesis.', 'SOFI stock? Potential or nah?', 'Western Union is trading at 2009 lows - 9% Div Yield.', 'Whenever we think we have it bad...', 'The swap contract completely rules out a Fed rate hike in May and continues to reflect a rate cut before the end of the year.', 'Hindenburg Research is out!', 'FOMC Minutes from yesterday.', 'Weekend Discussion Thread for the Weekend of March 25, 2023.', 'Most Anticipated Earnings Releases for the week beginning March 27th, 2023.', 'Is it time to 1929 already? I was getting hungry for some soup.', 'The Financial Crisis explained by Jack Mallers.', 'whatsm are you doing Uncle Powell?', 'Banks in 2008 vs 2023 what’s the difference?', \"Ford CEO: Tesla is going to see 'more price competition' in the EV market.\", 'It’s not looking great, boys.', 'Did everyone fill out their March Madness brackets?', 'Down 87%… hoping the banks fall apart over the weekend.', 'On god.', 'The OTHER Cramer indicator.', 'You will be hearing about \\'Credit Default Swaps\\' (\"CDSs\") a lot in the coming days. Let me explain it simply.', 'Deutsche Bank kiss of death.', 'Who would win?', 'JPOWs cure for inflation.', '🌈🐻 gotta do what a 🌈🐻 gotta do.', 'Would it be 2008 again?', 'Still waiting, Cathie.', 'Square 1.5k to 14k overnight.', \"Sounds about right LOL: “Nearly $100 billion in deposits pulled from banks; officials call system 'sound and resilient'”.\", '2/3 of QT has been reversed.', 'Sometimes You Have To Trade The Fridge For The Upgrades.', 'Bank of America Identifies the Next Bubble And Says Investors Should Sell Stocks Rather Than Buy Them After the Last Rate Hike.', \"Jesus Christ... that's Jason Bourne.\", \"The fed can't keep bailing banks out.\", 'Markets Falling Before Deutsche Bank Bankruptcy Contagion Worries.', 'Please help. I have not slept in days. This is everything I have… I’m devastated… I was told the stock would be $1 soon. Should I get out?', 'European bank stocks bear the brunt of recessionary trading in full swing.', 'Today is not a good day to die.', 'When WorldCom 2.0.', 'Deutsche Bank shares slide after sudden spike in the Credit Default Swaps.', '1.9% of Deposits is Not Systemic Collapse.', \"Taken from the securities portfolio section of Signature Bank's 2021 annual report. This aged well.\", 'We have come full circle! Time to buy MSFT.', 'OpenAI helped with homework so I bought AI ticker.', 'Someone has a humiliation fetish.', 'Cathie Wood Today Buys $21M Of Block Stock; And Sells Over $27M In Tesla.', 'Deutsche Bank is not the next Credit Suisse, analysts say as panic spreads.', \"Given Credit Suisse's trouble, I'm legitimately shocked.\", 'The Idiots Guide to Why the CRE Market just entered a Negative Feedback Loop.', \"'Bond Kings' Bill Gross and Jeffrey Gundlach predict an imminent US recession as surging interest rates strangle growth.\", 'Europe is f*cked.', 'Don’t Get Me Wrong, but how is it possible that the Dow and everything is up?', 'Good news everyone!', 'Potential crisis out of the European banking system, the dollar is starting to bounce!', \"Busboys of WSB - how's business going?\", \"Anyone else's tax guy sigh at you?\", 'That’s cuz they survived every recession since 1920.', 'The market is being held up by 7 companies.', 'Now Hiring Repo Men for the Pounding Banks and Dealers are Going to Feel Soon!', '21k SPY Calls 1-3DTE PT.2 - y’all keep being bearish.', 'All in FRC Roth IRA.', 'Expected moves for next week.', '2023-03-27 Wrinkle Brain Plays - In the style of Hermione Granger.', 'Earnings recession on the way: 2023 SPX bottoms up EPS ests - financials expected to grow 21% 🤡 (source: modestproposal1 on Twitter).', 'U.S. regional bank liquidity risk continues to spread as market rate hike expectations cut sharply.', \"Wanting to buy Credit Suisse while they're dead per se.\", \"Knock knock. You're next.\", \"Reddit has officially killed Talks. We're live on Discord now!\", 'LULU Earnings.', \"I don't understand anything apparently.\", 'Market Recap | Stocks Edge Higher as Pressure on Banks Continues.', 'Deutsche Bank shares plummet amid concerns over European banking stability.', \"Backstopping deposits doesn't mean the banks won't fail - here's who's next.\", 'Bank of America: Money fund assets hit record high as investors are cashing out at fastest pace since the epidemic.', 'Going in big.', 'The Superior Technical Indicator.', 'Sent to my friend from her bank, literally speechless.', 'A key indicator says a recession is guaranteed in 2023 — and Bill Ackman, Nouriel Roubini, and others are warning of trouble ahead.', 'Bulls are back in control, The Ole Cup and Handle… 3-24-23 SPY/ ES Futures, and VIX Yield Weekly Market Analysis.', 'Deutsche Bank Shares Plunge Over 9%.', 'Daily Discussion Thread for March 24, 2023.', 'For all your securities loss class action needs!', 'For those who trade SPY (SPX) calls/puts, what is your strategy?', 'Volatility in mortgage rates will lead to further deterioration of the U.S. real estate sector in 2023.', 'What would happen if Cramer said he was bullish on $SJIM and that was the only ETF or stock he talked about until his retirement?', '0DTE Jackpot: $280,000+ in 4 Hours. Full Regard Edition.', 'MercadoLibre Investment Thesis.', 'NVDA is up 74% since ChatGPT release (152% since Oct bottom). Overvalued by ANY metric. What will trigger a repricing?', 'Fed Balance Sheet.', 'Danny Boy in talks with big banks?', 'You Know Oils in Trouble When OPEC Has This Front & Center on Their Own Website.', \"Probably should've held judging from this morning, but can't be too upset (sold for 4.20).\", 'Dow Jones Index, future trades on Index, long, short.', '$NVDA short term bearish with head and shoulders pattern. 3/31 $250 puts printing 👀 #NFA.', 'Dow Jones Futures Fall as Deutsche Bank Shares Sell Off on Rising Default Risks.', 'Deutsche Bank shares drop amid global jitters over banks.', 'Signature Bank Founders Lost Small Fortune in Bank Collapse: Prior, their Signature holdings dropped 80 percent. After seizure, all vanished.', \"A Fool's guide for Option Greeks.\", 'PSQ vs SQQQ Volume.', 'Printer go Brrrr for the second week.', 'Bulls vs Bears when they finally get their way.', 'A massive gains/losses counter that everyone contributed to would be cool to watch.', \"I don't think people really understand the impact of the rate hikes at a large scale...\", '$6B disappears in one story.', 'Brokerage at Schwab.', 'Traders bet on Fed rate cut as early as June amid fears of banking crisis.', 'Why does WeBull call FD\\'s \"0DTE Options\"?', 'As borrowing costs increase.'], '2023-03-27': ['What Are Your Moves Tomorrow, March 27, 2023.', 'Eggon says “DB go up” ⬆️ 👀.', 'My dentist said I grind in my sleep. He real af for that 😤.', 'Improved Federal reserve crisis solution chart.', 'They are indeed highly regarded if they still work there.', 'LEI looks exactly like 2008. Gradual crash, small rally, and then the nuke drops.', 'CNBC no longer showing CDS data for certain institutions (03/26/2023) - JPMCD5, BACCD5, WFCCD5.', 'Banks Risk Management.', \"That's all for this quarter.\", 'Banks are just paper bags with fancier walls.', 'Banks in 2008 vs 2023 what’s the difference?', 'If banks raised the deposit rates at the same time as fed funds they would have avoided 500bn deposit flight and maybe this entire crisis.', 'The Fed just reported that U.S. banks borrowed $475 billion last week as the banking crisis continued.', \"I'm in this mode right now.\", 'April Fools Bank Run!', 'Everybody’s a winner 🥇!', 'IF WE GET TO $300 BY EARNINGS I’LL HAVE $420… THOUASAND!!!!! COME ON CATHY, BUY THEM BACK! ELON TWEET OUT A POLL TO BUY BACK!', 'Dollar demand soars! Central Banks Reduce U.S. Debt Holdings at Fastest Pace in Nine Years.', 'Is it time to 1929 already? I was getting hungry for some soup.', 'Banking Crisis: US Banks Borrow $475B While Small Banks Lose Over $500B.', 'They did it again.', 'The Financial Crisis explained by Jack Mallers.', 'The Floor Could Still Fall Out of This Stock Market.', '6 Key economic events this week (and why each is important).', 'Swiss finance minister justified \"forced to buy\": Credit Suisse can not last a day, do not acquire is the global financial crisis.', \"Meet the Market's Undertaker.\", 'Ya like DB rumors?', 'Airline Stocks.', 'Thoughts on this? Could this lead to a GLD gamma squeeze?', 'FRC is one to watch, here is why.', 'AVAV — big boy drones for defense.', 'Bond Traders Go All-In on US Recession Bets That Defy Fed View.', 'At the most recent First Republic Bank board meeting.', 'Sell your (extra) house and leave money on the bank - or wait for house prices to possibly drop further?', \"Ford CEO: Tesla is going to see 'more price competition' in the EV market.\", 'Every post here on WSB is negative now.', 'Thoughts on Caravna puts.', 'Carnival Corp - CCL.', 'What are you doing Uncle Powell?', 'TTWO! GTA 6!', 'Euro land banks the past month.', \"Don't Panic! Why FRC Is Not as Scary as You Think.\", 'When will Tesla start selling astro droids? 🚀🌕.', \"ULTIMATE DD: $ATVI Moon Mission - Microsoft's Takeover = FREE MONEY! 💰💰.\", 'Starwood Capital CEO Barry Sternlicht Warns of Impending Economic Implosion.', 'The truth behind the current U.S. market?', 'Getting paranoid about the market collapsing.', \"''The fed's loans to banks will only increase inflation further and they permanently ruined their balance sheet''.\", '1.9% of Deposits is Not Systemic Collapse.', 'NT lifetime commissions.', 'It’s not looking great boys.', 'Did everyone fill out their March Madness brackets?', 'The OTHER Cramer indicator.', 'Down 87%… hoping the banks fall apart over the weekend.', '$900M deal Blackberry news.', 'JPOWs cure for inflation.', 'Today is not a good day to die.', 'Earnings recession on the way: 2023 SPX bottoms up EPS ests - financials expected to grow 21% 🤡 (source: modestproposal1 on Twitter).', 'You will be hearing about \\'Credit Default Swaps\\' (\"CDSs\") a lot in the coming days. Let me explain it simply.', 'DD - Warren Buffet new TSLA forecast (very bullish) 🚀🚀.', 'Deutsche Bank kiss of death.', 'Who would win?', 'Schwab CDS jump is not concerning and those that think it is are Chicken Little. CTFD!', 'Would it be 2008 again?', \"Is Traditional Banking Dead? Tim Draper's Advice Shake Up Financial Landscape.\", '🌈🐻 gotta do what a 🌈🐻 gotta do.', \"J.P. Morgan Research's 2023 Market Outlook.\", 'Square 1.5k to 14k overnight.', 'Still waiting, Cathie.', 'Markets Falling Before Deutsche Bank Bankruptcy Contagion Worries.', 'Sometimes You Have To Trade The Fridge For The Upgrades.', 'European bank stocks bear the brunt of recessionary trading in full swing.', \"Sounds about right LOL: “Nearly $100 billion in deposits pulled from banks; officials call system 'sound and resilient'”.\", \"The fed can't keep bailing banks out.\", \"What's happening at Deutsche Bank? Stock drops amid fears that banking crisis will get worse.\", \"Jesus Christ... that's Jason Bourne.\", '2/3 of QT has been reversed.', 'Bank of America Identifies the Next Bubble And Says Investors Should Sell Stocks Rather Than Buy Them After the Last Rate Hike.', \"Taken from the securities portfolio section of Signature Bank's 2021 annual report. This aged well.\", 'Please help. I have not slept in days. This is everything I have… I’m devastated… I was told the stock would be $1 soon. Should I get out?', 'We have come full circle! Time to buy MSFT.', 'Deutsche Bank shares slide after sudden spike in the Credit Default Swaps.', 'OpenAI helped with homework so I bought AI ticker.', \"'Bond Kings' Bill Gross and Jeffrey Gundlach predict an imminent US recession as surging interest rates strangle growth.\", \"Wanting to buy Credit Suisse while they're dead per se.\", 'Most Anticipated Earnings Releases for the week beginning March 27th, 2023.', 'The Idiots Guide to Why the CRE Market just entered a Negative Feedback Loop.', 'Weekend Discussion Thread for the Weekend of March 25, 2023.', 'Cathie Wood Today Buys $21M Of Block Stock; And Sells Over $27M In Tesla.', 'Deutsche Bank is not the next Credit Suisse, analysts say as panic spreads.', 'Good news, everyone!', \"Given Credit Suisse's trouble, I'm legitimately shocked.\", 'Don’t Get Me Wrong, but how is it possible that the Dow and everything is up?', \"Busboys of WSB - how's business going?\", 'Potential crisis out of the European banking system, the dollar is starting to bounce!', 'Now Hiring Repo Men for the Pounding Banks and Dealers are Going to Feel Soon!', 'LULU Earnings.', 'Expected moves for next week.', \"Anyone else's tax guy sigh at you?\", 'The market is being held up by 7 companies.'], '2023-04-03': ['Daily Discussion Thread for April 03, 2023', \"Introducing: WSB's First Ever Paper Trading Competition.\", 'You can get man out of trading but you can’t get trading out of a man.', 'All in on nuclear war.', 'NOT a deep fake.', 'Economics 101.', 'I love being a spectator.', 'We are so back.', \"'Reality Can Be Whatever I Want' - SVB Execs.\", 'McDonald’s Temporarily Shuts U.S. Offices as Chain Prepares for Layoff Notices.', \"Clearview AI scraped 30 billion images from Facebook and gave them to cops: it puts everyone into a 'perpetual police line-up'.\", 'Interesting take.', 'An excerpt from a book called “Thinking fast and slow” which made me think of you guys.', 'OPEC+ announces surprise oil cuts, while U.S. calls the move inadvisable.', 'UBS likely to cut workforce by 20-30% after Credit Suisse takeover.', 'OPEC announces production cuts.', 'Sorry for the losses 💔📉😦 - r/wallstreetbets posted a net loss of $626k in March 2023.', 'Global oil production slashed as top countries unite in unprecedented cut.', 'OPEC’s oil production cuts announced today. Super bullish for CPI chart. Inflation to the moon.', 'For the million of people wanting investment advice. Read the room.', 'My disappointment is immeasurable, and my day is ruined.', 'Swiss federal prosecutors open investigation into Credit Suisse takeover.', 'WTI oil opens up at $80 lol.', 'What Are Your Moves Tomorrow, April 03, 2023.', 'Coming to a market near you soon.', 'How To Deal w/ a Losing Trade.', 'Analysts Expect a big Counter Offensive.', 'Tesla delivery numbers.', 'How is this gonna play out tomorrow.', 'Lost $8k on Tesla.', 'Historically, the market bottoms AFTER unemployment rises. Unemployment remains low right now…', \"I can't wait for tomorrow how much my put will print.\", '% Change Of Central Banks Gold Reserves (2000-2023).', 'OPEC+ oil alliance announces surprise production cuts from May | Oil and Gas News.', 'WWE being sold to UFC parent company ticker edr.', 'I lost 34K in a month. 😭😭😭', \"Was up 50% on these at one point, so I wasn't wrong.\", '$TSLA TTM Deliveries. Stock still 50% down from December highs, QQQ entered technical bull market, Bill Gates has sand in his /agina.', 'Oil prices surge 5% after OPEC’s surprise output cut; analysts warn of $100 per barrel.', 'Weekly prediction: tech rally over.', 'A journey in trading options!', 'Loss prn for you guys and girls!! how do I get this back?', 'Private bankruptcy filings are blowing past their COVID-era peaks.', 'How much are liquidity discounts that investment banks charge for underwriting block trades for closely-held companies?', 'Janets big curved yellen.', 'Inflation is over guys...', 'Helping the WSB gain counter with $72,684 gain in March.', 'A difficult path for the bulls in 2023.', 'Goldilocks is walking away. OPEC+ move reignited fears over inflation and growth.', \"It's good enough to close 👌.\", 'Pigs get fat, hogs get slaughtered.', 'Did I do good?', 'Loss porn to make you feel better while I am available for service 24 hours.', 'The Lumber to gold ratio.', '5 Key Economic Events this Week and Why.', 'Damn WSB influencing African economics?', 'Honestly, who the fuck is bearish right now?', 'QQQ Quarterly cycles in relation to RSI.', 'Thank you March, still down $4500 overall.', 'It’s been a good year, let’s keep it up kids! 🚀🚀🚀', 'Bull market or Bear Market Rally?', 'S&P to 2500 confirmed.', 'Good bet streak to bad bet streak to inverse bet mode.', 'Details - Thinking to YOLO CAC40 🚀🚀🚀🚀.', 'Stock market bearish or bullish next week?', 'Four straight months of flat or rising Y/o/y Core PCE - Will the Fed pause/pivot with their preferred inflation metric behaving like this?', 'Trust Pilot reviews for COIN.', 'Stop losing money. The market is not rocket surgery. Yellen has concerns = upsies.', 'After years of active trading and thousands of transactions, I’m finally showing Mr. Market who’s boss.', 'Do Options wizards exist? 😎', '(SPY) Which trading zone are we going to? LOL.', 'AMC status??', 'The Best performing stocks for Q1 2023 benchmarked against popular ETFs.', '5 secret investing tools that will make you a millionaire.', \"Next week's public operation (4.3-4.7).\", 'Lay-offs don’t mean recession.', 'Where I sold my calls on natural gas this week, to avoid further losses...', 'Germany Consumer Price Index: Food is up 2.41% from last month and 21.76% from one year ago.', 'SCHW (Charles Schwab) is going to survive or crash as FRC?', 'Not that any of our opinion matters, but you all think AI/machine language model is inflationary, deflationary, or won’t matter?', 'Proud of everyone. We broke a record this year.', 'Tired and more scared after today’s rally. Hold or sell?', 'WHERE MY HATERS AT!?!? YOU’RE GONNA REMEMBER ME!!!! I WILL HAVE $500,000 BY APRILS END! GO TSLA GO!!!', 'KC (Kingsoft Cloud Holdings Ltd.) is suspicious rally.', 'Joining the “let’s short the AI craze” team. NVDA will soon roll over.. wish me luck.', 'Nikkei 225 Bear Market vs S&P 500 Bear Market.', 'Fuking great year so far.', 'Food for thought.', \"Republic First is not First Republic !! Sincerely, Your Wife's Boyfriend.\", 'Markets go up.', 'High Dividend Stock - MPW.', 'Honestly, who the fuck is bullish right now?', 'The Deutsche line is built from text mining 1.2M financial news articles from 200 financial news sources, defining how widespread it is.', 'Ardelyx is on fire as I predicted months ago.', 'Homie doesn’t know how to take a screenshot, somehow degens his way into 6 figures.', \"What ever happened to DD's?\", 'The next AI stock to moon ($FDS).', 'What Trading Options Feels Like.', '\"No REALLY, we\\'re doing fine\" ~ every bank right now.'], '2023-06-09': ['Daily Discussion Thread for June 09, 2023', 'NFLX - +$170,000 overnight', 'The House Always Wins', 'Argentina considering ditching the Peso for the Dollar', 'The Trader of all time.', '$3400-22K TSLA YOLO 🎊💰', 'Tech \"leaders\" asking to stop further AI research', 'Cramer actually was a good hedge fund trader', 'Warren Buffett used to be a real degenerate. High risk high reward 😎', 'Maybe it really is different this time', 'Does anybody remember NIO? 😢', 'Top tier trolling', 'TSLA - 6/9 250c - YOLO', 'MicroVision Investors', 'You only live once', 'The US is building factories at a wildly fast rate', 'The power of the money printer in the palm of my hand', 'went full sicko mode on these two', 'Oops, I did it again...', 'Q2 in one picture', 'Should I buy SPCE in case of UFO news?', 'TSLA gains! $90K+ 📈📈', 'Middle-income buyers face the most severe housing shortage', 'My careful analysis of SPY this week...', 'How every single earnings work', 'The confirmation has been made: we are now officially in a bull market', '+$25,000 NFLX calls; Made $60k total today 🥵', \"Cumulative M2 Money Supply of major Central Banks near ATH thanks to PBOC and BOJ. Offsets Fed Reserve's QT. Explains rally since Oct '22\", 'TSLA 3 6/9 Damn she fine. To the window. TO THE WALL', '🤡 I bring to you the $TSLA shorts 🤡', 'Morning Briefing 🌞 June 9th 2023', 'Tesla never disappoints', '$CVNA FD Play | 10K in ATM Puts | 30 Contracts @ 3.40 each', \"TSLA - If you can't beat them join them\", 'My stupidity knows no bounds', 'PayPal Thoughts', 'Is this bull market in the room with us right now…? 6-8-23 SPY/ ES Futures, QQQ and VIX Daily Market Analysis (TSLA Update)', 'AI taking over a Wendy’s near you.', 'ADBE Price Upgrade AI Earnings Potential 100% Gains', 'Eurozone slips into recession as revised data shows two quarters of falling output | CNN Business', 'Remember me? I bought NVDA 330C 6/16 about 65 days ago and was lambasted. Who’s the idiot now!?', 'Kroger the mogger earnings coming up', 'Am I Doing this right?', 'Cramer says AI is worth the hype -> YIKES!!!!!', 'Is Disney heading off a cliff', 'What Are Your Moves Tomorrow, June 09, 2023', 'UPDATE: CVNA to the moon 🌚', 'Fed pauses, what’s the trade you’re thinking about?', '2022 u/GlideOutside “margin: never again.” 2023 u/GlideOutside “another $304k of $TSLA on my tab pls”', 'ANOTHER $21,000 day 🥵', 'Did ChargePoint and Blink just lose the Beta vs VHS war to Tesla’s charging standard?', 'Worlds Most Expensive Drug - BMRN - June 30th', 'CNN: It’s official. We’re in a bull market.', \"Ape gets MEGA GUH'd during earnings\", 'Apple Stock Buybacks (Quarterly). Looks like the announced AAPL buybacks are coming soon.', 'Bye-bye bear... New S&P 500 bull market has legs - BofA By Investing.com', 'Tesla 🚀🚀🚀🚀🚀🚀🚀', 'Apple 🍎 Stock could run to $200 $APPL', 'Chart Industries (GTLS) and New EPA Natural Gas Plant Carbon Emissions Regulations = MONEY', 'average search history of a web user', 'My position now Vs my all time. Started the comeback with TSLA calls. Baby steps back…😅', 'my analysis says... PTON to the moon', 'Who will UPS buy vehicle AC hardware from?', 'Advanced Auto Parts $AAP', 'Netflix Password Crackdown Drives U.S. Sign-Ups To Highest Levels In At Least Four Years', 'US Treasury Increase their Balance', 'Up $60k on $TSLA. Tesla to the moon! I came to collect.', '$431.99', '$WOOD calls - Lumber shortage incoming', 'Are these really Short Squeezes or Buying Rallies?', 'GameStop fires CEO, names Ryan Cohen executive chairman', 'Ready for the Fed meeting next week', '$4000 —> $130,000 in 3 weeks.', 'CVNA to the moon? 🌚', 'Big Move Coming - Up or Down- No One knows', 'RobinHood buckles under pressure', 'DOCU Earnings Moves', 'Apple Vision Pro VR/AR headset is the same price as Microsoft HoloLens 2', '$AAPL to the moon', \"Serious Question. What's Wrong with Using RH?\", 'Daily Discussion Thread for June 08, 2023', 'Jumped on the FOMO train and caught one station; +72.73% in one day', 'Volume tickers in play', 'New law threatens to demolish $85 million market for Airbnb', 'Messi’s move to MLS is a big deal for Apple $APPL', 'What is your worst purchase and how much did it cost?', 'Def NOT Doing This Right - AKA Making Money', 'Bank of America is taking tenants.. calls!!! Maybe puts?? 🤔🤔🤔', 'Intelligence Officials Say U.S. Has Retrieved Craft of Non-Human Origin which have been heavily reverse engineered', 'Market Recap - 6/8/23 -', 'who amogus will eat this shit burger?', 'Day trading options', 'The duality of WSB', 'Where is the SEC to regulate this now?', '$BMBL agreed to pay $18M to shareholders to settle lawsuit over misleading during its SPO', 'ADBE Earnings play? Firefly Generative AI', 'Europe stocks mixed as global markets look for direction; euro zone enters recession', 'recession confirmed, calls on $MCD', '$400 ——> $38,000 In 2 Weeks ($6k Transferred Out)', 'Flipped NVDA PUTS today and made $32K'], '2023-06-18': ['Weekend Discussion Thread for the Weekend of June 17, 2023', 'When my family asks how my stocks are doing:', \"Any day now... It's going down like 1920s\", \"When you try to join the Wendy's team, but your loss post is under 100k\", \"Google Trends projects an all-time high in worldwide searches for 'bull market' this month. Everyone is bullish.\", 'Stop buying large cap', 'The economy is fake: S&P500 and Fed QE Highly Correlated', 'unfortunate series of events', 'Is the stock market broken again?', 'Over 20% of S&P 500 companies mentioned AI on their earnings calls:', 'Hey remember me?', 'I aped into Peloton calls, your thoughts?', 'Number #1 Tip of trading Stocks & Options: DO NOT USE MARGIN!!!', 'I would never invest Reddit with its current leadership', \"It's so over\", 'We should prove them wrong boys', 'Looking for YOLO advice', \"Bull market or fool's market? Investors say it's likely the latter\", 'Only 7 Stocks Are Powering the S&P 500 (The Myth of the Diversified Portfolio):', 'U.S. National Debt Surpasses $32 Trillion for the First Time', 'Spirit shares after JetBlue merger', \"Warren Buffett Sub Lurk Confirmed - Wendy's Stock Leads Over McDonald's This Year\", 'That escalated quickly.', 'NCAA panel recommends marijuana be dropped from banned substance list', 'CCL earnings and beyond.', '$FGEN 2x-3x imminent', '$AAPL', \"It's been fun boys\", 'How is ADBE not fucked?', 'AUD/USD faces a tough resistance around 0.6915/40', 'TSLA gain going for 10x this can’t go wrong', 'ENPH basing for a move higher?', 'My life’s over, here’s my final advice', 'Crispin Odey, short-selling hedge funder that criticized & ridiculed retail investors, is finally out🚪', 'Even the big guy has turned his back on me.', 'Acronym for stocks in the A.I. Rally', 'Every CEO this quarter', 'Hey Everyone, I am a software developer and I made an app to query the stock market', '$RIDE bankruptcy or short squeeze to the moon?', '$AMD $28k YOLO. Su Bae take me to the promised land 🤝', 'One of us regards', 'Guess who had the last laugh', 'He must be part of Wall Street Bets', 'Intel Announces Major Brand Update Ahead of Upcoming Meteor Lake...', 'Lol', 'When you trade without Hedge & Risk Management in the Stock Market', 'Buying Credit Default Swaps on the Avocado Market from Deutsche Bank', 'Just days after pausing rate hikes, Fed officials call for more increases', '6-19-23 Short Week Index Moves - EEs OnlyCrayons', '276% profit on BUD puts, now up 220% on INTC calls', 'Held on to TSLA & SPY puts for far too long.', 'Next Week Earnings Releases by Implied Movement', 'Steve Jobs had the Vision Pro on the roadmap already in 2007', 'This happens every couple months, I’ll be fine.', 'Name a worse call Jim Cramer has made than selling Stark stock in 2008', 'China Money Printer to go BRRRRRRRR?', 'Battle of Q2 Real Gdp begins... St Louis Fed vs Atlanta Fed.', 'Automated technical analysis', 'We didn’t even get to fill those gaps today', 'This chart explains just about everything in this market', 'Is day trading gambling?', 'Playing AI earnings is a short term money glitch which cannot go tits up (or can it?)', \"The US economy is entering expansion, not recession, and investors fear they are missing out, Fundstrat's Tom Lee says\", '$ADBE screwed me big time 😭', \"It works until it doesn't\", 'NVDA vs CISCO dot com', 'Most Anticipated Earnings & Economic Releases for the week of June 19th, 2023', 'For the love of Christ, hear me out on $OPEN.', 'Adobe $8k-$76k Gains', '$600 —> $19k $SPCE 🚀🚀🚀', 'NDQ Stop Loss Executed 8% below market🤯 Order placed at 1:30 executed 1:35 on quiet day. Broker said the bid-offer spread widened by 9% WTF', 'Wish me luck🫡 All in $PYPL', 'Feds Aim To Finish Cannabis Scheduling Review ‘This Year,’ Top Biden Official Tells Marijuana Moment', \"Made a years' take home this month after discovering TSLA calls - take bets on how long it'll take to lose it all [All Time included]\", 'NVDA bag holders', 'When in doubt, inverse Cramer it out', 'Technical Pattern Guide - 2023 Edition', 'A month ago I posted about being green on my account for the first time. Today I made margin. Thanks Meta.', 'This is what I get for shorting a failing company that is vaguely related to AI in 2023', 'Is this supposed to be reassuring? Jack Ma can disappear just as easily as your BABA shareholder rights', 'Love is the answer', 'Sorry Elon. $315 calls was just a little too safe. Back to SPY 😎 THE $450 2yr CUP SHALL FILL!!!!!', 'Going to YOLO SPY puts tomorrow at open because ...', \"Trust me bro, it's gonna be just like the 1920s\", 'SPY Technical Analysis for Tuesday June 20, 2023 - SPY’s H1 Analysis: Market Shift Points to Bearish Bias', 'Fuck 🌈 🐻 !', 'Daily Discussion Thread for June 16, 2023', 'Options vs Futures', 'Fucked the fed and treasury rant!', 'Goldman Sachs under federal investigation over role in SVB collapse, reports', 'Shorting the entire country of South Africa 2 years update!', 'Concentrated Gains in a Few Stocks, Loss evenly distributed?', 'JPMorgan settles with Jeffrey Epstein victims for $290 million', 'Hakuna Matata', 'Look me in the eyes and tell me I’m wrong', '$55k Humana Banana 2 week dte call’anas', '$250k gain on $CVNA calls and it’s just getting started. Fireworks tomorrow 🌕', 'Clearly consequential NPS.', '+1.1m: Electric Boogaloo', 'I still remember my first day here'], '2023-06-19': ['Weekend Discussion Thread for the Weekend of June 17, 2023', 'I will not short reddit. I will not short reddit. I will not short reddit.', 'when you switch from trading to investing', 'Where dem taxes at?', \"Regards tomorrow at 9:30 AM wondering why their portfolio isn't going down\", 'When my family asks how my stocks are doing:', 'The S&P 500 earnings yield (medium risk), corporate bonds (low risk), and (3) treasury bills (no risk) are all offering the same yield, 5.3%', 'AMD $135 Call emptied my balance. I’ll take a caramel shake with a side of bleached fries.', 'Basically this sub since you regards discovered AI', 'The S&P 500 has entered a bull market, but will it last?', 'Puts on supply chain', \"Any day now... It's going down like 1920s\", 'Spotted a Rivian out in the wild today. Very Bullish.', 'Canadian housing market will crash', 'Virgin Galactic will start commercial spaceflight as soon as June 27th', 'Investors believe that it is more probable for the current market to be a fool’s market rather than a bull market', 'Binance, SEC reach agreement to keep US customer assets in country', \"Google Trends projects an all-time high in worldwide searches for 'bull market' this month. Everyone is bullish.\", 'unfortunate series of events', \"BP Attributes a 12% Year-on-Year Reduction in Operating Expense to Palantir's Software Implementation Amid an Inflationary Environment🌟🚀\", \"🏥 Health Tech On Rise: Palantir's Hospital Operations Raking 10% U.S. Revenue! 💰\", 'Is the stock market broken again?', 'Rate hikes are environmentally friendly', 'Over 20% of S&P 500 companies mentioned AI on their earnings calls:', '$UBS Deal of the Decade (DD)', 'CD projects (CDR) looks great fellas (whats your top gaming stocks?)', 'Looking for YOLO advice', 'EUR/USD Forecast: Euro to meet strong support at 1.0900', 'NCAA panel recommends marijuana be dropped from banned substance list', 'PLTR and NHS Data Platforms', 'Number #1 Tip of trading Stocks & Options: DO NOT USE MARGIN!!!', \"It's been fun boys\", 'I aped into Peloton calls, your thoughts?', '$FGEN 2x-3x imminent', 'Grandmaster at Play: Checkmating the Crypto Market with Real-Time Analysis', 'Hey remember me?', \"Bull market or fool's market? Investors say it's likely the latter\", \"It's so over\", 'Chamath Palihapitiya Sounds the Alarm: Warns of Potential Debt Crisis - But Who Should We Be Loading Puts On?', 'Spirit shares after JetBlue merger', 'Only 7 Stocks Are Powering the S&P 500 (The Myth of the Diversified Portfolio):', 'U.S. National Debt Surpasses $32 Trillion for the First Time', \"Warren Buffett Sub Lurk Confirmed - Wendy's Stock Leads Over McDonald's This Year\", 'CCL earnings and beyond.', 'That escalated quickly.', 'How is ADBE not fucked?', 'ENPH basing for a move higher?', '$AAPL', 'TSLA gain going for 10x this can’t go wrong', 'My life’s over, here’s my final advice', 'Crispin Odey, short-selling hedge funder that criticized & ridiculed retail investors, is finally out🚪', 'Acronym for stocks in the A.I. Rally', 'Every CEO this quarter', '$AMD $28k YOLO. Su Bae take me to the promised land 🤝', 'One of us regards', 'Guess who had the last laugh', 'He must be part of Wall Street Bets', 'Intel Announces Major Brand Update Ahead of Upcoming Meteor Lake...', '6-19-23 Short Week Index Moves - EEs OnlyCrayons', 'Buying Credit Default Swaps on the Avocado Market from Deutsche Bank', 'Just days after pausing rate hikes, Fed officials call for more increases', 'When you trade without Hedge & Risk Management in the Stock Market', '276% profit on BUD puts, now up 220% on INTC calls', 'Held on to TSLA & SPY puts for far too long.', 'Next Week Earnings Releases by Implied Movement', 'This chart explains just about everything in this market', 'Steve Jobs had the Vision Pro on the roadmap already in 2007', 'Automated technical analysis', 'This happens every couple months, I’ll be fine.', 'Battle of Q2 Real Gdp begins... St Louis Fed vs Atlanta Fed.', 'Name a worse call Jim Cramer has made than selling Stark stock in 2008', 'China Money Printer to go BRRRRRRRR?', 'We didn’t even get to fill those gaps today', 'Is day trading gambling?', 'Playing AI earnings is a short term money glitch which cannot go tits up (or can it?)', \"The US economy is entering expansion, not recession, and investors fear they are missing out, Fundstrat's Tom Lee says\", 'Lol', '$ADBE screwed me big time 😭', \"It works until it doesn't\", 'NVDA vs CISCO dot com', 'For the love of Christ, hear me out on $OPEN.', 'Most Anticipated Earnings & Economic Releases for the week of June 19th, 2023', 'Adobe $8k-$76k Gains', '$600 —> $19k $SPCE 🚀🚀🚀', 'NDQ Stop Loss Executed 8% below market🤯 Order placed at 1:30 executed 1:35 on quiet day. Broker said the bid-offer spread widened by 9% WTF', 'Wish me luck🫡 All in $PYPL', 'Feds Aim To Finish Cannabis Scheduling Review ‘This Year,’ Top Biden Official Tells Marijuana Moment', \"Made a years' take home this month after discovering TSLA calls - take bets on how long it'll take to lose it all [All Time included]\", 'NVDA bag holders', 'When in doubt, inverse Cramer it out', 'Technical Pattern Guide - 2023 Edition', 'A month ago I posted about being green on my account for the first time. Today I made margin. Thanks Meta.', 'This is what I get for shorting a failing company that is vaguely related to AI in 2023', 'Sorry Elon. $315 calls was just a little too safe. Back to SPY 😎 THE $450 2yr CUP SHALL FILL!!!!!', 'Love is the answer', 'Is this supposed to be reassuring? Jack Ma can disappear just as easily as your BABA shareholder rights', 'Going to YOLO SPY puts tomorrow at open because ...', 'SPY Technical Analysis for Tuesday June 20, 2023 - SPY’s H1 Analysis: Market Shift Points to Bearish Bias', \"Trust me bro, it's gonna be just like the 1920s\", 'Fucked the fed and treasury rant!'], '2023-06-20': ['What Are Your Moves Tomorrow, June 20, 2023', 'Found the Christian Regard Who Lost $600,000k', 'Puts on supply chain', 'WSB when a bear says literally anything', 'when you switch from trading to investing', 'Basically this sub since you regards discovered AI', 'Apple to shift 18 per cent of global iPhone production to India by FY25: Report', 'I will not short reddit. I will not short reddit. I will not short reddit.', 'AI could add $4.4 trillion to the global economy per year (per McKinsey)', 'The S&P 500 earnings yield (medium risk), corporate bonds (low risk), and (3) treasury bills (no risk) are all offering the same yield, 5.3%', 'Where dem taxes at?', 'Tell me why I shouldn’t buy leap calls on Target', 'Anyone else see signs of DEFLATION where they live?', 'AMD $135 Call emptied my balance. I’ll take a caramel shake with a side of bleached fries.', 'The S&P 500 has entered a bull market, but will it last?', 'Bullish on $TGT', '12 Hours after the post about BABA', 'Virgin Galactic will start commercial spaceflight as soon as June 27th', \"Regards tomorrow at 9:30 AM wondering why their portfolio isn't going down\", 'When my family asks how my stocks are doing:', \"Someone's getting paid for those naked shorts.\", \"$TGT's investor hate-wave is a nothing burger.\", 'What Recession? The Wall St China Trap and your money', '$UBS Deal of the Decade (DD)', 'Commercial Real Estate Crash getting bigger in a month and time to surf the down fall', 'What companies/industries are likely to benefit/suffer from student loans restarting?', 'Unusual Synchronicity: Oil Short and Long Positions Both Rise in Response to OPEC+ Production Cuts', \"Any day now... It's going down like 1920s\", 'Spotted a Rivian out in the wild today. Very Bullish.', 'Canadian housing market will crash', 'BABA - Does anyone have a counterargument against buying the stock?', 'Binance, SEC reach agreement to keep US customer assets in country', 'LON: BT.A', 'Rate hikes are environmentally friendly', 'For real, is anyone keeping tabs on 4Chan?', 'PLTR and NHS Data Platforms', \"Google Trends projects an all-time high in worldwide searches for 'bull market' this month. Everyone is bullish.\", 'unfortunate series of events', \"🏥 Health Tech On Rise: Palantir's Hospital Operations Raking 10% U.S. Revenue! 💰\", 'Is the stock market broken again?', 'Over 20% of S&P 500 companies mentioned AI on their earnings calls:', 'Looking for YOLO advice', 'USD/JPY: Sustained gains likely above 142.25', 'CD projects (CDR) looks great fellas (whats your top gaming stocks?)', 'EUR/USD Forecast: Euro to meet strong support at 1.0900', 'NCAA panel recommends marijuana be dropped from banned substance list', 'Number #1 Tip of trading Stocks & Options: DO NOT USE MARGIN!!!', \"It's been fun boys\", 'Chamath Palihapitiya Sounds the Alarm: Warns of Potential Debt Crisis - But Who Should We Be Loading Puts On?', 'I aped into Peloton calls, your thoughts?', '$FGEN 2x-3x imminent', 'Hey remember me?', \"Bull market or fool's market? Investors say it's likely the latter\", \"It's so over\", 'Spirit shares after JetBlue merger', 'Only 7 Stocks Are Powering the S&P 500 (The Myth of the Diversified Portfolio):', 'U.S. National Debt Surpasses $32 Trillion for the First Time', \"Warren Buffett Sub Lurk Confirmed - Wendy's Stock Leads Over McDonald's This Year\", 'CCL earnings and beyond.', 'How is ADBE not fucked?', 'That escalated quickly.', 'ENPH basing for a move higher?', '$AAPL', 'TSLA gain going for 10x this can’t go wrong', 'My life’s over, here’s my final advice', 'Crispin Odey, short-selling hedge funder that criticized & ridiculed retail investors, is finally out🚪', 'Acronym for stocks in the A.I. Rally', 'Every CEO this quarter', '$AMD $28k YOLO. Su Bae take me to the promised land 🤝', 'One of us regards', 'Guess who had the last laugh', 'He must be part of Wall Street Bets', 'Intel Announces Major Brand Update Ahead of Upcoming Meteor Lake...', '6-19-23 Short Week Index Moves - EEs OnlyCrayons', 'Buying Credit Default Swaps on the Avocado Market from Deutsche Bank', 'Just days after pausing rate hikes, Fed officials call for more increases', 'When you trade without Hedge & Risk Management in the Stock Market', '276% profit on BUD puts, now up 220% on INTC calls', 'Held on to TSLA & SPY puts for far too long.', 'Automated technical analysis', 'Next Week Earnings Releases by Implied Movement', 'This chart explains just about everything in this market', 'Steve Jobs had the Vision Pro on the roadmap already in 2007', 'Battle of Q2 Real Gdp begins... St Louis Fed vs Atlanta Fed.', 'This happens every couple months, I’ll be fine.', 'Name a worse call Jim Cramer has made than selling Stark stock in 2008', 'China Money Printer to go BRRRRRRRR?', 'We didn’t even get to fill those gaps today', 'Is day trading gambling?', 'Playing AI earnings is a short term money glitch which cannot go tits up (or can it?)', \"The US economy is entering expansion, not recession, and investors fear they are missing out, Fundstrat's Tom Lee says\", 'Weekend Discussion Thread for the Weekend of June 17, 2023', '$ADBE screwed me big time 😭', \"It works until it doesn't\", 'NVDA vs CISCO dot com', 'For the love of Christ, hear me out on $OPEN.', 'Most Anticipated Earnings & Economic Releases for the week of June 19th, 2023', 'Adobe $8k-$76k Gains', '$600 —> $19k $SPCE 🚀🚀🚀', 'NDQ Stop Loss Executed 8% below market🤯 Order placed at 1:30 executed 1:35 on quiet day. Broker said the bid-offer spread widened by 9% WTF'], '2023-06-21': ['Daily Discussion Thread for June 21, 2023', 'Oh Boy', 'Risk Management: \"we run the whole thing with this game controller\" while holding up what appears to be a modified $Logitech gamepad', 'Bears assemble!!! Head and shoulder pattern has appeared', 'Well somebody made a lot of money shorting the markets today', 'More Americans Are Getting Auto Loans That Exceed the Worth of Their Cars', 'Anyone else loading up on calls? I’m going to buy a Lamborghini aventador', 'Andy Bail-out reckons this will be the one bro', 'SPY ATH EOY', 'Some pills are tough to swallow', '$TSLA permabulls be like', 'A look inside WSB', 'I saw this and thought of you regards.', 'Chairperson of Council of Economic Advisers: Inflation Reduction Act, (IRA), is really just the Investment Reduction Act', 'How I felt after today’s trading day', 'Forgive me Su Bae', 'LUCID insiders selling at a loss.', \"The bears thought they had found the head and shoulders pattern but us bulls know it's the germany 1940 pattern\", 'GRND: Gamble on the Gays', '\"The market can self-regulate!\" Market: Submarine = 1 $LOGI controller, 2 bathtubs from $HD, duct tape from $MMM & 1 walkie-talkie from $DG', 'It’s happening 🧸', 'The first stock I ever bought on RH ($NVDA)', \"So you're saying there's a chance?\", 'Bears be like', '12.5K AUD profit - still holding RAAAAAAA🚀🚀🚀', 'The fall of Natural Gas throughout the last 20 years. Natural Gas has been getting cheaper as everything else is getting more expensive.', 'Wen your portfolio goes 1% up (Me and my homie be like)', 'Morning Briefing 🌞 June 21st 2023', 'Shorts Have Already Lost $120 Billion This Year', 'NVIDIA partner ASML: To the Moon', 'Two months in and almost back at where I started', 'Found the Christian Regard Who Lost $600,000k', 'Mission Accomplished', 'Why do Bears have more Conviction than Bulls?', \"Exclusive: EV maker Rivian to adopt Tesla's charging standard\", 'LQDA 31k YOLO (up 14k so far)', 'The first two stocks I ever bought on RH ($NVDA & $AMD)', 'Common mistakes I already did and you can avoid', 'Time for YOLO NVDA Puts!!', 'NVO: The miracle weight loss drug', 'Volume moving tickers in play', 'Help', 'Capital One Financial Corp (COF): A Deep Dive into Potential Bearish Indicators', \"10k in $PYPL - see y'all in a year\", 'What Are Your Moves Tomorrow, June 21, 2023', 'SPCE it is time', 'Buying Tesla has paid off. What to do, what to do…..submitted again so you kids would know what my stock was. Sorry.', 'Advice from the Balloon Boy', 'FedEx earnings today - What do?', 'CVS Health is too cheap to ignore', 'Nvidia $NVDA vs. Tesla $TSLA vs. S&P 500 $SPY, 2023 performance YTD:', 'Am I regarded?', 'IM NOT LETTIN GO! ITS GONNA MAKE MY $100,000 ALL THE BETTER NEXT WEEK!', 'if only we had another India', 'Intel Invests Almost $40Billion Dollars Into New Facilities in Germany, Poland and Israel', 'Bought $NEWR puts PT 54.0', 'Vmware broadcom merger', 'Short $TSLA Position + Naked Short Calls + Covered Puts', 'WSB when a bear says literally anything', 'EV Maker Rivian to adopt Tesla Charging Standard in Beginning 2024: After Announcement Tesla, Ford, GM & Rivian Stock Jump On Tuesday', 'Long term recurring yolo on housing market taking a dump $DRV', 'Puts on supply chain', 'What’s going to cause a pullback in big tech aka the Magnificent 7?', 'Nvda will never fall', 'GO AND FTCH ME MONEY, BITCH.', '12 Hours after the post about BABA', 'I guess diversification does work. Throw enough shit at the wall eventually one will stick', 'Daily Discussion Thread for June 20, 2023', '$PTON yolo update, I bought more. Steady lads 1)what 😳', 'Apple to shift 18 per cent of global iPhone production to India by FY25: Report', 'Biden meets AI experts in an effort to mitigate risks of technology', 'Time in the market', 'Will it print or will I cray?', 'roku thesis for friend', '$NKLA$', 'GEX/DEX Data for Trading', 'when you switch from trading to investing', 'Basically this sub since you regards discovered AI', 'Scalping 9 markets simultaneously', 'Gannett sues Google over alleged monopolization of ad-tech markets', 'NZD/USD: Upside momentum loses some traction', 'How fucked am I lol?', 'AI could add $4.4 trillion to the global economy per year (per McKinsey)', 'Europe, US pressed to speed up legislation for AI', 'I will not short reddit. I will not short reddit. I will not short reddit.', '6-20-23 Volume tickers in play', 'Tell me why I shouldn’t buy leap calls on Target', 'The S&P 500 earnings yield (medium risk), corporate bonds (low risk), and (3) treasury bills (no risk) are all offering the same yield, 5.3%', 'Anyone else see signs of DEFLATION where they live?', 'Where dem taxes at?', '35.6k DPST YOLO', 'AMD $135 Call emptied my balance. I’ll take a caramel shake with a side of bleached fries.', 'USD/CHF: Aims to recapture 0.9000 as Fed Powell’s testimony hogs limelight', 'What Are Your Moves Tomorrow, June 20, 2023', 'LON: BT.A', 'Bullish on $TGT', 'The S&P 500 has entered a bull market, but will it last?', 'Virgin Galactic will start commercial spaceflight as soon as June 27th', 'Wen you check your TTWO bag 👀', \"Is the Tech Bubble Finally Bursting? A Look at Today's Market\"], '2023-06-23': ['Daily Discussion Thread for June 23, 2023', 'The JPow Rises', 'This fight needs to happen. Elon has size and South African but Mark has training', 'Coffeezilla dragging us on his latest investigation', 'Ran some simulations on what the fight between Elon and Mark would look like.', 'Who yall putting your bets on?', 'Definitely selling off my TSLA shares now', 'Calls on Virgin Galactic', 'Do we short Tesla at weigh in??', 'The world needs this', 'Siemens Energy stock collapses as its loss-making wind turbine unit needs €1 billion to fix faults in installed turbine components.', 'CNBC couldn’t find a better picture?', 'INTC $50k yolo 🚀', 'The stock market and bond markets are reflecting different investor sentiments about the future of the economy, Which do you think is right?', 'New TSLA Investors', 'Puts on LOGI', 'Yield curves around the world are inverting the most in decades. German 2-year yields are the highest versus 10-year rates since 1992.', 'Meet the biggest bag holders in the world: Saudia Arabia and MBS down 79%', 'Morning Briefing 🌞 June 23rd 2023', 'WTF is this expression?', 'FRC BACK FROM THE DEAD?', 'Wall street you some sick fucks $ATVI', 'Does this count?', '19k CCL Earnings', 'Idk what’s worse, the loss or the fact I’m fully convinced I’ll have $80,000 by expiration 😎', \"Elon's Upcoming Beating Priced In\", 'Another NVDA director sold $50M in company stock.', \"DeepMind's co-founder suggested testing an AI chatbot's ability to turn $100,000 into $1 million to measure human-like intelligence\", '3M Settles ‘Forever Chemicals’ Litigation for Up to $12.5 Billion', 'TSLA ranks 2nd to last on JD Power quality survey', 'At what point is it time to short Berkshire', 'The Fed Put is fer realz', 'COF Capital One Way Undervalued', '6/23/23 Volume tickers in play', 'Welp. Pulling the last pennies of my savings out to start boomer investing for the rest of my life. Might as well get some karma.', 'Short PayPal', 'Inflation will keep going up for eternity', 'TSLA bot Optimus training for the META bot Zuckerberg fight', 'Meta is Free Money pt. 1024', 'What Are Your Moves Tomorrow, June 23, 2023', 'Top Tech Stocks Market Cap Timeline (with Earnings Highlights)', 'Bank of England surprises with 50-basis-point rate hike to tackle persistent inflation', '$381 NVDA Price Target: I Am Shorting.', 'Blank stare', 'Musk or Zuck? 🍖👊', 'Can’t make a single good trade Guh', 'Double bottom on AMC and 500k put writer? Next bull run coming? lets see if the flow is right.', '$ASTS: My all in play -> Target: 50 end of year', 'Iron Condors: Week 2. FDX/TSLA + $2000', 'As USO sees its largest fund outflow, WTI crude oil nears $67/barrel on a downtrend', 'GRND: Hindu Mythology and my 25K YOLO', 'Cannabis LPs and MSOS community needs guidance.', 'Lamest Yolo UPdate week loss porn', 'Why has SPY VOL dried up so much?', 'What am I missing about Sixt Vz. ?', 'YOLO, Short on C3.AI', 'Short Bets on US Stocks Hit $1 Trillion', 'US Treasury Secretary Yellen Sees Lower US Recession Risk, Says Consumer Slowdown Needed', 'Oh Boy', '+$10k to -$23k in a flash. This time will be different.', 'Some humor to start your day. My Wendy’s resume 😉 Diamond hands 🙌🏻 💎', 'CCL Calls?', 'When the S&P 500 is up 10-15% by the end of June, it has ended the year higher 12 out of 12 times.', 'First week with options 📉', 'Daily Discussion Thread for June 22, 2023', 'AMC from AI', 'What hype will TESLA bandwagon for 2024?', 'Tesla downgraded by Morgan Stanley, could this be a time to buy puts?', 'Bears enjoy it while it last!', '$15.7 Billion per month will be removed from the economy as student loan payments resume in October (taking away from discretionary spending', 'Can someone please explain the student debt sitch to me', '1st YOLO post $RBLX', \"How Long Will the Bull Market's Music Keep Playing?\", 'US sharemarket: Short bets on US stocks hit $1.5 trn, most since April 2022', 'YOLO: $65k on $LYFT July 10.5 Calls', 'SPY ATH EOY', 'Bro Stocks always go up it’s just all one huge money suck!', 'Putting in the DD - WSB x GRND', '$HAS to get some A$$', 'I would like to submit the phrase Cocaine Bear Market for consideration', 'Now its is time for the swedish saga! (SBB)', 'So NVDA…', 'Average r/WallStreetBets user', 'TSLA: Christianity and Bearish Outlook', 'POV: you bought puts at the top last week.', 'WSB Hater of the Year Award Ceremony', 'Even regards need to eat. Show me them puts!', '1 day spy yolo', 'Welp', 'Sarepta Muscular Dystrophy Gene Therapy FDA Decision Today Afterhours', 'Risk Management: \"we run the whole thing with this game controller\" while holding up what appears to be a modified $Logitech gamepad', 'Tesla bulls to their brokers after Thursday', 'More Americans Are Getting Auto Loans That Exceed the Worth of Their Cars', 'Lab-grown meat is cleared for sale in the United States', 'Defense Stock Portfolios', 'Bears assemble!!! Head and shoulder pattern has appeared', 'Roku up or down??', 'With all this talk about generative AI......what company will capitalize on bringing AI into the porn game!?', '6=22=23 Volume moving tickers', 'Ex-Goldman Banker Convicted of Passing Insider Tips to Squash Pal-Turned-Informant'], '2023-06-25': ['Weekend Discussion Thread for the Weekend of June 24, 2023', 'found my new side hustle', 'Here we go again! (Socialist economists like Krugman don’t understand the power of innovation and expanding consumer choices)', 'How everyone who locked in < 3% interest rates on their homes are feeling rn looking at the housing market', 'Elon Musk Says It Would ‘not Be Legal For Me To Speculate About A Starlink IPO’—but It’ll Make The World’s Richest Man Even Richer', 'Am I a Real Trader Yet?', 'My never-to-be lambo is gonna be so lit 🔥', 'Russia turmoil to fuel market volatility, flight to safety', 'Follow your heart', 'LOST 11k in four days and blew my account.', 'Choose Your Fighter 🚨', 'Patient bears, the time is coming', 'Russian Roulette', 'Poots on russia?', 'Next Week Earnings Releases by Implied Movement', 'How to tank the world economy in 3 easy steps 🐻🐻🐻', 'This qualifies as wallstreetbets, right?', 'Shorting TQQQ using options', 'This fight needs to happen. Elon has size and South African but Mark has training', 'YOLO BOLO AMD POOTS', 'Jensen Huang finally sold some NVDA stock.', \"SPY Technical Analysis for Monday June 26, 2023 A Closer Look at SPY's Bearish Short-Term Trend: Key Levels and Potential Reversal Zones\", 'Can’t go tits up', 'Here is to all my fellow degenerates, who also bought calls Friday, before waking up to a Russian civil war.. GUH', 'That was fast. Indian PM gets wish granted in record time. 🇮🇳📈 Amazon commits 15B to Indian development.', 'Investors are gripped by fears of a recession, leading to a decline in global markets', 'Coffeezilla dragging us on his latest investigation', 'Ran some simulations on what the fight between Elon and Mark would look like.', \"So we didn't only bailout banks we bailed out large hedge funds as well.\", 'Puts on LOGI', 'Seabreeze Capital - Going long cannabis - MSOS, Trulieve, Greenthumb on re-schedule + banking reform by yr end', 'The world needs this', 'Puts on Nikola', 'Grinding Back to Even', 'Come on now - who did this?', 'Definitely selling off my TSLA shares now', 'Tesla Gains this month', 'TSLA bot Optimus training for the META bot Zuckerberg fight', 'Assigned Put I sold as part of a Put Credit Spread that expires 7/21/23 $AVTR', 'Siemens Energy stock collapses as its loss-making wind turbine unit needs €1 billion to fix faults in installed turbine components.', 'Meet the biggest bag holders in the world: Saudia Arabia and MBS down 79%', 'Meta is Free Money pt. 1024', 'Latecomers to 40% Tech Stock Rally Arrive in Time to See It Fade', 'Calls on Virgin Galactic', \"Elon's Upcoming Beating Priced In\", \"DeepMind's co-founder suggested testing an AI chatbot's ability to turn $100,000 into $1 million to measure human-like intelligence\", 'Do we short Tesla at weigh in??', 'Short C3.AI YOLO, 2nd day', 'Temu has been caught by congress using slave labor and a shipping loop-hole, PDD the owner is probably gonna crash hard this week', 'Long $ROPE if this doesn’t bounce', '19k CCL Earnings', 'The JPow Rises', 'The stock market and bond markets are reflecting different investor sentiments about the future of the economy, Which do you think is right?', 'CNBC couldn’t find a better picture?', '40K $CVNA Put Play | Expiration 07/07 | 20.00 Strike | 330 Contracts', 'The Fed Put is fer realz', 'Daily Discussion Thread for June 23, 2023', 'Yield curves around the world are inverting the most in decades. German 2-year yields are the highest versus 10-year rates since 1992.', 'Does this count?', 'New TSLA Investors', 'NDAQ 34@49.40 bet. St. Patrick told me it goes up 75%.', 'Morning Briefing 🌞 June 23rd 2023', 'Iron Condors: Week 2. FDX/TSLA + $2000', 'WTF is this expression?', \"I'm going long on $ENVX\", 'Wall street you some sick fucks $ATVI', 'FRC BACK FROM THE DEAD?', 'A Short Thesis Against $TFIN: Questionable Valuation and Industry Risks', 'As USO sees its largest fund outflow, WTI crude oil nears $67/barrel on a downtrend', 'Idk what’s worse, the loss or the fact I’m fully convinced I’ll have $80,000 by expiration 😎', 'Another NVDA director sold $50M in company stock.', '3M Settles ‘Forever Chemicals’ Litigation for Up to $12.5 Billion', 'TSLA ranks 2nd to last on JD Power quality survey', 'COF Capital One Way Undervalued', 'At what point is it time to short Berkshire', '6/23/23 Volume tickers in play', 'Short PayPal', 'Why has SPY VOL dried up so much?', 'Inflation will keep going up for eternity', 'Top Tech Stocks Market Cap Timeline (with Earnings Highlights)', 'What Are Your Moves Tomorrow, June 23, 2023', 'KMX daily business trend insight', 'Bank of England surprises with 50-basis-point rate hike to tackle persistent inflation', '$381 NVDA Price Target: I Am Shorting.', 'Blank stare', 'US Treasury Secretary Yellen Sees Lower US Recession Risk, Says Consumer Slowdown Needed', 'Can’t make a single good trade Guh', 'Musk or Zuck? 🍖👊', '$ASTS: My all in play -> Target: 50 end of year', 'GRND: Hindu Mythology and my 25K YOLO', 'Lamest Yolo UPdate week loss porn', 'YOLO, Short on C3.AI', 'Short Bets on US Stocks Hit $1 Trillion', 'Oh Boy', '+$10k to -$23k in a flash. This time will be different.', 'When the S&P 500 is up 10-15% by the end of June, it has ended the year higher 12 out of 12 times.', 'CCL Calls?', 'Some humor to start your day. My Wendy’s resume 😉 Diamond hands 🙌🏻 💎', 'First week with options 📉', 'Daily Discussion Thread for June 22, 2023'], '2023-06-30': ['Daily Discussion Thread for June 30, 2023', 'The Future of investment expertise', 'Supreme Court strikes down student loan forgiveness plan', \"Apple has once again become the world's biggest company, with a staggering valuation of $3 trillion - ProfessPost\", 'I’m sick of these lame ass loss porns…. THIS IS WHAT REAL LOSS PORN LOOKS LIKE! (Don’t worry I was +45% green today)', 'Interview with a WSB Member', 'I can only lose 100% though', 'AMC Shareholder’s Meeting', 'JPMorgan Chase is fined by SEC after \"mistakenly\" deleting 47 million emails', 'Prime wsb real estate', 'Find the one you can’t live without', 'Sriracha shortage sees sauce prices spike to over $70 a bottle', '$40k SPY gain overnight MERICA', '$400 million worth of Virgin Galactic (SPCE) stock to be sold in new offering by the company. DILUTION INCOMING!', \"Student loan forgiveness failed, we'll get 'em next time\", 'My therapist tells me to join this sub. Why?', 'The next great short CAVA', 'How fucked am I?', \"NKE Earnings are Today and this is how you'll make money on it.\", 'Saw this last night at the Oakland A’s Coliseum during the perfect game. Felt that this also would be right at home here.', 'This is seriously hurting my self-esteem', 'Core PCE is up .3 % which means the only Question now is how high will Powell raise rates at the next FOMC meeting', 'Jpow stroking the markets once a month. Up & down', \"I don't have much, but in goes the life savings. Wish me and IONQ good luck\", 'F NVDA, F RH , F market maker, FML', 'Goodbye Overstock.com. Hello Bedbathandbeyond.com', 'Virgin Galactic Completes First Commercial Spaceflight', 'This is how you play earnings season fellas. NKE Iron Condors FTW!', 'WSB Dad supports his son', 'Danaos (DAC)- The Richest Company on Earth', 'Money. Printer. Go. BRRRRRRRRRRRRRRRRRRRRRRRRRRRRRRRRRRRRRRRR', 'After years of practice in the stock market, I’ve decided to apply my “wisdom” and “invest” in other channels. WCGW?', 'Nvidia stock has exploded after COVID 19. Intel investors have been dumped on.', '$50,000 RIVN YOLO. These ghey bers don’t know who they fuckin with', 'Musk vs Zuckerberg. The fight of the Century !!!', 'WILL SPX CRACK 4450 TODAY?', 'I didnt hear no bell ( randy marsh voice )', 'Big US banks would lose $541bn in doomsday scenario, predicts Fed', 'June Update', 'What Are Your Moves Tomorrow, June 30, 2023', 'Tesla sales explode in Australia - with the marque close to running out of stock and it taking a major sales crown from Toyota', 'I know we like to joke about Cramer, but as we can see from SJIM’s chart, it’s also not wise to inverse everything he says', 'MDT coming out of supply zone, target 115 eoy', 'Guys, hold tight', '$HAS Hasbro goin ape shit $70c 01/24', '$LILM Yolo, 54.8K Shares @ 1.61 Cost Basis', 'Guys What Happened with SPCE today? Today the launch went successful but the moment it started to come down it dropped 10%.', 'Even Wendy’s wont accept me, welp!', 'Compliance chief at Chinese fintech stole girlfriend’s insider info to trade VMware, tech stocks', 'My life is over. What have I done', 'IonQ Partners with South Korea’s Ministry of Science and ICT to Boost Regional Quantum Computing Ecosystem and Cultivate Quantum Talent', 'Bank of America nurses $100bn paper loss after big bet in bond market', 'Is Tilray TLRY coiling up in major consolidation ready to pop?', \"Zillow Doesn't Know Shit About Real Estate - Insider Selling Looks Like A Bloodbath\", 'Ride or die stock out side the s&p 500?', \"Siemens Energy's shares plummet over 37% due to increasing worries about wind turbine performance - ProfessPost\", 'Home prices in the US declined for the first time in 11 years:', 'Nikola Corp Says Received Notice From Nasdaq Informing Co That It Has Regained Compliance With Nasdaq Listing Rule 5450(A)(1)', 'Someone Get This Guy the Nobel Prize in Economics', 'How does WSB like NVO (Novo Nordisk, makers of Ozempic)?', 'Daily Discussion Thread for June 29, 2023', 'Thank you to USAA Insurance for sponsoring these trades with my insurance money. My car will never drive again....', 'The infinite wisdom of AutoModerator has been bestowed on us.', 'Space companies', 'Woke up to this…', 'WSB initiation, loss porn', 'HES ALIVE!! CVNA 🌕 $30+ this week', \"Six questions facing US stock investors as 2023's second half nears.\", 'Life is falling apart', 'Are we in a bubble ? Are you a bull or bear?', 'BA $17,000 GAIN✈️', 'Updated TimeLine for Microsoft Activison Deal', 'Teamsters: Nationwide UPS Strike is Imminent', \"AbCellera (ABCL): The AI-Powered Drug Discovery Gem You've Been Snoozing On - An Easy 2x Play - DD\", 'Bulls is purple true?', 'Nvidia right now is moderna during covid.', 'Ukrainian Debt is now one of the hottest emerging market investments, with returns of over 30% in the second quarter:', 'What Are Your Moves Tomorrow, June 29, 2023', 'Tesla float getting close to 0', 'Federal Reserve says 23 biggest banks weathered severe recession scenario in stress test', 'Virgin galactic first commercial space flight tomorrow', 'Odds released for Battle of the Billionaires cage fight: Who you got?', 'Its time to short semis', 'Sold my tech holdings', 'Nissan reportedly spied on former COO As CEO searched for leverage', \"It'll be fine, most likely, right?\", 'ATVI hearing / insurance play', 'Powell Calls for Stronger Bank Regulation and Supervision', \"I'm going to make millions using the Steam Summer Sale.\", 'Nvidia is going to $320', 'COIN Gainz Update ~$40k. Sold remaining calls', '1 week Options be like…', 'Micron Delivers Strong Forecast in Sign That Chip Glut Is Easing', 'Thoughts on this stocks situation', 'Time to secure profits and sell everything or hodl tight? Yes, my losses are laughable, I have hard time letting go. Still learning. +~198k', 'YTD Performance of the S&P 500 & NASDAQ vs. the Magnificent 7 (Apple $AAPL, Microsoft $MSFT, Google $GOOGL, Amazon $AMZN, Nvidia $NVDA, Tesl', \"Americans need $1.3 Million to retire comfortably and most don't have enough saved. The average savings is $90,000:\", 'Most want a Lambo, but Ferrari is more my taste.', 'Rtx guy again', 'Potential Trading Opportunity on Microsoft Activision Deal'], '2023-07-04': ['Group Barbeque Thread for July 4th, 2023', 'Most Anticipated Earnings Releases for the week beginning July 3rd, 2023', 'Anybody feel this pain?', 'Finally, somebody gets me', 'Name a company like this, I’ll go first, BBBY.', 'The only reason I will never touch TSMC', 'After bagholding $TSLA for almost two years, finally out of the red.', 'Me waiting for $RIVN to kill Tesla like the people on the internet told me', 'Have to love the consistency. Blackrock FTW!', \"Flashback 2010: Jim Cramer advises not to buy Tesla during it's IPO when the price was $1.13 (split adjusted)\", 'I gambled on the gays and the gays lost (GRND)', 'Mother Fucking Aliens Have Arrived And They Are Investing In The Stock Market - Recession Canceled', 'Someone help.', 'The Bull Market is Just Starting', 'Billionaire investor Barry Sternlicht believes that a substantial drop in inflation is imminent, as evidenced by the decline in rents', 'When you just got paid but the market is closed', 'The world’s 500 richest people added $852bn to their fortunes in the first half of 2023.', \"Longing Zimbabwe's stock market\", 'Venture capital funds cool on plant-based meat start-ups', 'Puts in the colonizers! Britain is now the only major economy where inflation is still rising.', 'Looks like the scheduled apocalypse will be postponed', 'RIVN $129K', 'Yummerz', 'Continued Claims - A recession indicator with a 100% perfect track record, has crossed the rubicon', 'tesla deliveries 👀', 'Apple forced to make major cuts to Vision Pro headset production plans', 'FT BREAKING: China hits back with export curbs on chip making materials', 'options level 4 granted', '209 you say? sure, why not', 'Why AAPL TSLA MSFT FB NVDA will go Even higher', 'Quintuple top on RBLX?', 'When she finds out you have Tesla calls 🥵', 'How would alien disclosure benefit or hurt certain industries in the stock market?', 'AMD AI chips could match Nvidia offerings, software firm says', 'CCL +15K', 'Thoughts on $DPST', \"Mom, dad: I'm a Bear\", '☠️🩸AstraZeneca (NASDAQ: AZN) Phase 3 Drug for Lung Cancer Killed People. Here is why the Stock WILL Bleed to Death This Week 🩸☠️.', 'A simple strategy I created', 'Tesla Bears right now after that blowout delivery report', 'BABA chart giving me that middle finger', 'Weed stocks are oversold. Small YOLO', 'Im going to buy BABA', \"AI'Merica: No Recession Fears\", 'Most investors believe we are in a new bull market and there will be no recession in 2023', 'Yolo rtx puts', 'Tesla to 350', \"Will Warren Buffet's death affect Berkshire Hathaway?\", 'Semiconductor market: Q1 2023 sees decline of 9% YOY, MPU 65% YOY. NVDA/AI driving demand - monopoly advantage or the higher they rise...?', 'Daily Discussion Thread for July 03, 2023', 'Japan launches Prime 150 stocks benchmark to help investors identify value', 'Controlthenarrative when he sees the Dumb Money trailer', '“US Factory Sector Continues Contraction for Eighth Straight Month, Raising Concerns of Impending Recession', 'PIMCO prepares for a \"rough landing\" of the global economy', 'Canadians, how do you invest in Canada?', 'Would be very shocked for Nvidia to keep going up with over 200P/E. My personal thoughts is a pull back to 400 to retest then possibly 375.', \"🚀 Tesla to the Moon 🚀: A Hilarious Due Diligence on Why It's Going to Hit $600 per Share by Year-End!\", 'TSLA: Breakout', 'Nokia renews patent license agreement with Apple, covering 5G and other technologies', 'when you forget to pay back marge', 'Best US stocks of 2023 so far: Nvidia leads big tech renaissance', 'tesla will continue to be the dominant ev leader, here’s why', 'Oil Price Analysis: Speculators, OPEC+, and Future Uncertainty', '$51k TROW YOLO Update- July 2023', '7 Year Streak of SPY Closing Higher in July Versus June', 'Cellphone Activity is substantially down in several major US cities - will this affect carriers?', 'I Gotta Redo this frame by frame with F^CK Man now...', 'Tale of the epic comeback…. Started with oil, ended with oil….', 'Follow Up on the Bankrupts', 'Is Nvidia Overvalued? AVGO Boasts 62% Higher Net Income than NVDA, Yet with a 65% Lower Market Cap?', 'What Are Your Moves Tomorrow, July 03, 2023', \"It's the summer of love, baby !\", \"has wayfair's share price gone way too crazy? Puts awaiting\", 'EUR/USD: Uncertain Technical Outlook Ahead of US Jobs-Focused Week', 'Sunday Night Movie Time with WSB: Office Space (8:30pm EST)', 'SPY TA Week of July 3rd', 'When it dips to 400, buy calls', \"How spread ask can be more than the spread's value?\", 'NVDA stock price and news about NVDA. Main action after 22 may', 'Bond fund giant Pimco prepares for ‘harder landing’ for global economy', 'NVDA and Charles Schwab', 'Spce doomed to fail', 'Death Knell for $PYPL', 'I recommend taking a look at (VRT) - Vertiv', 'Apple new headset', 'Fear and Greed Index', 'DAL - Everything you need to know about Delta Airlines new guidance and insight into the continued bull run', 'Man it was a long road back!', 'Why was the marked closed early today', 'We’re sorry', 'WE ARE GAP FILLING TO SPY $460+ VERY SOON!! I WILL FINALLY HAVE 6 FIGS!!! DEATH TO BEARS!!', 'Why AAPL TSLA will keep climbing 🥦🥦🥦🥦🥦', 'Bear Porn', 'Brace Yourselves: The S&P 500 Is About to Experience a Crushing Blow Comparable to the 1929 Crash', 'Walmart insiders offloading billions in $WMT stock - Should we be worried?', 'US Risks a Rerun of the 1920s: From trade agreements to tax treaties, growing economic isolationism echoes a historical precedent.', 'FAA Issues G-1 for Lilium Jet, making Lilium($LILM) the only eVTOL manufacturer with EASA and FAA certification basis for a po', 'Apple is now as valuable as Tesla, Berkshire Hathaway, Meta and Netflix - combined after hitting $3 trillion market value', 'I thought it was gain porn.', 'Supreme Court strikes down student loan forgiveness plan'], '2023-07-05': ['Daily Discussion Thread for July 05, 2023', 'Most Anticipated Earnings Releases for the week beginning July 3rd, 2023', 'The lengths I go to remain bullish on my portfolio…', 'Actually most economists do not understand the real meaning of Money.', 'june fed minutes coming out today', 'What keeps you at night', \"Meta goes all in on 'Twitter killer' app Threads\", 'options level 4 granted', 'Mortgage catastrophe brews in Britain as millions are pushed toward insolvency', \"If all your accounts look like this, it's a sell signal\", '$TSLL CALLS', 'God bless America. Reminder to take your profits.', 'How the fuck can you be a bear', 'Just asked Morpheus. RIVN is *the one*', \"Last summer I bought a bunch of stock in CDPR(the publisher of the Witcher and Cyberpunk 2077), today, I briefly became cyberpunk'd\", 'Me waiting for $RIVN to kill Tesla like the people on the internet told me', 'Real estate top is in', 'Life, liberty and the pursuit of 0DTE', 'Bears after the last 7 months', 'Good panic stocks in case the Russians blow up Zaporizhzhia later?', \"China's Xpeng sees sales turnaround in second half with new EV mode\", 'The only reason I will never touch TSMC', 'Anybody feel this pain?', 'Forget QE or Rate Cuts Bloomberg just said Buy Puts', 'Callon Petroleum Buyback (CPE)', 'Wash sell', 'Biogen undervalued', 'What Are Your Moves Tomorrow, July 05, 2023', 'The Inflation Nightmare Continues: Prices Soar Despite Economic Recovery', '$BABA Future in Wallstreet?', 'Finally, somebody gets me', 'Using US Gov money to get free money from Uncle Sam', 'The S&P 500 could hit a new record high thanks to tech and bank stocks, BMO investing chief says - SP500 NEW ATH soon', 'Cookie Debt and Lemonade Stands: Explaining Financial Risk for Kids', 'Someone help.', 'Billionaire investor Barry Sternlicht believes that a substantial drop in inflation is imminent, as evidenced by the decline in rents', 'Smile Direct Club go boom soon', '$PENN under valued', 'Puts in the colonizers! Britain is now the only major economy where inflation is still rising.', 'Quantitative Easing Unlikely as Cyclical Stocks Brace for Impact', 'After bagholding $TSLA for almost two years, finally out of the red.', 'Mother Fucking Aliens Have Arrived And They Are Investing In The Stock Market - Recession Canceled', 'The Bull Market is Just Starting', \"Flashback 2010: Jim Cramer advises not to buy Tesla during it's IPO when the price was $1.13 (split adjusted)\", 'Have to love the consistency. Blackrock FTW!', 'I gambled on the gays and the gays lost (GRND)', '30 Reasons Why Markets Fall From Here', 'Venture capital funds cool on plant-based meat start-ups', 'What the export restrictions of chinese metals represents to semiconductor business', 'Thoughts on $DPST', 'Yummerz', 'When you just got paid but the market is closed', 'Looks like the scheduled apocalypse will be postponed', 'Warner Bros Discovery - licencing to Netflix', \"Longing Zimbabwe's stock market\", 'The world’s 500 richest people added $852bn to their fortunes in the first half of 2023.', 'RIVN $129K', 'Group Barbeque Thread for July 4th, 2023', 'Why AAPL TSLA MSFT FB NVDA will go Even higher', 'Continued Claims - A recession indicator with a 100% perfect track record, has crossed the rubicon', 'tesla deliveries 👀', 'FT BREAKING: China hits back with export curbs on chip making materials', '209 you say? sure, why not', 'Apple forced to make major cuts to Vision Pro headset production plans', 'Im going to buy BABA', 'Quintuple top on RBLX?', 'How would alien disclosure benefit or hurt certain industries in the stock market?', 'When she finds out you have Tesla calls 🥵', 'CCL +15K', 'AMD AI chips could match Nvidia offerings, software firm says', '☠️🩸AstraZeneca (NASDAQ: AZN) Phase 3 Drug for Lung Cancer Killed People. Here is why the Stock WILL Bleed to Death This Week 🩸☠️.', \"Mom, dad: I'm a Bear\", 'Weed stocks are oversold. Small YOLO', 'Tesla Bears right now after that blowout delivery report', 'BABA chart giving me that middle finger', 'Semiconductor market: Q1 2023 sees decline of 9% YOY, MPU 65% YOY. NVDA/AI driving demand - monopoly advantage or the higher they rise...?', 'Most investors believe we are in a new bull market and there will be no recession in 2023', 'Yolo rtx puts', 'Tesla to 350', 'Japan launches Prime 150 stocks benchmark to help investors identify value', \"Will Warren Buffet's death affect Berkshire Hathaway?\", 'Daily Discussion Thread for July 03, 2023', 'Controlthenarrative when he sees the Dumb Money trailer', 'Canadians, how do you invest in Canada?', 'PIMCO prepares for a \"rough landing\" of the global economy', '“US Factory Sector Continues Contraction for Eighth Straight Month, Raising Concerns of Impending Recession', \"AI'Merica: No Recession Fears\", 'Would be very shocked for Nvidia to keep going up with over 200P/E. My personal thoughts is a pull back to 400 to retest then possibly 375.', 'TSLA: Breakout', \"🚀 Tesla to the Moon 🚀: A Hilarious Due Diligence on Why It's Going to Hit $600 per Share by Year-End!\", 'Best US stocks of 2023 so far: Nvidia leads big tech renaissance', 'Nokia renews patent license agreement with Apple, covering 5G and other technologies', 'Oil Price Analysis: Speculators, OPEC+, and Future Uncertainty', 'when you forget to pay back marge', 'tesla will continue to be the dominant ev leader, here’s why', '$51k TROW YOLO Update- July 2023', '7 Year Streak of SPY Closing Higher in July Versus June', 'Follow Up on the Bankrupts', 'EUR/USD: Uncertain Technical Outlook Ahead of US Jobs-Focused Week', 'I Gotta Redo this frame by frame with F^CK Man now...'], '2023-07-07': ['Daily Discussion Thread for July 07, 2023', 'Most Anticipated Earnings Releases for the week beginning July 3rd, 2023', 'tAkE mY MoNeY eLoN', 'Threads is the future bruh.😂', 'Perfect time to repost this as we are possibly heading for a major correction.', 'Jim Cramer: \"Whatever Twitter can do, Zuck can do better\".', 'House prices in Britain are falling due to high mortgage rates, and the situation could worsen - ProfessPost', 'Sometimes, you don’t even have to read the headline.', 'Twitter is threatening to sue Meta over Threads', 'Tesla starts to lay off some workers at China factory - Bloomberg News', 'Employment will peak in November', 'There’s a new EV Belle of the Ball', 'Elon visiting threads app for the first time like…', 'Mm Yes Rivian Daddy', 'Threads Becomes Most Rapidly Downloaded App, Raising Twitter’s Ire —— $META', 'I locked myself in a box spread and levered myself at 3.33x on SPY/QQQ', 'The name of the company: Tesla Inc.', 'A new challenger arrives', 'On a nice run. $105k realized profit in 3 months. Bullish on PTON and RUN next if anybody wants to hit the casino with me', 'crushing your hopes and dreams', 'Tesla gives new owners in the UK a grabbing stick after forcing them to get left-hand-drive', '3 years of straight regardation', 'FDA grants full approval for Biogen Alzheimer’s drug that slows cognitive decline', 'I’m not naming any $META names, but I think I know how this ends', 'Disney is fukt', 'Tesla cybertruck spotted at Stanford near Tesla HQ. All in puts 😭', 'Inflation of stock prices', 'Why $SAVE has a MONSTER setup for a 50x potential return.', 'Puts on ups?? Calls on fedex??', '$TROW YOLO with August Expiration', 'More UVIX puts', '$NKLA is a dogshit company, but this stock may rip higher next week.', 'Hindsight is 20/20', 'Combine losses with my noob account are about 40k… ask me next time if you wanna inverse me. Diamond hand, 0dte apparently is not the way…', \"Elon says Tesla Self-Driving Cars Will Arrive ‘This Year'\", 'Thoughts on VDC & Other Stocks', 'Don’t you think it is time to burst the tech bubble', 'What Are Your Moves Tomorrow, July 07, 2023', \"It might be 'idiocy' to buy ahead of earnings season, says Jim Cramer\", 'VOLD question', 'all-in on barbie stock, Mattel DD ($MAT)', 'every earnings call', 'Bond market', 'Zuck did it again', 'send me location', 'RIVN YOLO Price Point $40', 'So long gay boys', 'God Bless America ✌️✌️✌️', 'Zuck did it again; chose a trademarked name with an existing product & website! Calls on whoever owns threads.com!', 'Take profits, and don’t be gay.', 'Boutta be sipping some primo tea after this cup and handle ☕️', 'Reviewing WSB charts', \"After Meta and Threads, Zuck's next inspiring product name leaked:\", 'Anyone bullish on $MAT', 'AMC Regard in 2023', '$SYNA Synaptics an edge-AI play. Hardware AI Company before its time?', 'Daily Discussion Thread for July 06, 2023', 'The prophecy was foretold', 'Barbie movie will print and push $MAT?', 'Upcoming Earnings Strategy EVs and Airlines', '$NVDA puts- All in', 'Black out only, Go!', 'We talking TSLA gains? +1,062%', 'UVIX puts', 'Get on the $SAVA and $BIIB train', 'You are fucked.', '[AMA from a RIVN millionaire] - Got into RIVN at $0.035 and now it’s almost at $25', 'Bull Indicators from Cocaine Found in White House?', 'TeSLA iS OverValued!', 'Old skewl 1337 TSLA gain porn (+NVDA bonus)', 'Since everyone is posting their $TSLA gains…', 'Earnings Play Zebra Technologies', 'Luckily grabbed Tesla at its bottom', 'Henny thing is possible when you’re regarded enough $TSLA🚀', 'Zuck’s fork in the road', 'The lengths I go to remain bullish on my portfolio…', '$TSLL CALLS', 'This research paper from Kansas City Fed is causing the huge sell-off in Treasury bonds.', 'We’re in the true dawn of EV', 'Lumen: Anything Left?', 'june fed minutes coming out today', 'MSCI Inc trade idea.', '$META earnings📈📈', 'Elon is getting ZUCKED RAW, META 8k YOLO', \"Rivian kissed the 200 DMA yesterday and closed at some old resistance. If it closes above these lines today, looks like it's gonna climb.\", 'What Are Your Moves Tomorrow, July 06, 2023', 'Which Alien Stocks are going to the Moon? $UFO', '$TSLA earnings📈📈', 'ABST volume?', 'Buying the index with exceptions', 'Started trading spreads, and options in general a month ago, I think I’m off to a pretty great start.', \"Last summer I bought a bunch of stock in CDPR(the publisher of the Witcher and Cyberpunk 2077), today, I briefly became cyberpunk'd\", 'Zuck pulling some good numbers with THREADS', '100k of call options on some potato chip factory and a reverse viagra company. Degenerate plays are #poweredbypltr gains', 'I opened a short position on UL (Unilever). Here is why.', 'Straddle strategy', 'NNDM - Is ChatGPT trying to 3D Print itself a body?', \"If all your accounts look like this, it's a sell signal\", 'What keeps you at night', \"Meta goes all in on 'Twitter killer' app Threads\"], '2023-07-08': ['Weekend Discussion Thread for the Weekend of July 08, 2023', 'Most Anticipated Earnings Releases for the week beginning July 10th, 2023', 'How I imagine the average WSB user', 'I flatline on weekend', 'Its not an addiction its a hobby', 'This is financial advice', 'All day every day 🚀', 'WSB OG and some new degenerates', 'Buying condors changed my life 🚀🌑', 'One month of all-in YOLOing a $500 deposit into SPX 0DTEs.', \"Netflix's Password-sharing Crackdown Is Going So Well That One Wall Street Bear Just Upgraded The Stock\", 'All GUH trades', 'All in Tripled Down', 'CNBC\\'s Cramer speaks highly of Meta\\'s new Threads platform. He says \"It\\'s cooking!\" Is a strong sell indicator for Meta?', '3 years of straight regardation', 'tAkE mY MoNeY eLoN', 'Threads is the future bruh.😂', 'Jim Cramer: \"Whatever Twitter can do, Zuck can do better\".', 'Mm Yes Rivian Daddy', 'What are you, some kinda money allergic pleb? YOLO, RIVN Calls', 'Perfect time to repost this as we are possibly heading for a major correction.', 'I locked myself in a box spread and levered myself at 3.33x on SPY/QQQ', 'Why $SAVE has a MONSTER setup for a 50x potential return.', 'Will I get my $1000 back?', 'Rivian Stock sustains the Gains, what does this do to Amazon?', 'Employment will peak in November', 'What OS drives Rivian?', 'SPY Bull Credit Spreads and Mercury Retrograde', 'Listen to Dr. Copper.', 'INVERSE BULL STRATEGY = 132K', 'The Most Memeable Stock Ever - $SPHR (MSG Sphere)', 'We all know what this means...', 'Fed’s Goolsbee sees ‘golden path’ to lower inflation without a recession', 'Tesla starts to lay off some workers at China factory - Bloomberg News', 'Elon visiting threads app for the first time like…', 'Sometimes, you don’t even have to read the headline.', 'Twitter is threatening to sue Meta over Threads', 'Exploring the potential of Rivian $RIVN', 'Next industry going to the moon?', 'Daily Discussion Thread for July 07, 2023', 'There’s a new EV Belle of the Ball', 'Threads Becomes Most Rapidly Downloaded App, Raising Twitter’s Ire —— $META', '$NKLA is a dogshit company, but this stock may rip higher next week.', 'The name of the company: Tesla Inc.', '$TROW YOLO with August Expiration', 'A new challenger arrives', 'More UVIX puts', 'Tesla gives new owners in the UK a grabbing stick after forcing them to get left-hand-drive', 'On a nice run. $105k realized profit in 3 months. Bullish on PTON and RUN next if anybody wants to hit the casino with me', 'crushing your hopes and dreams', 'If you knew the future?', 'Puts on ups?? Calls on fedex??', 'FDA grants full approval for Biogen Alzheimer’s drug that slows cognitive decline', 'Inflation of stock prices', 'I’m not naming any $META names, but I think I know how this ends', 'Disney is fukt', 'VOLD question', 'Tesla cybertruck spotted at Stanford near Tesla HQ. All in puts 😭', 'Hindsight is 20/20', 'Combine losses with my noob account are about 40k… ask me next time if you wanna inverse me. Diamond hand, 0dte apparently is not the way…', \"Elon says Tesla Self-Driving Cars Will Arrive ‘This Year'\", 'Don’t you think it is time to burst the tech bubble', 'Thoughts on VDC & Other Stocks', 'all-in on barbie stock, Mattel DD ($MAT)', 'Major U.S. Retailers Are Closing More Than 6,000 Stores | Investing.com', 'What Are Your Moves Tomorrow, July 07, 2023', 'Boutta be sipping some primo tea after this cup and handle ☕️', \"It might be 'idiocy' to buy ahead of earnings season, says Jim Cramer\", 'send me location', 'Bond market', 'every earnings call', 'Zuck did it again', 'RIVN YOLO Price Point $40', 'God Bless America ✌️✌️✌️', 'Zuck did it again; chose a trademarked name with an existing product & website! Calls on whoever owns threads.com!', 'Take profits, and don’t be gay.', 'Reviewing WSB charts', \"After Meta and Threads, Zuck's next inspiring product name leaked:\", 'AMC Regard in 2023', 'Daily Discussion Thread for July 06, 2023', 'The prophecy was foretold', '$SYNA Synaptics an edge-AI play. Hardware AI Company before its time?', 'Upcoming Earnings Strategy EVs and Airlines', 'Barbie movie will print and push $MAT?', '$NVDA puts- All in', 'Anyone bullish on $MAT', 'Black out only, Go!', 'Elon is getting ZUCKED RAW, META 8k YOLO', 'Get on the $SAVA and $BIIB train', 'We talking TSLA gains? +1,062%', 'UVIX puts', 'You are fucked.', 'Bull Indicators from Cocaine Found in White House?', 'TeSLA iS OverValued!', 'Old skewl 1337 TSLA gain porn (+NVDA bonus)', 'Since everyone is posting their $TSLA gains…', 'Earnings Play Zebra Technologies', 'Luckily grabbed Tesla at its bottom', 'Henny thing is possible when you’re regarded enough $TSLA🚀', 'Zuck’s fork in the road'], '2023-07-09': ['Weekend Discussion Thread for the Weekend of July 08, 2023', 'Most Anticipated Earnings Releases for the week beginning July 10th, 2023', 'Your wife and her 4 boyfriends say: “ok then, show us how to successfully trade”', 'Wsb lunch spesial', 'Smooth brained moves', 'Jim Cramer predicts an ‘economic wave’ will soon hit the US — and it will be ‘fantastic for investors.’ 🫡', 'SPYRIM', 'The weekends are bittersweet', 'Now Why Would They Do That?', 'Rivian trying to come back from the grave', 'Its not an addiction its a hobby', 'How the heck does a boomer stock Sirius Radio make so much money?', 'Lend me your opinion my fellow regards', 'Bullet proof concept on how to make infinite money', 'Forbes World’s Billionaires List 2023: The 200 richest people in the world revealed', 'The Streisand effect is helping Threads take off', 'Improve your option plays with a quick statistics lesson', 'The Metals Company ($TMC) -', 'The Nasdaq-100 Index Special Rebalance to be Effective July 24, 2023', 'Two days before it bottomed: Rivian Stock Is Reaching New Lows. Sell It Anyway, Say Analysts', 'Thoughts on PayPal', 'Opportunity', 'I flatline on weekend', 'USA Cannabis Sector about to light up: $MO (Altria) + $ CURLF (Curaleaf) + $CRON (Cronos) 3-Way Merger 🌿🔥 😎', '$ATVI / $MSFT hearing outcome predictions?', 'PUTS on UL? (Ben & Jerry)', 'Option leaps vs shares', 'RTX – we love big weapons and FCF', 'This is financial advice', 'QuantumScape opportunity ripening', 'WSB OG and some new degenerates', 'All day every day 🚀', 'All in Tripled Down', 'All GUH trades', 'Buying condors changed my life 🚀🌑', 'One month of all-in YOLOing a $500 deposit into SPX 0DTEs.', 'UL', 'CNBC\\'s Cramer speaks highly of Meta\\'s new Threads platform. He says \"It\\'s cooking!\" Is a strong sell indicator for Meta?', '3 years of straight regardation', 'tAkE mY MoNeY eLoN', 'What are you, some kinda money allergic pleb? YOLO, RIVN Calls', 'Threads is the future bruh.😂', 'Jim Cramer: \"Whatever Twitter can do, Zuck can do better\".', 'Mm Yes Rivian Daddy', 'Perfect time to repost this as we are possibly heading for a major correction.', 'Why $SAVE has a MONSTER setup for a 50x potential return.', 'Rivian Stock sustains the Gains, what does this do to Amazon?', 'I locked myself in a box spread and levered myself at 3.33x on SPY/QQQ', 'Will I get my $1000 back?', 'Puts on banks realeastate.', 'What OS drives Rivian?', 'The Most Memeable Stock Ever - $SPHR (MSG Sphere)', 'Employment will peak in November', 'We all know what this means...', 'Listen to Dr. Copper.', 'SPY Bull Credit Spreads and Mercury Retrograde', 'INVERSE BULL STRATEGY = 132K', 'Fed’s Goolsbee sees ‘golden path’ to lower inflation without a recession', 'Exploring the potential of Rivian $RIVN', 'Elon visiting threads app for the first time like…', 'Tesla starts to lay off some workers at China factory - Bloomberg News', 'Next industry going to the moon?', 'Sometimes, you don’t even have to read the headline.', 'Twitter is threatening to sue Meta over Threads', 'Daily Discussion Thread for July 07, 2023', '$NKLA is a dogshit company, but this stock may rip higher next week.', 'There’s a new EV Belle of the Ball', 'Threads Becomes Most Rapidly Downloaded App, Raising Twitter’s Ire —— $META', 'The name of the company: Tesla Inc.', '$TROW YOLO with August Expiration', 'If you knew the future?', 'More UVIX puts', 'A new challenger arrives', 'Tesla gives new owners in the UK a grabbing stick after forcing them to get left-hand-drive', 'On a nice run. $105k realized profit in 3 months. Bullish on PTON and RUN next if anybody wants to hit the casino with me', 'crushing your hopes and dreams', 'Puts on ups?? Calls on fedex??', 'VOLD question', 'Inflation of stock prices', 'I’m not naming any $META names, but I think I know how this ends', 'FDA grants full approval for Biogen Alzheimer’s drug that slows cognitive decline', 'Disney is fukt', 'Tesla cybertruck spotted at Stanford near Tesla HQ. All in puts 😭', 'Boutta be sipping some primo tea after this cup and handle ☕️', 'Thoughts on VDC & Other Stocks', 'all-in on barbie stock, Mattel DD ($MAT)', 'Hindsight is 20/20', 'Combine losses with my noob account are about 40k… ask me next time if you wanna inverse me. Diamond hand, 0dte apparently is not the way…', \"Elon says Tesla Self-Driving Cars Will Arrive ‘This Year'\", 'Don’t you think it is time to burst the tech bubble', 'What Are Your Moves Tomorrow, July 07, 2023', \"It might be 'idiocy' to buy ahead of earnings season, says Jim Cramer\", 'send me location', 'Bond market', 'every earnings call', 'RIVN YOLO Price Point $40', 'Zuck did it again', 'God Bless America ✌️✌️✌️', 'Zuck did it again; chose a trademarked name with an existing product & website! Calls on whoever owns threads.com!', 'Take profits, and don’t be gay.'], '2023-07-10': ['Daily Discussion Thread for July 10, 2023', 'Most Anticipated Earnings Releases for the week beginning July 10th, 2023', 'This is where all the gains go then.', 'life after rivian bois.', 'Trading Meta calls.', 'WSB regards when they make $10 in profit after losing thousands', 'I gave you $SAVE. My next play is $PENN, and my hedge is $GOOGL.', 'I bring you love', 'No seriously, what in the world is going on here?', 'Remember when I got Margin Called on CVNA? Well…', 'WSB Regards With Their Life Savings', 'RIVN ghey bers still don’t know who they fuckin’ with', 'July 10 - Long term CVNA holdings', 'We all know how priceless motivation can be - do your kids a favor and give them more of it', 'Buying the dip', 'How can I profit from this?', 'Citi downgrades US stocks sees SP 500 back to 4k, time to buy calls instead and go for 5k?', 'Are we permabulling Rivian?', '$MSOS $TLRY $CURLF \"Germany Unveils Draft Bill To Legalize Cannabis\" - Forbes', 'Tesla is going to 100$ before November', 'YOLO RIVN/META Calls go home bears', 'Why I believe in Rivian (RIVN)', 'Give me that sweet sweet Zuck 😳😩💦', 'Your wife and her 4 boyfriends say: “ok then, show us how to successfully trade”', 'CARVANA dichotomy', 'It ain’t much but I’ll keep buying', 'So long, gay boys', 'Biweekly Anonymous SPCE-bagholder meeting', 'TMC', 'Wsb lunch spesial', 'Oh yes Daddy Rivian', 'TMC from a Geologist', \"Auto-finance delinquencies rise past Great Recession peak - what's the best way to profit off this tragedy? without being a bad boy Repo man\", 'TROW YOLO August calls', 'Is trading mostly luck or skill?', 'Smooth brained moves', 'Silicon Valley Bank', 'What Are Your Moves Tomorrow, July 10, 2023', 'Regards: are 0DTE options the way?', \"India's Jio set to sign $1.7 billion deal with Nokia for 5G equipment\", 'It\\'s not over yet bulls. Bears are using \"Aggressive Bear steepener\" with \"Higher Term premia\". What does it mean though? 🤣', 'The weekends are bittersweet', 'Now Why Would They Do That?', 'Forbes World’s Billionaires List 2023: The Top 200', 'Bullet proof concept on how to make infinite money', 'BB Will it move?', 'Jim Cramer predicts an ‘economic wave’ will soon hit the US — and it will be ‘fantastic for investors.’ 🫡', 'SPYRIM', 'The Nasdaq-100 Index Special Rebalance to be Effective July 24, 2023', 'Its not an addiction its a hobby', 'How the heck does a boomer stock Sirius Radio make so much money?', 'Join the Roblox Revolution! A Bullish Trend Beckons with Favorable RSI and MACD signals', 'Thoughts on PayPal', 'Improve your option plays with a quick statistics lesson', 'The Metals Company ($TMC) -', 'Two days before it bottomed: Rivian Stock Is Reaching New Lows. Sell It Anyway, Say Analysts', 'USA Cannabis Sector about to light up: $MO (Altria) + $ CURLF (Curaleaf) + $CRON (Cronos) 3-Way Merger 🌿🔥 😎', 'I flatline on weekend', '$ATVI / $MSFT hearing outcome predictions?', 'QuantumScape opportunity ripening', 'RTX – we love big weapons and FCF', 'This is financial advice', 'WSB OG and some new degenerates', 'All day every day 🚀', 'All in Tripled Down', 'All GUH trades', 'Buying condors changed my life 🚀🌑', 'Puts on banks realeastate.', 'CNBC\\'s Cramer speaks highly of Meta\\'s new Threads platform. He says \"It\\'s cooking!\" Is a strong sell indicator for Meta?', '3 years of straight regardation', 'tAkE mY MoNeY eLoN', 'What are you, some kinda money allergic pleb? YOLO, RIVN Calls', 'Threads is the future bruh.😂', 'Jim Cramer: \"Whatever Twitter can do, Zuck can do better\".', 'Why $SAVE has a MONSTER setup for a 50x potential return.', 'Mm Yes Rivian Daddy', 'Perfect time to repost this as we are possibly heading for a major correction.', 'Rivian Stock sustains the Gains, what does this do to Amazon?', 'I locked myself in a box spread and levered myself at 3.33x on SPY/QQQ', 'Will I get my $1000 back?', 'Weekend Discussion Thread for the Weekend of July 08, 2023', 'The Most Memeable Stock Ever - $SPHR (MSG Sphere)', 'What OS drives Rivian?', 'We all know what this means...', 'Employment will peak in November', 'SPY Bull Credit Spreads and Mercury Retrograde', 'Listen to Dr. Copper.', 'INVERSE BULL STRATEGY = 132K', 'Fed’s Goolsbee sees ‘golden path’ to lower inflation without a recession', 'Exploring the potential of Rivian $RIVN', 'Elon visiting threads app for the first time like…', 'Next industry going to the moon?', 'Tesla starts to lay off some workers at China factory - Bloomberg News', 'Sometimes, you don’t even have to read the headline.', 'Twitter is threatening to sue Meta over Threads', '$NKLA is a dogshit company, but this stock may rip higher next week.', 'Daily Discussion Thread for July 07, 2023', 'There’s a new EV Belle of the Ball', 'Threads Becomes Most Rapidly Downloaded App, Raising Twitter’s Ire —— $META', 'The name of the company: Tesla Inc.'], '2023-07-13': ['What Are Your Moves Tomorrow, July 13, 2023', 'Most Anticipated Earnings Releases for the week beginning July 10th, 2023', 'Twitter and Elon Musk face $736 million lawsuit for allegedly refusing severance for fired employees', 'META $235C $39k --> $2.6M. Next up, PYPL!!', 'Bears are officially dead', 'AI! This changes everything! NASDAQ 30,000.', 'I am a high school science teacher. $10,000 call on Crocs. Am I eukaryote or prokaryote?', 'Breaking: Sniveling Scammer Takes Ball, Goes Home', 'This sub has become a cesspool of filth and lunacy', 'CPI for all items rises 0.2% in June RIP Bears', '#CVNA Bears who?', 'Almost doubled my investment on Rivian stock', 'Elon Musk launches his new company, xAI', 'CVNA Carvana GAINS 4000%+ and going', 'Your daily dose of Schadenfreude - $25k loss in SPY puts', '$HOOD 200k Yolo', 'When brrr? +98% down 🤡 😭', 'Disney gives CEO Bob Iger two extra years to find another successor', 'Another bear down', 'Shoulda gone long tomatoes. I learned nothing from the great soybean squeeze.', 'Global public debt hits record $92 trillion, UN report says', '66k $RIVN YOLO', 'How long until I give it all back?', '‘YOLO’ spenders are propping up the economy —but they’re about to run out of cash', 'Update on 10k in PYPL', 'Too Real', 'You’re missing the rally on MVST', '$HOOD $16k 7/21 YOLO', 'Is anyone buying bonds? 🤣', 'Paypal is extremely undervalued', 'Gentlemen, I regret to inform you, that it may be Quantumscape time again', '15k Intel Calls Yolo', 'Daily Discussion Thread for July 12, 2023', 'NVDA 430C', 'Elon Musk investigated by Tesla over secret glass house project: reports', 'Yolo hood 12c 12/18 400 contracts & MSFT 377.5c 12/14', '$HOOD YOLO', '$215K trading CPI print', 'Keep your eyes on Paypal', 'If gold goes into a super cycle dude practically robbed the bank.', \"FTC to appeal judge's decision denying injunction against MSFT-ATVI merger\", 'Did we enter recession in 2022 or not?', 'An interview with a bear', 'Team Elon or Mark', \"Why Slower Inflation Won't Prompt the Fed to Lower Rates\", 'VZ YOLO', 'RKLB', 'Been watching this chart for years. Bullish indicator confirmed. Tomorrow we moon.', \"Domino's partners with Uber for food orders; shares rise\", 'Rtx puts pattern play yolo update', 'Win Win Trading Technique', 'ELIR why tanking economy equates to bull market', 'Remember that myth if you get hit in the back of the head hard enough you go cross-eyed? Welp. Get your helmets on $METArds listen up!', '$27k in SPY puts expiring tmrw', 'GOLD: Breakout', 'Long $BLK ahead of earnings', 'Helikon and Brontë shorting firms', \"It's Prime day again; They tricked me into buying more items than I ever have in the past. Should I be buying long-dated calls on AMZN?\", 'Fellow degenerates I need your help!!!', '$CVNA Due Diligence | Position Inside | Thoughts on Short Term Pricing | Data Points', 'Heres an options trade for you - BNS - if you think financials will rally', 'Can someone explain why I’m losing money', 'The Nasdaq-100 plans special rebalance of ‘magnificent 7’ to address overconcentration.', 'First was $SAVE, then $PENN. for my final act, I give you $RKLB', 'WSB when someone posts a winning trade', \"Bears aren't dead. 2H 2023 and 2024 is gonna be fun for bears\", 'Vuzix Receives OEM Order from Client Enabling Imaging Technology Solutions for Government, Defense and Commercial Markets', 'There is absolutely no possible way $ABNB isn’t being manipulated right now', \"Strathmore Plus Uranium's Potential (TSXV: SUU) (OTC: SUUFF)\", '$SWK Stanley Black & Decker: DD For An Out-Of-Favor Recovery Bet', \"Isn't PCE the figure that's most important when addressing inflation?\", 'u/smartkuz YOLOs are fake. He’s pumping low liquidity options with the help of bots and exiting after a small move. These are actual YOLOs:', 'Saudi Public Investment Fund reports $16 billion in 2022 losses as LIV Golf merger moves forward', '$45k TSLA YOLO', 'How I feel as a banker', 'Literally everyday', '$15,000 $COIN PUTS YOLO', 'AI hype is not Dead! Palantir is about leave you all behind $18 EOW confirmed 🚀', 'What Are Your Moves Tomorrow, July 12, 2023', 'Tesla Energy truck is a Chevrolet 2500 HD diesel burner…Puts on $TSLA?', \"Judge rules Microsoft's acquisition of Activision can go forward\", 'Diamond in the Rough- $USB making a comeback 💎', 'Nasdaq is making a big change to its most popular index. Here’s how it might impact your portfolio.', 'Inflation outlook for H2 2023', 'Jim is that your “lucky” head?', '[OC] Sentiment on \"Inflation\" VS EURUSD. The yellow Inflation line is based on text analysis of 3,062,342 financial news articles.', 'CVNA $40 this week 🌕🚀', 'UPST UpStart Making that F U money every day. Lets go! One day closer to telling my boss to go fuck himself', 'Robinhood introduces shortcuts to desktop', 'The chart is trying to tell me', 'All in on RIVN', 'Find me behind a Costco dumpster slurping down glizzies.', \"Meta thrilled as Threads just obliterates ChatGPT's record in five days\", '20k Balls deep on $HOOD, price target: MOON.', '‘Success fees’ and thirsty emails: inside a $90mn Twitter payout', 'Microsoft winning case to acquire Activision', 'Nothing feels better than making 5k in the morning and DoorDash at noon (in rich zip codes for extra tips)', '$SSTK Shutterstock - OpenAI ChatGBT partnership - Images, Photos, & Videos', 'Redfin FINALLY making a comeback!!', 'Never forget when they said \"First bank Republic is a strong buy and price target $150\"'], '2023-07-15': ['Weekend Discussion Thread for the Weekend of July 15, 2023', 'Most Anticipated Earnings Releases for the week beginning July 17th, 2023', 'In honor of the First CyberTruck Built at GigaTexas - The Origin Story', 'Saw this and thought of you Nvidia bros, assume this was the DD? Wen beach party?', 'Everything is going swimmingly in anticipation of the IPO', 'A Rivian owner was in a fender bender. The repair bill was $42,000.', 'Aww did someone try to unionize?', 'Quit my job and converted my 401k to self directed brokerage. Loss porn, happy Friday y’all!', 'It’s on solid foundation, don’t worry', 'After 3 years, I’ve finally made a profit.', \"Volkswagen CEO Schaefer tells managers 'the roof is on fire'\", 'Market sentiment.', 'Bears watching Nvidia break a new 52 high every day.', 'my new options strategy', 'Apparently “Stonks go up” is a concept too difficult for some to understand', 'Bulls help blind bears. Verb, not adjective', 'Where’s my profit!', 'History will repeat itself, NVDA will correct', 'Never got it right ..', 'Teamsters walked away from negotiations $UPS', 'Indicators are useful and I will die on this hill.', 'NVDA PUTS 0DTE', 'The secret weapon', 'UFO disclosure is coming, who are you betting on?', 'SpaceX Is Now Worth More Than Boeing and Raytheon', 'Played both sides of Nvidia today 😎', 'NVDA 200+ PE ratio. Thoughts?', 'Last thing I sent my Ex-GF before being blocked.', '$CVNA 0DTE 25K Loss', 'NVDA play it both ways', 'All in $PYPL Update #1', 'Give me investment advice based on this unknown chart. Will reveal what it is after', 'The Next Short Squeeze, the Next Tesla', 'You know this is gonna happen....', '+$2.75m day, just hit my $10m goal', 'Years later, still thinking about how I 🦆ed up', 'A Current NVDA Stock Option Perspective.', 'Will Nel ASA take off 18.07.2023 - Ticker D7G', 'Top confirmed', 'Your thoughts on TSLA upcoming earnings?', 'Keeping it simple', 'how bears look rn', '0DTE SPX PUTS | 17K Gains', '2011 Nasdaq rebalance screen shot.', 'Daily Discussion Thread for July 14, 2023', 'FCK NVDA! I bought puts!', 'Rtx calls this time', 'I sold 92 dollar coin calls that expire tomorrow at a 500 dollar loss. Then it launched.', 'I love Nvidia', 'Down $37k All-Time, looking for a spark!', '$CVNA 0DTE YOLO, 27K Play @ 40.00 C', 'AMD: Breakout', 'Investments while at war in my 30s', 'Is NKLA legit?', 'Can someone ELI5 me how a company with 28B revenue is worth 1.2T and reach ATH every week?', \"Someone check on USD he's struggling real hard\", 'Nikola Resurrection Only Tip Of Bosch Green Hydrogen Scheme', 'BLK options on fridays?', \"500k+ PYPL YOLO. Can we repeat last year's rally?\", 'How does my bearish take on Carvana make you feel? #proudbagholder', 'Is it possible to make more than the price movement of an underlying asset without relying on leverage from my broker?', 'NFLX printer goes Brrrrrr', \"It's the Media and Entertainment industry being impacted most by AI? 🤔\", 'Boomer Loss Porn GUH', 'Heres a multi bagger - Financials', 'The $60/Share Bull Case for DAL', 'Thanks for shorting on the way up NVDA bears your liquidity is appreciated, Best Regards 😘', 'Been a good year', 'Real interest rates went from -8% to 2.28%. If rates are like gravity to stocks (F = - mg) so why are stocks moving at velocity = √2GM/r.🤣', 'SARK YOLO', 'Bull Market Confirmed', 'I have a blown up taxable account with $1.85 left. What 0dte can I buy tomorrow to turn it around?', 'Wtf are 🐻 smoking?', 'Am I buying calls correctly?', 'Goog is highly undervalued.', 'Attention all 🌈🐻', 'Good week, Bad year. Can I pull myself out?', 'Twitter and Elon Musk face $736 million lawsuit for allegedly refusing severance for fired employees', 'Jumping on the NVDA TRAIN. Holding 30 shares with a 137 average. Decided to take a stab after todays intraday spike. Or is is it interday?', 'Nature is healing', 'TSLA: Breakout', 'To be clear, I honestly am bearish on this market and have been for a while. I guess we all really should inverse ourselves.', \"$2k -> $11k in a month trading 1DTE's and Weekly calls + full trade history\", 'Trade Desk (TTD) Next Week', 'Buy UPS puts now.', 'Did I do Call Options right?', 'What Are Your Moves Tomorrow, July 14, 2023', 'Cathie Wood really has a poopoo hand', \"TSM earnings 'money glitch' update\", 'FYI for anyone trading options: If you like holding on to your money, don’t even think about buying/selling SPY/SPX options.', 'Be nice to me, please', '🐻puts yolo on SPY 07/14! Stonks too damn high 200 yolo SPY 448p 07/14 contracts', '9k Loss with unrealized 14.5k P&L', 'Apocalypse is priced into Hotel REITs at the dawn of their golden age... I’m leveraged to the tits 🌰🌰', '$coin possible to go further?', '$HOOD YOLO UPDATE', 'FML!!!', 'Back to breaking even', 'Nikola (NKLA) comeback', 'PayPal is the next crypto sympathy play.'], '2023-07-16': ['What Are Your Moves Tomorrow, July 17, 2023', 'Most Anticipated Earnings Releases for the week beginning July 17th, 2023', 'Cybertruck spotted in the wild…loading calls', \"You don't f with the m\", 'NVDA short proof. Will continue to short', 'Global stocks have gained $3.3tn in market cap this week All stocks are now worth $108.8tn, which equals 108% of global GDP.', 'Free awards for everyone for all smooth brain regardless', 'Should have bought Nasdaq', 'Isaac Newton was one of us', 'NVDA long game win and out! My third and final exit.', 'Those shrooms hitting', 'The Impending Cybertruck Disappointment: High Cost, Low Range', 'Looks like it’s time to go all in on $TSLA calls! Cybertruck is finally coming.', 'Investors Are Bailing on Cathie Wood’s Popular ARK Fund', 'In honor of the First CyberTruck Built at GigaTexas - The Origin Story', 'Tesla bears when they see Cybertrucks for the first time', 'Bears Checking Their Ports Monday Morning 🤡🐻🏳️\\u200d🌈', 'All in on calls, forever. 🐻 r fuck', 'Can modern medicine explain WHY DO I DO THIS!', 'Everything is going swimmingly in anticipation of the IPO', 'Start ‘em young', 'AI-related stocks drove virtually all of the S&P 500 returns in 2023 - is AI hype just a bubble?', 'How to become a capitalist?', 'Missouri Marijuana Sales Reach $3million Per Day', 'The hype surrounding AI stocks is undeniable, as evidenced by the accompanying graph.', 'AI is bullshit and a scam', \"What's the sentiment towards TSLA Earning?\", 'The AI narrative is just getting started', 'Where’s my profit!', 'R401k YOLO into TSLA! (Holding)', 'Last minute appeal to block $69 billion Microsoft-Activision deal is blocked', 'Based on a True Story', 'Fuck your Disney calls', 'Negg. Good action last couple days.', 'Has the Stock Market Helped or Hurt you?', 'TSLA bears on Monday', '7 Year Streak of SPY Closing Higher in July Versus June - Mid Month Update', 'Saw this and thought of you Nvidia bros, assume this was the DD? Wen beach party?', 'It’s on solid foundation, don’t worry', 'my new options strategy', 'A Rivian owner was in a fender bender. The repair bill was $42,000.', 'Bears earlier this year', 'NVDA / TSLA / QQQ ???', \"What's wrong with this trading strategy?\", 'The long-awaited rebound in investment banking has yet to materialize, making for a disappointing quarter.', 'SAFE Banking has Confirmed Support of 9 Republican Senators to Overcome Filibuster', 'Calls on Target and Dollar General.', 'Aww did someone try to unionize?', 'Bulls help blind bears. Verb, not adjective', 'Economic Strength and Recessions', 'Market sentiment.', 'Quit my job and converted my 401k to self directed brokerage. Loss porn, happy Friday y’all!', \"Volkswagen CEO Schaefer tells managers 'the roof is on fire'\", \"Simufilam Reduces Decline in Alzheimer's by up to 98% (SAVA)\", 'After 3 years, I’ve finally made a profit.', 'Bears watching Nvidia break a new 52 high every day.', 'Apparently “Stonks go up” is a concept too difficult for some to understand', 'History will repeat itself, NVDA will correct', 'Indicators are useful and I will die on this hill.', 'Never got it right ..', 'Years later, still thinking about how I 🦆ed up', 'Teamsters walked away from negotiations $UPS', 'UFO disclosure is coming, who are you betting on?', 'NVDA PUTS 0DTE', 'The secret weapon', 'NVDA 200+ PE ratio. Thoughts?', 'All in $PYPL Update #1', 'Played both sides of Nvidia today 😎', 'SpaceX Is Now Worth More Than Boeing and Raytheon', 'NVDA play it both ways', '$CVNA 0DTE 25K Loss', 'Weekend Discussion Thread for the Weekend of July 15, 2023', 'A Current NVDA Stock Option Perspective.', 'Top confirmed', 'Keeping it simple', 'You know this is gonna happen....', '+$2.75m day, just hit my $10m goal', 'Your thoughts on TSLA upcoming earnings?', '2011 Nasdaq rebalance screen shot.', 'FCK NVDA! I bought puts!', '0DTE SPX PUTS | 17K Gains', 'how bears look rn', 'Daily Discussion Thread for July 14, 2023', 'Rtx calls this time', 'AMD: Breakout', 'I love Nvidia', '$CVNA 0DTE YOLO, 27K Play @ 40.00 C', 'Down $37k All-Time, looking for a spark!', 'I sold 92 dollar coin calls that expire tomorrow at a 500 dollar loss. Then it launched.', 'Good week, Bad year. Can I pull myself out?', \"Someone check on USD he's struggling real hard\", 'Can someone ELI5 me how a company with 28B revenue is worth 1.2T and reach ATH every week?', 'Nikola Resurrection Only Tip Of Bosch Green Hydrogen Scheme', 'Heres a multi bagger - Financials', \"500k+ PYPL YOLO. Can we repeat last year's rally?\", 'Am I buying calls correctly?', 'NFLX printer goes Brrrrrr', \"It's the Media and Entertainment industry being impacted most by AI? 🤔\", 'Boomer Loss Porn GUH', 'SARK YOLO'], '2023-07-17': ['Daily Discussion Thread for July 17, 2023', 'Wayfair DD -Aggregation from Discord and Elsewhere', 'First Cybertruck production exiting Gigatexas. Thoughts?', '16 k in 5 mins', '$125k PayPal YOLO', 'Bears this is a warning, this is your future if you don’t change your ways', 'WSB self help book', 'TSLA fanbois rn', 'Warren urges SEC to investigate Tesla over Twitter ties, corporate governance — CNBC', \"A fight erupts in U.S. housing market as deteriorated affordability clashes with the 'lock-in effect'\", 'Well I’m back to even', 'I’ve been trading since 2016. 7 years in the making and these are my results 🥲', '$90k Loss Porn', 'Cybertruck spotted in the wild…loading calls', 'July 17 - Long term CVNA holdings', \"Billionaires and corporate execs have dumped $9 billion worth of stock this year amid the market's latest rally\", 'Me when people tell me to stop gambling on stonks', '$UPS Put go BRRR', 'Buying into the greed', 'China reports second-quarter GDP miss, another record high in youth unemployment', 'Crash imminent 🤡🐻', 'Hypothesis that the Fed can set interest rates based on the movements of the planet Mars', \"You don't f with the m\", \"Bought SPY puts, it's time to buy calls.\", 'This Meme Brought to You by AI', 'NVDA short proof. Will continue to short', 'Global stocks have gained $3.3tn in market cap this week All stocks are now worth $108.8tn, which equals 108% of global GDP.', '$CVNA 20K FD | Switching to Puts | Volume Decreasing | 35.00 Strike', 'Shorting NVDA for $50K', 'Virgin Galactic - Virgin Galactic Broadens Access to Space with First Private Astronaut Mission ‘Galactic 02’', \"Loggee into an old 401k I forgot about. This is run by 'Professional Regards' wtf?\", '$tsla yolo for earnings', '50K HOOD YOLO - This is $15 EOW', 'Let’s hope the bulls can keep it going. Loaded up Friday. Yolo !!!!', 'Can modern medicine explain WHY DO I DO THIS!', 'Wall st', 'AI is investing in itself', 'Why Robinhood?', 'I will post as gain rtx yolo up date', '$MAT Mattel: Barbie, old dog new tricks. [Barbie movie discussion]', 'Those shrooms hitting', 'What Are Your Moves Tomorrow, July 17, 2023', 'BRICS timebomb', 'NVDA long game win and out! My third and final exit.', 'All in on calls, forever. 🐻 r fuck', 'Are the Cruise Lines back? NCLH RCL CCL', 'Was over in u/ daytraders...hopium', '[OC] Chart from 17.07.2023 showing sentiment of \"China\\'s Economy\" (green) in 3,110,486 financial news articles. Blue=USDCNY. Tradervoice.io', 'Come back szn pt 2 but this time I’ll actually become a millionaire', 'RIVN will not survive', 'UAP Disclosure Act of 2023', 'When you make your first profit', 'MARA or RIOT LEAPS and why?', 'Cup and handle forming - see you at 7$', 'NVIDIA: The Turbocharged Unicorn of Investments! 🚀🦄', 'Isaac Newton was one of us', 'The AI narrative is just getting started', 'Missouri Marijuana Sales Reach $3million Per Day', 'R401k YOLO into TSLA! (Holding)', 'Fiserv?', 'Investors Are Bailing on Cathie Wood’s Popular ARK Fund', 'The Impending Cybertruck Disappointment: High Cost, Low Range', 'Bears Checking Their Ports Monday Morning 🤡🐻🏳️\\u200d🌈', 'Looks like it’s time to go all in on $TSLA calls! Cybertruck is finally coming.', 'Tesla bears when they see Cybertrucks for the first time', 'In honor of the First CyberTruck Built at GigaTexas - The Origin Story', 'The hype surrounding AI stocks is undeniable, as evidenced by the accompanying graph.', \"What's the sentiment towards TSLA Earning?\", 'Everything is going swimmingly in anticipation of the IPO', 'Negg. Good action last couple days.', 'AI-related stocks drove virtually all of the S&P 500 returns in 2023 - is AI hype just a bubble?', 'AI is bullshit and a scam', 'MAT Mattel is going to crush earnings', 'Where’s my profit!', 'Calls on Target and Dollar General.', 'Last minute appeal to block $69 billion Microsoft-Activision deal is blocked', 'Based on a True Story', \"What's wrong with this trading strategy?\", 'Fuck your Disney calls', 'NVDA / TSLA / QQQ ???', 'Has the Stock Market Helped or Hurt you?', 'TSLA bears on Monday', 'Saw this and thought of you Nvidia bros, assume this was the DD? Wen beach party?', 'It’s on solid foundation, don’t worry', 'my new options strategy', 'DIS is actually short for Disgusting', 'The long-awaited rebound in investment banking has yet to materialize, making for a disappointing quarter.', 'A Rivian owner was in a fender bender. The repair bill was $42,000.', 'SAFE Banking has Confirmed Support of 9 Republican Senators to Overcome Filibuster', 'Aww did someone try to unionize?', 'Bulls help blind bears. Verb, not adjective', 'Economic Strength and Recessions', 'Market sentiment.', 'Quit my job and converted my 401k to self directed brokerage. Loss porn, happy Friday y’all!', \"Volkswagen CEO Schaefer tells managers 'the roof is on fire'\", \"Simufilam Reduces Decline in Alzheimer's by up to 98% (SAVA)\", 'After 3 years, I’ve finally made a profit.', 'Bears watching Nvidia break a new 52 high every day.', 'Apparently “Stonks go up” is a concept too difficult for some to understand', 'History will repeat itself, NVDA will correct'], '2023-07-18': ['Daily Discussion Thread for July 18, 2023', 'Most Anticipated Earnings Releases for the week beginning July 17th, 2023', 'Damn, how do they do it?', 'How do I buy calls on VisualBot?', 'Chinese real estate giant Evergrande records staggering losses of $81 billion over the course of the last 2 years - ProfessPost', 'JPOW will be remembered as a hero who crushed inflation and saved the stock market', \"I'm never buying Spy Puts ever again\", 'RKLB is 🚀 after a great launch mission yesterday! Up $8,000 so far.', \"Bank of America's profits jump 19% on strong Wall Street showing, Strength of US Consumers\", 'AI is investing in itself', 'Bought calls at open spy', '105k PYPL YOLO. YOU DONT KNOW ME SON!', 'In other words: \"Damn these accounting standards, if it wasn\\'t for them I\\'d value my Twitter holding at $500bln (or some other silly value)\"', \"Robinhood's new news service (Sherwood) calls WSB cool, untrustworthy in pitch deck.\", 'Gonna miss my rent and credit card payments, what’s the next play', \"I Didn't buy calls on MSFT$ like I posted about yesterday 😭😭😭\", 'Thanks for the Tweet tip Satya, 900% return on $MSFT weeklies', 'TSLA is overvalued and should go down so I bought calls', 'Bullish on 🇨🇳', 'The AI trading journey begins. Throwing $3k into automated trading strategies. Will I eat a bag of dicks? Roast me if you must', 'Tesla directors pay $735 mln to settle lawsuit over excess compensation', '16 k in 5 mins', 'What is dead cannot die', 'Ol’ Yellen', 'I am the Bull Flag', 'TSLA fanbois rn', '68% of fund managers believe in Soft landing.', 'Cashed out pre-earnings for 3x gain. Position: 10x $TSLA 300 Strike price LEAPS', 'First Cybertruck production exiting Gigatexas. Thoughts?', '$50k Cloudflare PUT YOLO Update', 'Thanks $MSFT - Knew you’d come back for me 😛', 'Who else is trading $COIN for some coin?', '$CVNA | Heavy Put Losses (~75%) | Switched to Calls | ~34K FD YOLO | 44.00 Calls', 'Am I crazy or is BUD going to get completely destroyed on their August earnings report?', '$10K position on TQQQ options', '$RKLB launch successful', '$125k PayPal YOLO', 'Fuck the haters, NEGG is my $250,000 play within the month! YOU WILL REMEMBER WHEN YOU CALLED ME REGARDED!!!', 'Netflix stock hits 17-month high as analysts forecast ‘competitive advantage’ from Hollywood strike', 'Goldman Sachs cuts probability of US recession in next 12 months', 'Warren urges SEC to investigate Tesla over Twitter ties, corporate governance — CNBC', '$TSLA inverse...?', \"They are self aware. It's over for us.\", 'History never repeats itself, but it does often rhyme', 'PayPal YOLO', \"NUCLEAR CARS LET'SSS GOOOOOOOO\", 'Crash imminent 🤡🐻', 'Does $CVNA keep pushing? 14% TODAY!', 'Well I’m back to even', 'The Government Is Quietly Suing Its Way To Broader Powers Over Traders', '$90k Loss Porn', 'What Are Your Moves Tomorrow, July 18, 2023', '$40k PLTR CALLS YOLO', '$NOW is closing on it’s ATH', 'Bears this is a warning, this is your future if you don’t change your ways', \"A fight erupts in U.S. housing market as deteriorated affordability clashes with the 'lock-in effect'\", 'PYPL leaps hype train all aboard', 'The upcoming NASDAQ100 Rebalance', 'WSB self help book', 'Elon said FSD is in the bag EOY 🍆 💦 aka by 2040… maybe', 'Shorting NVDA for $50K', 'Will Zim continue going down the drain?', 'Disney $100+ EOY! Loaded up!', 'Why should I buy a car when we have UFOs?', 'Are $NVDA and $META as good as they seem?', 'Do I hold through earnings?', 'Thinking to inverse Wayfair puts into calls', 'Disney', 'Still Relevant (Repost)', 'Quick Question about Leveraged Stocks', 'Anyone else gonna buy Mattel?', 'July 17 - Long term CVNA holdings', 'Thank you tesla and rivian', \"ALCC - Sam Altmans SPAC, Oklo a micro nuclear reactor startup. - This thing is radioactive (Don't touch it)\", 'I’ve been trading since 2016. 7 years in the making and these are my results 🥲', 'PYPL: Next technical levels (chart)', 'Nel ASA: Second quarter 2023 financial results', 'This is gonna hurt', 'Cybertruck spotted in the wild…loading calls', 'Topped up on $Bud puts last week', \"Bought SPY puts, it's time to buy calls.\", 'Me when people tell me to stop gambling on stonks', 'MSFT$ has a AI showcase tomorrow, is it already priced in?', 'Come back szn pt 2 but this time I’ll actually become a millionaire', '$UPS Put go BRRR', \"Billionaires and corporate execs have dumped $9 billion worth of stock this year amid the market's latest rally\", 'Easy money available shorting CVM', 'Daily Discussion Thread for July 17, 2023', 'Is it smart to buy an ATM LEAP call for SQQQ or UVIX?', '$TSM is extremely undervalued and overlooked, especially with AI', '50K HOOD YOLO - This is $15 EOW', 'Gain using long term leap strategy', 'Is it (QuantumScape $QS) in?', 'Nasdaq and QQQ Moving Averages.', 'I will post as gain rtx yolo up date', 'How the SAFE Banking Act Affects the Emerging and Rapidly', 'China reports second-quarter GDP miss, another record high in youth unemployment', 'When you make your first profit', 'PLTR YOLO Update. Holding for 50-100. Palantir is the most important company in the world right now.', 'SAVE merger play'], '2023-07-19': ['Daily Discussion Thread for July 19, 2023', 'Most Anticipated Earnings Releases for the week beginning July 17th, 2023', 'December buys CVNA $182k to $2,500,000', 'RIP to CVNA puts and shorts', '80 CVNA $59 calls, 7/21. Average price of $0.09, sold for $2.40 right at open.', 'Cramer: Recession Cancelled!', 'TSLA Before & After Earnings Today', 'I Have Succesfully Predicted 42.0 Of The Last 2 Market Crashes', 'Honest WSB', 'Anyone knows what happened to $AAPL rn?', 'New robinhood features allows you to see how big of a loser you are 😭', 'Apple finally figured out which letter comes after A...', 'Bears rn', 'RIP to my puts, I guess “dumb money” wins. Best I can hope for now is an investigation into how they cook the books by next week….', 'Get rekt 🐻', 'What is dead cannot die', 'Hodl', '26k gain 20 mins (50%) cvna', 'CVNA bears today', 'Stonk only go up - next stop 100!', '$UPST “What does Upstart do?”', 'Here is a visual aid to help you better understand Carvanas upcoming earnings call. 🫡', 'Damn, how do they do it?', 'Now a 99.8% chance of rate hike next week. Get your $SPY calls ready!', 'JPOW will be remembered as a hero who crushed inflation and saved the stock market', 'WE ARE HOLDING 320 EOW', 'Logic has left the chat', '$CVNA $20K Loss on Naked Calls', 'Tomorrow It Begins...', '5% is not bad, right guys?', 'RKLB gain porn', 'Anyone just waiting for a dip to happen or is it just me?', 'I have successfully predicted the next three months:', 'Apple is building its own ChatGPT', 'Gonna miss my rent and credit card payments, what’s the next play', 'Is $LCID headed for another squeeze?', 'Heard we were posting loss porn. Can you tell when I activated options trading?', 'Thanks $MSFT', 'Loss porn & yolo on life saving / IRA / 401k', 'Every TSMC investors worst nightmare', 'Thx tim', '$CVNA Moving Up Results 2 Weeks to Tomorrow Morning', 'Netflix removes cheapest ad-free plan after launching new ad-supported tier', 'Should I be worried about Tesla earnings tomorrow? Will this be discussed on the call?', 'How do I buy calls on VisualBot?', \"I'm never buying Spy Puts ever again\", 'Are we in a late-stage bubble on software/big tech like Feb/March 2000?', 'Insane risky RTX play', 'To Sail Forbidden Seas, $HOOD - Q2/23 ER Guess', 'My bags feeling lighter already', 'Chinese real estate giant Evergrande records staggering losses of $81 billion over the course of the last 2 years - ProfessPost', 'RKLB is 🚀 after a great launch mission yesterday! Up $8,000 so far.', \"Still haven't learned\", 'Bad call guys next call (Shorted NVDA and Pepsi <- prior)', 'Everyone talking about CVNA but what about ATT? 8% jump today what gives?', 'The Best Trades Show a Profit from the Start - 40K $HOOD YOLO', 'What happens to stocks if this AI hype turns out to be a big fart?', 'AAPL and our Future Sino-Asian Overlords', 'All in on lead covered cables!', '185k pypl yolo', '$CVNA YOLO ~54K FD | Earnings Moved Up From Aug 3rd | Thoughts', 'Does Cathie Wood need a summer intern?', \"I Didn't buy calls on MSFT$ like I posted about yesterday 😭😭😭\", 'Found this at school found it appropriate for the guy using his rent money. Calls on Christianity', 'Market these days', 'CVNA moving earnings up to 7/19', 'Want advice from you regards please', 'What Are Your Moves Tomorrow, July 19, 2023', 'UPS Stock and the price', 'RTX pattern again', 'Still Relevant (Repost)', 'Lucid (LCID) EVs are available for lease for the first time in Saudi Arabia. Possible short squeeze? $LCID', 'Apple preps Ajax Generative AI to compete with ChatGPT & Google', 'Bought up COIN when it was $45 - $70 and got a small gain', '\"Threads Usage Drops By Half From Initial Surge\" - Calls on Meta, I guess!', 'Spy is pulling back time to dump gains on crypto bro!', 'Long PE - $BX going to be your new landlord / credit lord / pimp for the next 10 years', 'Puts on India? - Most outsourced coders in India will be gone in 2 years due to AI', \"LESL just gapped down. But there's more downside.\", '$PYPL Price Target $100 by end of August', 'UPDATE $PYPL YOLO 💎🙌🚀', 'Carvana Slides After Moving Up Earnings Date Without Warning', '105k PYPL YOLO. YOU DONT KNOW ME SON!', 'Bought calls at open spy', 'Thoughts and Opinions on CLBR', 'Just updating the group on my carvana puts. How do they make you feel? 🩸', \"Bank of America's profits jump 19% on strong Wall Street showing, Strength of US Consumers\", '1000 spy put 451p 7/19', 'Update on my TSLA calls 🫡', 'TESLA All In', 'Oh we are so back', 'LETS GO TSLA', 'The Verge: Apple is testing an AI chatbot but has no idea what to do with it', 'Covid 19 disabling your workforce and tanking your earning season', \"First 3mo of Options Trading, 10X on a unit-based sports betting approach, assuming I'm leaving some cash on the table.\", 'UNH Yolo. 47k in gains so far', 'PLTR & RKLB Before August ER?', 'Thank you 🏳️\\u200d🌈🐻', \"Will the Writer's Strike and SAG-Aftra Strike have a notable implication on the jobless claims and unemployment levels?\", 'Gain porn'], '2023-07-20': ['Daily Discussion Thread for July 20, 2023', 'Most Anticipated Earnings Releases for the week beginning July 17th, 2023', 'Did we learn the difference yet?', 'Trade smart, not hard', '\"How low can yah go!! how low can yah go!!\" -Me bag holder.', 'The Babylon Bee gets it', 'Netflix You Guys Are Fucking Idiots', 'Musk, Tesla board to return $735M after being sued for overpaying themselves', 'December buys CVNA $182k to $2,500,000', 'Oh TSLA what have you done…', '$TSLA Bulls Screamed GrEeN DaY after I called for $270 into ER.. and look where Tesla Went. Regarded DD wins again', 'I have successfully predicted the next three months:', 'Blast from the AI Past', 'Cava puts', \"Tesla may keep cutting prices in 'turbulent times', Musk says\", 'Rtx yolo i got out alive and with money', 'If my brokerage account can speak', 'Carvana spins lower after S&P warns debt deal could be tantamount to default', '+$130K gains on Regional Banks. Be greedy when others are fearful!', 'The best investment strategy rn', 'Shorting Cathie Wood’s ARKK with my life savings.', 'TSLA Before & After Earnings Today', 'Cramer: Recession Cancelled!', 'Doggo discovers Cramer', '$CVNA 6X Gains | 54K ---> 396K | $342K Profit | 6 Bagger', 'Anyone knows what happened to $AAPL rn?', '7/21 $272.5 TSLA CALLS', 'See ya later boys...', \"Sigh. Who's the regard that bought a big call on $TSLA at 3:59pm EST yesterday?\", 'Apple finally figured out which letter comes after A...', 'The stock market is rigged', '80 CVNA $59 calls, 7/21. Average price of $0.09, sold for $2.40 right at open.', '$SNAP $10p 8/30 for Earnings Next Week', 'Carvana W', 'I love when I stay true to my strategy 💪🏽', 'TSLA 1DTE Call Holders before and after earnings', '$CVNA $20K Loss on Naked Calls', 'RIP to CVNA puts and shorts', 'So I was just listening to the entirety of the TSLA earnings call...', '$AMPX Power to Your Portfolio 🔥', '📉', 'QQQ Holders Next Week', 'What Are Your Moves Tomorrow, July 20, 2023', 'Trying to time the TSLA dip…', 'Blackstone Reaches $1 Trillion in AUM', 'Tesla stock drops on margin concerns, Musk warning on Q3 production', 'Tomorrow It Begins...', 'Am I doing this right?', '$TSLA $300 -> $270 MINIMUM.. Cybertruck Production is about to COOK THIS STOCK', 'The exact state of your $TSLA calls 9:30AM.', '$GNRC 20k yolo', 'First Ever Honest Federal Reserve Meeting - Meeting Notes', 'Tesla’s profits have increased despite implementing price cuts', 'TSM earnings call', 'Logic has left the chat', 'Honest WSB', 'I Have Succesfully Predicted 42.0 Of The Last 2 Market Crashes', 'It’s okay guys…I can make it back', 'Perma-bulls and perma-bears getting their epiphany (colorized)', 'Every TSMC investors worst nightmare', 'So with both ASML and TSM(C) earnings/calls complete how do we feel for the future of AI/semi-conductor chips sentiment?', 'Hodl', 'Now a 99.8% chance of rate hike next week. Get your $SPY calls ready!', 'Michael Burry on Pac West Bank:', 'Get rekt 🐻', 'New robinhood features allows you to see how big of a loser you are 😭', 'RIP to my puts, I guess “dumb money” wins. Best I can hope for now is an investigation into how they cook the books by next week….', 'META Megaphone Update - Posted 4 Months Ago', 'This should do alright?', 'Mattel to the moon?', 'Bears rn', 'Question about the new Fed quick exchange.', 'Time to short Aerospace/Lockheed', 'CVNA bears today', 'My bags feeling lighter already', '$CVNA -> $100+ Price Soon or Shadow Realm', 'It make no sense', '26k gain 20 mins (50%) cvna', '$UPST “What does Upstart do?”', 'XOM for a win', 'Daily Discussion Thread for July 19, 2023', 'Lucid (LCID) EVs are available for lease for the first time in Saudi Arabia. Possible short squeeze? $LCID', 'Anyone just waiting for a dip to happen or is it just me?', 'What is dead cannot die', 'RKLB gain porn', 'Stonk only go up - next stop 100!', 'I am confident that Target and Dollar General (calls) are free money.', 'Here is a visual aid to help you better understand Carvanas upcoming earnings call. 🫡', 'Netflix removes cheapest ad-free plan after launching new ad-supported tier', 'Heard we were posting loss porn. Can you tell when I activated options trading?', 'And so the 1929 crash begins. ( 78.6% fib+ Vana charm fade+ Max PE 20&E230 + -ve correlation +Inverted yield curve+ D. spiral +Lag effects )', 'Damn, how do they do it?', 'Insane risky RTX play', 'JPOW will be remembered as a hero who crushed inflation and saved the stock market', '5% is not bad, right guys?', 'CVNA recent debt exchange. Discussion of details.', 'Is $LCID headed for another squeeze?', 'Everyone talking about CVNA but what about ATT? 8% jump today what gives?', 'Are we in a late-stage bubble on software/big tech like Feb/March 2000?', 'Gonna miss my rent and credit card payments, what’s the next play'], '2023-07-21': ['Daily Discussion Thread for July 21, 2023', 'Most Anticipated Earnings Releases for the week beginning July 24th, 2023', 'WARNING: Options gambling may royally fuck up you life!', 'When you meet with prime minister of Luxembourg and you show up in sweat pants - calls on google', 'Fucking legend', 'Autist in the wild', 'stock price = earnings call listeners x number of times AI mentioned', 'My life since joining this sub', 'one red day and bears are like', 'Elon said ARK invest is \"the best\" at analysis.', 'The number of Americans who say they were rejected for a loan reaches highest rate in 5 years', 'Did we learn the difference yet?', 'Trade smart, not hard', 'TSLA Calls vanquished my last hope. Had $1k 24 hours ago', 'I thought it was a myth.', '\"How low can yah go!! how low can yah go!!\" -Me bag holder.', 'Lost a lot of money on $TSLA recently… so I’m a gay bear 🌈 now', 'Enron Share Certificate. Bought for 95 cents just a few days before the bankruptcy. 😀', '$CVNA 0DTE ~$15K FD Yolo | 42.00 PUT Play | 400 Contracts', 'Satellite radio rocks', 'Why is no one talking about Upstart? 👀', 'HOOD calls for $13.5k', '$75k YOLO on Spy Calls for tomorrow', 'What Are Your Moves Tomorrow, July 21, 2023', 'Inflation Going Back Up', 'Is TSLA going to repeat history', '+$130K gains on Regional Banks. Be greedy when others are fearful!', 'Tsla Yolo', 'The Babylon Bee gets it', 'Doggo discovers Cramer', '$TSLA Bulls Screamed GrEeN DaY after I called for $270 into ER.. and look where Tesla Went. Regarded DD wins again', 'TSLA 1DTE Call Holders before and after earnings', 'Microsoft CEO Satya Nadella is the World’s Newest Tech Billionaire', 'Carvana spins lower after S&P warns debt deal could be tantamount to default', 'Recession end 2023/early 2024', 'Is anyone following the Apellis story?', 'Musk, Tesla board to return $735M after being sued for overpaying themselves', 'STX.L - Shield Therapeutics (UK Aim Market) SHIEF:US:OTC US', 'Olaplex - OLPX thesis', 'Small $SPY and $XLF YOLO for next week... in Jpow we trust', \"Tesla CEO Elon Musk: 'We're using a lot of Nvidia hardware'\", 'Lucid is the next Tesla', 'Im back? Kinda lol', 'Does this mean all of the short Hedgefund positions are underwater?', 'My SPY idiocy has no limits!', 'Federal Reserve announces that its new system for instant payments, the FedNow® Service, is now live', 'I should have sold at 298', 'Oh TSLA what have you done…', 'Daily Discussion Thread for July 20, 2023', '7/21 $272.5 TSLA CALLS', 'Cava puts', 'December buys CVNA $182k to $2,500,000', 'With Tesla reporting record deliveries and revenue, is Rivian undervalued?', 'Will the nasdaq special rebalancing next Monday negatively impact the Big 7?', 'Yolo into regional banks and rdfn. Time to get greedy?', 'Rtx yolo i got out alive and with money', 'I love when I stay true to my strategy 💪🏽', 'Upcoming QQQ rebalance', 'If my brokerage account can speak', 'I have successfully predicted the next three months:', 'Blast from the AI Past', \"Tesla may keep cutting prices in 'turbulent times', Musk says\", \"Sigh. Who's the regard that bought a big call on $TSLA at 3:59pm EST yesterday?\", 'HOOD Updates PDT Policy', \"30% port into $SNAP Earnings / 2024 Puts - I havn't used this app since I was like 15\", '$SNAP $10p 8/30 for Earnings Next Week', 'The best investment strategy rn', 'Tesla’s profits have increased despite implementing price cuts', 'Shorting Cathie Wood’s ARKK with my life savings.', 'TSLA Before & After Earnings Today', 'Blackstone Reaches $1 Trillion in AUM', 'Cramer: Recession Cancelled!', 'Massive Box Office Weekend Incoming $AMC $WBD Barbie FTW!', '$AMPX Power to Your Portfolio 🔥', 'Anyone knows what happened to $AAPL rn?', '$CVNA 6X Gains | 54K ---> 396K | $342K Profit | 6 Bagger', 'Tesla stock drops on margin concerns, Musk warning on Q3 production', '$KTOS to partner with shield AI, stock seeing steady rise and I believe it will hit $15 in next few days', 'See ya later boys...', 'Mattel to the moon?', 'Trying to time the TSLA dip…', 'U.S. leading indicators point to recession starting soon - Reuters', 'The stock market is rigged', 'Apple finally figured out which letter comes after A...', '80 CVNA $59 calls, 7/21. Average price of $0.09, sold for $2.40 right at open.', 'Carvana W', '$CVNA $20K Loss on Naked Calls', '$GNRC 20k yolo', 'Think Wintrust is safe from the commercial real estate bomb?', 'So I was just listening to the entirety of the TSLA earnings call...', 'RIP to CVNA puts and shorts', '📉', 'Pt. 2 The Most Memeable Stock Ever - $SPHR (MSG Sphere)', 'QQQ Holders Next Week', '$TSLA $300 -> $270 MINIMUM.. Cybertruck Production is about to COOK THIS STOCK', 'Am I doing this right?', 'The exact state of your $TSLA calls 9:30AM.', 'What Are Your Moves Tomorrow, July 20, 2023', 'Tomorrow It Begins...', 'First Ever Honest Federal Reserve Meeting - Meeting Notes']}\n"
     ]
    }
   ],
   "source": [
    "import re\n",
    "\n",
    "# Initialize an empty dictionary to store the data\n",
    "date_data_dict = {}\n",
    "\n",
    "# Open the 'hot.txt' file for reading\n",
    "with open('hot.txt', 'r') as file:\n",
    "    current_date = None\n",
    "    current_lines = []\n",
    "\n",
    "    # Read the file line by line\n",
    "    for line in file:\n",
    "        # Check if the line matches the date format\n",
    "        match = re.search(r'[-]+(\\d{4}-\\d{2}-\\d{2})', line)\n",
    "        if match:\n",
    "            # Extract the date in the format \"YYYY-MM-DD\"\n",
    "            current_date = match.group(0).replace('--', '')\n",
    "\n",
    "            # Start a new list of lines for the current date\n",
    "            current_lines = []\n",
    "\n",
    "            # Store the lines under the current date in the dictionary\n",
    "            date_data_dict[current_date] = current_lines\n",
    "        else:\n",
    "            # If the line is not a date, add it to the current list of lines\n",
    "            current_lines.append(line.strip())\n",
    "\n",
    "# Print the date_data_dict to see the results\n",
    "print(date_data_dict)\n"
   ]
  },
  {
   "cell_type": "code",
   "execution_count": 16,
   "metadata": {},
   "outputs": [
    {
     "name": "stdout",
     "output_type": "stream",
     "text": [
      "['What Are Your Moves Tomorrow, March 16, 2023', 'Most Anticipated Earnings Releases for the week beginning March 13th, 2023', 'Eggon says “GME go up” after earnings. ⬆️', 'Goldman Sachs: 99% of borrowers have a mortgage rate lower than the current market rate', 'Who would have thought?', 'Live look at banks', 'Warning from the treasury market', 'Credit Suisse shares suspended, banking crisis deepens', \"let me introduce you to the infinite Frosty glitch from Wendy - apply for their jobs, and get a free frosty whenever you're not selected.\", '#DWAC and Trump Media Being investigated for Money Laundering for Russians', 'Credit Suisse to borrow up to about $54 billion from Swiss National Bank', 'It’s confirmed, Rivian has gone tits up!', 'Swiss National Bank says it will provide Credit Suisse with liquidity if necessary', '\"Credit suisse is a great company\"', 'Wen bankruptcy?', 'Robinhood Users Say The Trading App Won’t Cash In Their Profitable Bets Against Silicon Valley Bank', 'Aging like a taco bell you just ate', 'The Roaring 20s', 'Reddit just mooned, thoughts ?', 'Carl Icahn explains Twitter.', 'A simple calculation', 'Day 3 of Photoshopping failing banks on their way to a “meeting”with the FED', 'Here is a list of companies that are currently exposed to high levels of debt financing and the incoming credit crunch. Choose your short.', 'Jim Cramer Emo Remix - I made a mistake (SVB, Signature Bank & Meta Apology) - Lil Bubble', 'Biden reverses on TikTok', 'Can’t make this sh*t up. Schwab CEO vs. The Big Short', '+1000% on 0DTE Overnight You Fucking Nerds!', \"Credit Swiss' chairman has a very appropriate name\", '0DTE Gains Part 3: $150,000+', 'The time of the bear has come, buckle up buckaroos 🐻', 'Why SVB is just the beginning: Part II Eurodollar edition, from a investment analyst', 'YOLO', '(Pure speculation) I think J Pow confirms 25 base pts, or pause.', \"'Credit Suisse To Collapse Next', Says Robert Kiyosaki Who Predicted Lehman Brothers' Fall\", 'Joseph Gentile Destroying Capitalism', 'Breaking News via Bloomberg', 'First Republic Bank, is said to weigh options including a sale, per Bloomberg', 'Swiss National Bank says it will provide Credit Suisse with liquidity if necessary', 'Credit Suisse: Short term CDS at >830 bps', 'Gotta bankrupt them all', 'Switzerland faces pressure from at least one major government to intervene on Credit Suisse', 'CNBC doing JPow dirty with this pic', 'Hey, bank for sale..! For sale?', 'FDIC is Daddy', 'NVDA CFO just sold a bunch of stock, probably nothing.', 'How everyone is looking at CS right now...', 'Credit Suisse mooning tomorrow?', 'FEDs are not bailing out banks, they are bailing out the bond market.', 'All this wishful thinking JPOW is suddenly their friend...', 'Snap & Meta stock surges on report that Biden may ban TikTok', 'Daily Discussion Thread for March 15, 2023', 'President Joe Biden on Monday underscored that the American banking system remains safe', 'Virgin Orbit pauses operations for a week, furloughs nearly entire staff as it seeks funding', 'The SVB crisis, explained in ten seconds', 'Brrr...', 'Recession Confirmed!', 'The Federal Home Loans Banks sold 90B in bonds and treasuries to raise liquidity for commercial banks. Tick fucking tock.', 'Nothing to see here.. keep it movin…', '\"you met me at a very strange time in my life\"', 'The volatility continues… 3-15-23 SPY/ ES Futures, DXY, 10YR and VIX Daily Market Analysis', 'Adjusted CET1 capital ratio for unrealised losses', \"Could a SVB's collapse been prevented if the accounting rules for recognizing bond losses were required to mark-to market?\", '143K gain riding the S&P rodeo. ES, SPX 0-days. Thanks Europe, keep it going!', 'RIP BULLZ', 'Credit Suisse = Lehman Brothers', 'Everyone mass buying gold post-SVB collapse', \"Life moves pretty fast when you're having fun\", 'Jackson Hole 2.0 Speech Leak', 'I’m a fucking degenerate regard - YOLO 100x SPY 388P 3/17', '100% Batting Average today- +$12k', 'Weekend Discussion Thread for the Weekend of March 18, 2023', 'Most Anticipated Earnings Releases for the week beginning March 20th, 2023', 'How it feels', 'Imagine', 'JPOW did nothing wrong', 'Summary of Yellen’s testimony yesterday', 'Jpow VW effect', 'For people who think the banks are fine…', 'WSB autist impresses the ladies', \"Noted... In the future only deposit into banks that can't fail\", 'The cycle of the market', '40K Stock YOLO on BAC', 'Update from the fed', 'DO NOT hold near-expiry Puts on any stock that might collapse. Brokers are refusing to honor Puts on halted bank stocks…YOU WILL LOSE 100%', 'Fed balance sheet ticks up massively. Lots of banks wanted liquidity.', 'SVB Saga', 'WELP peeps there waiting and ready for the crash', 'THE INVESTOOR', 'Fed poised to approve quarter-point rate hike next week, despite market turmoil', 'Why printer is back on… 2023 is worse than 2008 in terms of deposits held by failed banks.', 'Credit Suisse getting desperate for liquidity', 'I feel like we’re watching The Big Short in real time', \"One of these days we'll figure it out, right? ...guys?\", 'I guess this is the right day for this meme? Or maybe wait a few more weeks?', 'Fed pivoting their balance sheet strategy while inflation is still 6% year-over-year', '1... 2... FRED is coming for you...', \"Memes create dreams. We're going to the moon folks 🚀🫡\", 'RIP Quantitative Tightening', 'Got ‘em. Bulls on parade.', \"Are you ready to party like it's 1929? Why just have a depression when you can have a GREAT Depression? 🍾🍸🤠🥂\", 'FRC moments after the money hits', 'Deal of the year 💸💸 already backed by Bank of America.', 'Update: High Probability Recession Hits U.S. in Late 2023']\n"
     ]
    }
   ],
   "source": [
    "#copy the list of the first key into a list\n",
    "hot_1= date_data_dict['2023-03-16']\n",
    "print(hot_1)"
   ]
  },
  {
   "cell_type": "markdown",
   "metadata": {},
   "source": [
    "## Dict testing"
   ]
  },
  {
   "cell_type": "code",
   "execution_count": 13,
   "metadata": {},
   "outputs": [
    {
     "name": "stdout",
     "output_type": "stream",
     "text": [
      "['Daily Discussion Thread for July 20, 2023', 'Most Anticipated Earnings Releases for the week beginning July 17th, 2023', 'Did we learn the difference yet?', 'Trade smart, not hard', '\"How low can yah go!! how low can yah go!!\" -Me bag holder.', 'The Babylon Bee gets it', 'Netflix You Guys Are Fucking Idiots', 'Musk, Tesla board to return $735M after being sued for overpaying themselves', 'December buys CVNA $182k to $2,500,000', 'Oh TSLA what have you done…', '$TSLA Bulls Screamed GrEeN DaY after I called for $270 into ER.. and look where Tesla Went. Regarded DD wins again', 'I have successfully predicted the next three months:', 'Blast from the AI Past', 'Cava puts', \"Tesla may keep cutting prices in 'turbulent times', Musk says\", 'Rtx yolo i got out alive and with money', 'If my brokerage account can speak', 'Carvana spins lower after S&P warns debt deal could be tantamount to default', '+$130K gains on Regional Banks. Be greedy when others are fearful!', 'The best investment strategy rn', 'Shorting Cathie Wood’s ARKK with my life savings.', 'TSLA Before & After Earnings Today', 'Cramer: Recession Cancelled!', 'Doggo discovers Cramer', '$CVNA 6X Gains | 54K ---> 396K | $342K Profit | 6 Bagger', 'Anyone knows what happened to $AAPL rn?', '7/21 $272.5 TSLA CALLS', 'See ya later boys...', \"Sigh. Who's the regard that bought a big call on $TSLA at 3:59pm EST yesterday?\", 'Apple finally figured out which letter comes after A...', 'The stock market is rigged', '80 CVNA $59 calls, 7/21. Average price of $0.09, sold for $2.40 right at open.', '$SNAP $10p 8/30 for Earnings Next Week', 'Carvana W', 'I love when I stay true to my strategy 💪🏽', 'TSLA 1DTE Call Holders before and after earnings', '$CVNA $20K Loss on Naked Calls', 'RIP to CVNA puts and shorts', 'So I was just listening to the entirety of the TSLA earnings call...', '$AMPX Power to Your Portfolio 🔥', '📉', 'QQQ Holders Next Week', 'What Are Your Moves Tomorrow, July 20, 2023', 'Trying to time the TSLA dip…', 'Blackstone Reaches $1 Trillion in AUM', 'Tesla stock drops on margin concerns, Musk warning on Q3 production', 'Tomorrow It Begins...', 'Am I doing this right?', '$TSLA $300 -> $270 MINIMUM.. Cybertruck Production is about to COOK THIS STOCK', 'The exact state of your $TSLA calls 9:30AM.', '$GNRC 20k yolo', 'First Ever Honest Federal Reserve Meeting - Meeting Notes', 'Tesla’s profits have increased despite implementing price cuts', 'TSM earnings call', 'Logic has left the chat', 'Honest WSB', 'I Have Succesfully Predicted 42.0 Of The Last 2 Market Crashes', 'It’s okay guys…I can make it back', 'Perma-bulls and perma-bears getting their epiphany (colorized)', 'Every TSMC investors worst nightmare', 'So with both ASML and TSM(C) earnings/calls complete how do we feel for the future of AI/semi-conductor chips sentiment?', 'Hodl', 'Now a 99.8% chance of rate hike next week. Get your $SPY calls ready!', 'Michael Burry on Pac West Bank:', 'Get rekt 🐻', 'New robinhood features allows you to see how big of a loser you are 😭', 'RIP to my puts, I guess “dumb money” wins. Best I can hope for now is an investigation into how they cook the books by next week….', 'META Megaphone Update - Posted 4 Months Ago', 'This should do alright?', 'Mattel to the moon?', 'Bears rn', 'Question about the new Fed quick exchange.', 'Time to short Aerospace/Lockheed', 'CVNA bears today', 'My bags feeling lighter already', '$CVNA -> $100+ Price Soon or Shadow Realm', 'It make no sense', '26k gain 20 mins (50%) cvna', '$UPST “What does Upstart do?”', 'XOM for a win', 'Daily Discussion Thread for July 19, 2023', 'Lucid (LCID) EVs are available for lease for the first time in Saudi Arabia. Possible short squeeze? $LCID', 'Anyone just waiting for a dip to happen or is it just me?', 'What is dead cannot die', 'RKLB gain porn', 'Stonk only go up - next stop 100!', 'I am confident that Target and Dollar General (calls) are free money.', 'Here is a visual aid to help you better understand Carvanas upcoming earnings call. 🫡', 'Netflix removes cheapest ad-free plan after launching new ad-supported tier', 'Heard we were posting loss porn. Can you tell when I activated options trading?', 'And so the 1929 crash begins. ( 78.6% fib+ Vana charm fade+ Max PE 20&E230 + -ve correlation +Inverted yield curve+ D. spiral +Lag effects )', 'Damn, how do they do it?', 'Insane risky RTX play', 'JPOW will be remembered as a hero who crushed inflation and saved the stock market', '5% is not bad, right guys?', 'CVNA recent debt exchange. Discussion of details.', 'Is $LCID headed for another squeeze?', 'Everyone talking about CVNA but what about ATT? 8% jump today what gives?', 'Are we in a late-stage bubble on software/big tech like Feb/March 2000?', 'Gonna miss my rent and credit card payments, what’s the next play']\n"
     ]
    }
   ],
   "source": [
    "print(date_data_dict['2023-07-20'])"
   ]
  },
  {
   "cell_type": "code",
   "execution_count": 16,
   "metadata": {},
   "outputs": [
    {
     "name": "stdout",
     "output_type": "stream",
     "text": [
      "['2023-03-16', '2023-03-17', '2023-03-18', '2023-03-20', '2023-03-21', '2023-03-22', '2023-03-23', '2023-03-24', '2023-03-25', '2023-03-27', '2023-04-03', '2023-06-09', '2023-06-18', '2023-06-19', '2023-06-20', '2023-06-21', '2023-06-23', '2023-06-25', '2023-06-30', '2023-07-04', '2023-07-05', '2023-07-07', '2023-07-08', '2023-07-09', '2023-07-10', '2023-07-13', '2023-07-15', '2023-07-16', '2023-07-17', '2023-07-18', '2023-07-19', '2023-07-20', '2023-07-21']\n"
     ]
    }
   ],
   "source": [
    "dates = list(date_data_dict.keys())\n",
    "print(dates)"
   ]
  },
  {
   "cell_type": "code",
   "execution_count": 88,
   "metadata": {},
   "outputs": [
    {
     "name": "stdout",
     "output_type": "stream",
     "text": [
      "2023-03-17\n"
     ]
    }
   ],
   "source": [
    "print(dates[1])"
   ]
  },
  {
   "cell_type": "markdown",
   "metadata": {},
   "source": [
    "## get specific stock"
   ]
  },
  {
   "cell_type": "code",
   "execution_count": 115,
   "metadata": {},
   "outputs": [
    {
     "name": "stdout",
     "output_type": "stream",
     "text": [
      "            date                                          Sentences matches\n",
      "0     2023-03-16       What Are Your Moves Tomorrow, March 16, 2023      []\n",
      "1     2023-03-16  Most Anticipated Earnings Releases for the wee...      []\n",
      "2     2023-03-16          Eggon says “GME go up” after earnings. ⬆️   [GME]\n",
      "3     2023-03-16  Goldman Sachs: 99% of borrowers have a mortgag...      []\n",
      "4     2023-03-16                            Who would have thought?      []\n",
      "...          ...                                                ...     ...\n",
      "3626  2023-07-21                             Am I doing this right?      []\n",
      "3627  2023-07-21        The exact state of your $TSLA calls 9:30AM.      []\n",
      "3628  2023-07-21        What Are Your Moves Tomorrow, July 20, 2023      []\n",
      "3629  2023-07-21                              Tomorrow It Begins...      []\n",
      "3630  2023-07-21  First Ever Honest Federal Reserve Meeting - Me...      []\n",
      "\n",
      "[3631 rows x 3 columns]\n"
     ]
    }
   ],
   "source": [
    "# Assuming you have the dictionary with keys as dates and sentences as values\n",
    "# Example of the dictionary:\n",
    "# sentences_dict = {\n",
    "#     \"2023-07-29\": [\"AAPL goes wild\", \"$APPL is performing well\"],\n",
    "#     \"2023-07-30\": [\"JPOW is doing good\", \"MSFT is gaining\"],\n",
    "#     ...\n",
    "# }\n",
    "\n",
    "# Assuming you have the \"symbols\" dataframe with \"Symbols\" and \"Name\" columns\n",
    "# Example of the \"symbols\" dataframe:\n",
    "# symbols = pd.DataFrame({\n",
    "#     \"Symbols\": [\"AAPL\", \"MSFT\", ...],\n",
    "#     \"Name\": [\"Apple Inc.\", \"Microsoft Corporation\", ...]\n",
    "# })\n",
    "\n",
    "# Function to find matches using regular expressions\n",
    "def find_matches(sentence, symbol_list):\n",
    "    matches = []\n",
    "    for symbol in symbol_list:\n",
    "        pattern = r\"(?<!\\$)\\b\" + re.escape(str(symbol)) + r\"\\b(?!\\w)\"\n",
    "        if re.search(pattern, sentence):\n",
    "            matches.append(symbol)\n",
    "    return matches\n",
    "\n",
    "# List to store the results\n",
    "results = []\n",
    "\n",
    "# Iterate through each date and its sentences in the dictionary\n",
    "for date, sentences in date_data_dict.items():\n",
    "    # Iterate through each sentence\n",
    "    for sentence in sentences:\n",
    "        # Find matches for each sentence with and without \"$\" sign\n",
    "        matches_without_dollar = find_matches(sentence, symbols['Symbol'].tolist())\n",
    "        matches_with_dollar = find_matches(sentence, symbols['Symbol'].apply(lambda x: '$' + x).tolist())\n",
    "        all_matches = matches_without_dollar + matches_with_dollar\n",
    "        \n",
    "        # Append the results to the list\n",
    "        results.append((date, sentence, all_matches))\n",
    "\n",
    "# Create a new DataFrame to store the results\n",
    "matches_df = pd.DataFrame(results, columns=[\"date\", \"Sentences\", \"matches\"])\n",
    "\n",
    "# Print the result DataFrame\n",
    "print(matches_df)\n"
   ]
  },
  {
   "cell_type": "code",
   "execution_count": 116,
   "metadata": {},
   "outputs": [
    {
     "name": "stdout",
     "output_type": "stream",
     "text": [
      "            date                                          Sentences matches\n",
      "0     2023-03-16       What Are Your Moves Tomorrow, March 16, 2023      []\n",
      "1     2023-03-16  Most Anticipated Earnings Releases for the wee...      []\n",
      "2     2023-03-16          Eggon says “GME go up” after earnings. ⬆️   [GME]\n",
      "3     2023-03-16  Goldman Sachs: 99% of borrowers have a mortgag...      []\n",
      "4     2023-03-16                            Who would have thought?      []\n",
      "...          ...                                                ...     ...\n",
      "3626  2023-07-21                             Am I doing this right?      []\n",
      "3627  2023-07-21        The exact state of your $TSLA calls 9:30AM.  [TSLA]\n",
      "3628  2023-07-21        What Are Your Moves Tomorrow, July 20, 2023      []\n",
      "3629  2023-07-21                              Tomorrow It Begins...      []\n",
      "3630  2023-07-21  First Ever Honest Federal Reserve Meeting - Me...      []\n",
      "\n",
      "[3631 rows x 3 columns]\n"
     ]
    }
   ],
   "source": [
    "import re\n",
    "import pandas as pd\n",
    "\n",
    "# Assuming you have the dictionary with keys as dates and sentences as values\n",
    "# Assuming you have the \"symbols\" dataframe with \"Symbol\", \"Dollar_Symbol\", and \"Name\" columns\n",
    "\n",
    "# Function to find matches using regular expressions\n",
    "def find_matches(sentence, symbol_list):\n",
    "    matches = []\n",
    "    for symbol in symbol_list:\n",
    "        if pd.notna(symbol):  # Skip NaN values in the symbol_list\n",
    "            pattern = r\"\\b\" + re.escape(str(symbol)) + r\"\\b\"\n",
    "            if re.search(pattern, sentence):\n",
    "                matches.append(symbol)\n",
    "    return matches\n",
    "\n",
    "# List to store the results\n",
    "results = []\n",
    "\n",
    "# Iterate through each date and its sentences in the dictionary\n",
    "for date, sentences in date_data_dict.items():\n",
    "    # Iterate through each sentence\n",
    "    for sentence in sentences:\n",
    "        # Find matches for each sentence with \"Symbol\" and \"Dollar_Symbol\" columns\n",
    "        matches_symbols = find_matches(sentence, symbols['Symbol'].tolist())\n",
    "        matches_dollar_symbols = find_matches(sentence, symbols['Dollar_Symbol'].tolist())\n",
    "        all_matches = matches_symbols + matches_dollar_symbols\n",
    "        #if all_matches is empty then save then input \"S&P\"\n",
    "        if not all_matches:\n",
    "            all_matches = ['S&P']\n",
    "        \n",
    "        # Append the results to the list\n",
    "        results.append((date, sentence, all_matches))\n",
    "\n",
    "# Create a new DataFrame to store the results\n",
    "tickers = pd.DataFrame(results, columns=[\"date\", \"Sentences\", \"matches\"])\n",
    "\n",
    "# Print the result DataFrame\n",
    "print(tickers)\n"
   ]
  },
  {
   "cell_type": "code",
   "execution_count": 118,
   "metadata": {},
   "outputs": [
    {
     "data": {
      "text/html": [
       "<div>\n",
       "<style scoped>\n",
       "    .dataframe tbody tr th:only-of-type {\n",
       "        vertical-align: middle;\n",
       "    }\n",
       "\n",
       "    .dataframe tbody tr th {\n",
       "        vertical-align: top;\n",
       "    }\n",
       "\n",
       "    .dataframe thead th {\n",
       "        text-align: right;\n",
       "    }\n",
       "</style>\n",
       "<table border=\"1\" class=\"dataframe\">\n",
       "  <thead>\n",
       "    <tr style=\"text-align: right;\">\n",
       "      <th></th>\n",
       "      <th>date</th>\n",
       "      <th>Sentences</th>\n",
       "      <th>matches</th>\n",
       "    </tr>\n",
       "  </thead>\n",
       "  <tbody>\n",
       "    <tr>\n",
       "      <th>83</th>\n",
       "      <td>2023-03-16</td>\n",
       "      <td>DO NOT hold near-expiry Puts on any stock that...</td>\n",
       "      <td>[DO, YOU]</td>\n",
       "    </tr>\n",
       "    <tr>\n",
       "      <th>111</th>\n",
       "      <td>2023-03-17</td>\n",
       "      <td>AI CEO ON GPT-4: THIS CAN GET “SUPER-DANGEROUS...</td>\n",
       "      <td>[AI, CAN, ON]</td>\n",
       "    </tr>\n",
       "    <tr>\n",
       "      <th>316</th>\n",
       "      <td>2023-03-20</td>\n",
       "      <td>$25.7K YOLO on AMD NVDA, my gf is out with Pow...</td>\n",
       "      <td>[AMD, NVDA]</td>\n",
       "    </tr>\n",
       "    <tr>\n",
       "      <th>505</th>\n",
       "      <td>2023-03-22</td>\n",
       "      <td>Eggcellent DD - Cal-Maine Foods ($CALM).</td>\n",
       "      <td>[CALM, DD]</td>\n",
       "    </tr>\n",
       "    <tr>\n",
       "      <th>626</th>\n",
       "      <td>2023-03-22</td>\n",
       "      <td>Eggcellent DD - Cal-Maine Foods ($CALM).</td>\n",
       "      <td>[CALM, DD]</td>\n",
       "    </tr>\n",
       "    <tr>\n",
       "      <th>...</th>\n",
       "      <td>...</td>\n",
       "      <td>...</td>\n",
       "      <td>...</td>\n",
       "    </tr>\n",
       "    <tr>\n",
       "      <th>3491</th>\n",
       "      <td>2023-07-20</td>\n",
       "      <td>So with both ASML and TSM(C) earnings/calls co...</td>\n",
       "      <td>[AI, ASML, TSM]</td>\n",
       "    </tr>\n",
       "    <tr>\n",
       "      <th>3561</th>\n",
       "      <td>2023-07-21</td>\n",
       "      <td>$TSLA Bulls Screamed GrEeN DaY after I called ...</td>\n",
       "      <td>[DD, TSLA]</td>\n",
       "    </tr>\n",
       "    <tr>\n",
       "      <th>3603</th>\n",
       "      <td>2023-07-21</td>\n",
       "      <td>Massive Box Office Weekend Incoming $AMC $WBD ...</td>\n",
       "      <td>[AMC, WBD]</td>\n",
       "    </tr>\n",
       "    <tr>\n",
       "      <th>3608</th>\n",
       "      <td>2023-07-21</td>\n",
       "      <td>$KTOS to partner with shield AI, stock seeing ...</td>\n",
       "      <td>[AI, KTOS]</td>\n",
       "    </tr>\n",
       "    <tr>\n",
       "      <th>3625</th>\n",
       "      <td>2023-07-21</td>\n",
       "      <td>$TSLA $300 -&gt; $270 MINIMUM.. Cybertruck Produc...</td>\n",
       "      <td>[COOK, TSLA]</td>\n",
       "    </tr>\n",
       "  </tbody>\n",
       "</table>\n",
       "<p>97 rows × 3 columns</p>\n",
       "</div>"
      ],
      "text/plain": [
       "            date                                          Sentences  \\\n",
       "83    2023-03-16  DO NOT hold near-expiry Puts on any stock that...   \n",
       "111   2023-03-17  AI CEO ON GPT-4: THIS CAN GET “SUPER-DANGEROUS...   \n",
       "316   2023-03-20  $25.7K YOLO on AMD NVDA, my gf is out with Pow...   \n",
       "505   2023-03-22           Eggcellent DD - Cal-Maine Foods ($CALM).   \n",
       "626   2023-03-22           Eggcellent DD - Cal-Maine Foods ($CALM).   \n",
       "...          ...                                                ...   \n",
       "3491  2023-07-20  So with both ASML and TSM(C) earnings/calls co...   \n",
       "3561  2023-07-21  $TSLA Bulls Screamed GrEeN DaY after I called ...   \n",
       "3603  2023-07-21  Massive Box Office Weekend Incoming $AMC $WBD ...   \n",
       "3608  2023-07-21  $KTOS to partner with shield AI, stock seeing ...   \n",
       "3625  2023-07-21  $TSLA $300 -> $270 MINIMUM.. Cybertruck Produc...   \n",
       "\n",
       "              matches  \n",
       "83          [DO, YOU]  \n",
       "111     [AI, CAN, ON]  \n",
       "316       [AMD, NVDA]  \n",
       "505        [CALM, DD]  \n",
       "626        [CALM, DD]  \n",
       "...               ...  \n",
       "3491  [AI, ASML, TSM]  \n",
       "3561       [DD, TSLA]  \n",
       "3603       [AMC, WBD]  \n",
       "3608       [AI, KTOS]  \n",
       "3625     [COOK, TSLA]  \n",
       "\n",
       "[97 rows x 3 columns]"
      ]
     },
     "execution_count": 118,
     "metadata": {},
     "output_type": "execute_result"
    }
   ],
   "source": [
    "#print all the matches which has more than one match from tickers\n",
    "tickers[tickers['matches'].apply(lambda x: len(x) > 1)]\n",
    "\n",
    "\n"
   ]
  },
  {
   "cell_type": "code",
   "execution_count": 125,
   "metadata": {},
   "outputs": [],
   "source": [
    "#save the tickers dataframe into a csv file\n",
    "tickers.to_csv('tickers.csv', index=False)\n"
   ]
  },
  {
   "cell_type": "code",
   "execution_count": 128,
   "metadata": {},
   "outputs": [
    {
     "name": "stdout",
     "output_type": "stream",
     "text": [
      "          date                                            matches\n",
      "0   2023-03-16                {DWAC, BAC, ES, DO, YOU, GME, NVDA}\n",
      "1   2023-03-17                                      {AI, CAN, ON}\n",
      "2   2023-03-18       {PTVE, ALL, DO, ST, YOU, DD, NVDA, ZIM, UBS}\n",
      "3   2023-03-20                    {PACW, AMD, NVDA, DB, UBS, NOW}\n",
      "4   2023-03-21       {NKE, ALL, ES, ARE, DD, NVDA, TXN, UBS, NOW}\n",
      "5   2023-03-22  {AMD, ES, COIN, YOU, TLRY, GME, DD, NVDA, CALM...\n",
      "6   2023-03-23  {AMD, ES, DV, AI, YOU, GME, TLRY, NVDA, TSLA, ...\n",
      "7   2023-03-24    {BKNG, SNAP, DTE, ES, AI, META, YOU, NVDA, COF}\n",
      "8   2023-03-25  {ETN, SNAP, SOFI, SCHW, MSFT, ES, AI, META, FL...\n",
      "9   2023-03-27  {OUT, AVAV, MSFT, ATVI, TTWO, AI, ON, BY, DD, ...\n",
      "10  2023-04-03  {NVDA, SCHW, RSI, GO, FDS, KC, AI, WWE, YOU, B...\n",
      "11  2023-06-09  {AC, SPCE, BMBL, RH, TSLA, AAP, AR, NFLX, ADBE...\n",
      "12  2023-06-18  {CVNA, NVDA, AMD, INTC, SPCE, PYPL, BABA, DO, ...\n",
      "13  2023-06-19  {AMD, SPCE, AM, PYPL, BABA, DO, BUD, TSLA, PLT...\n",
      "14  2023-06-20  {AMD, SPCE, AM, BABA, DO, BUD, TSLA, PLTR, UBS...\n",
      "15  2023-06-21  {AMD, SPCE, PYPL, BABA, LOGI, RH, ASML, COF, N...\n",
      "16  2023-06-23  {LOGI, META, TSLA, COF, ASTS, RBLX, FDX, DD, N...\n",
      "17  2023-06-25  {TFIN, AMD, PDD, NDAQ, LOGI, META, COF, TSLA, ...\n",
      "18  2023-06-30  {SPCE, LILM, RH, IONQ, HES, ABCL, AMZN, NVO, C...\n",
      "19  2023-07-04  {AMD, PYPL, LILM, BABA, TROW, TSLA, RBLX, DAL,...\n",
      "20  2023-07-05  {AMD, RBLX, BMO, BABA, GRND, CPE, PENN, MSFT, ...\n",
      "21  2023-07-07  {BIIB, TROW, SAVA, SAVE, META, TSLA, SYNA, MAT...\n",
      "22  2023-07-08  {MAT, SAVE, TSLA, PTON, RUN, NVDA, SAVA, AMC, ...\n",
      "23  2023-07-09  {MAT, SAVE, PTON, RUN, MO, MSFT, ATVI, UL, FCF...\n",
      "24  2023-07-10  {SPCE, RSI, FCF, CRON, TROW, SAVE, META, BB, S...\n",
      "25  2023-07-13  {OC, PYPL, GOLD, VZ, BNS, AMZN, SAVE, META, TS...\n",
      "26  2023-07-15  {CVNA, TTD, AMD, TSM, PYPL, DAL, UPS, HOOD, AI...\n",
      "27  2023-07-16  {CVNA, AMD, PYPL, UPS, DO, AI, NFLX, DD, SAFE,...\n",
      "28  2023-07-17  {OC, DIS, DO, SAVA, TSLA, MAT, MARA, NCLH, DD,...\n",
      "29  2023-07-18  {PYPL, BUD, SAVE, META, TSLA, PLTR, TSM, YOU, ...\n",
      "30  2023-07-19  {PYPL, TSLA, LESL, PLTR, GO, LCID, BX, YOU, NV...\n",
      "31  2023-07-20  {CVNA, AMPX, SNAP, TSM, LCID, COOK, AI, RTX, G...\n",
      "32  2023-07-21  {CVNA, STX, AMPX, SNAP, AMC, WBD, HOOD, KTOS, ...\n"
     ]
    }
   ],
   "source": [
    "# Assuming you already have the matches_df DataFrame\n",
    "\n",
    "# Group by \"date\" and aggregate unique matches as a set\n",
    "unique_matches_per_date = tickers.groupby('date')['matches'].agg(lambda x: set(sum(x, []))).reset_index()\n",
    "\n",
    "# Print the result DataFrame\n",
    "print(unique_matches_per_date)\n",
    "\n"
   ]
  },
  {
   "cell_type": "code",
   "execution_count": 126,
   "metadata": {},
   "outputs": [
    {
     "name": "stdout",
     "output_type": "stream",
     "text": [
      "Duplicates removed successfully and saved to clean_hot.txt\n"
     ]
    }
   ],
   "source": [
    "def remove_duplicates(input_file, output_file):\n",
    "    try:\n",
    "        with open(input_file, 'r') as f:\n",
    "            sentences = f.readlines()\n",
    "\n",
    "        # Remove duplicates while preserving the order\n",
    "        unique_sentences = list(dict.fromkeys(sentences))\n",
    "\n",
    "        with open(output_file, 'w') as f:\n",
    "            f.writelines(unique_sentences)\n",
    "\n",
    "        print(\"Duplicates removed successfully and saved to\", output_file)\n",
    "    except FileNotFoundError:\n",
    "        print(\"File not found. Please check the input file path.\")\n",
    "    except Exception as e:\n",
    "        print(\"An error occurred:\", e)\n",
    "\n",
    "# Replace 'input_file.txt' and 'output_file.txt' with your file names\n",
    "input_file = 'hot.txt'\n",
    "output_file = 'clean_hot.txt'\n",
    "\n",
    "remove_duplicates(input_file, output_file)\n"
   ]
  },
  {
   "cell_type": "markdown",
   "metadata": {},
   "source": [
    "# Stocks"
   ]
  },
  {
   "cell_type": "markdown",
   "metadata": {},
   "source": [
    "## Installs"
   ]
  },
  {
   "cell_type": "code",
   "execution_count": 4,
   "metadata": {},
   "outputs": [
    {
     "name": "stdout",
     "output_type": "stream",
     "text": [
      "Collecting yfinance\n",
      "  Obtaining dependency information for yfinance from https://files.pythonhosted.org/packages/c8/97/20c8095d492859010867bdad1c92637e62e5b9308c5e45f0caac56e12e42/yfinance-0.2.24-py2.py3-none-any.whl.metadata\n",
      "  Downloading yfinance-0.2.24-py2.py3-none-any.whl.metadata (11 kB)\n",
      "Collecting pandas>=1.3.0 (from yfinance)\n",
      "  Obtaining dependency information for pandas>=1.3.0 from https://files.pythonhosted.org/packages/8f/bb/aea1fbeed5b474cb8634364718abe9030d7cc7a30bf51f40bd494bbc89a2/pandas-2.0.3-cp311-cp311-macosx_11_0_arm64.whl.metadata\n",
      "  Downloading pandas-2.0.3-cp311-cp311-macosx_11_0_arm64.whl.metadata (18 kB)\n",
      "Collecting numpy>=1.16.5 (from yfinance)\n",
      "  Obtaining dependency information for numpy>=1.16.5 from https://files.pythonhosted.org/packages/48/73/df07644e8fa1127a7985db70cf1d07123004e2dd7a3cf33e8b83297a775b/numpy-1.25.1-cp311-cp311-macosx_11_0_arm64.whl.metadata\n",
      "  Downloading numpy-1.25.1-cp311-cp311-macosx_11_0_arm64.whl.metadata (5.6 kB)\n",
      "Collecting requests>=2.26 (from yfinance)\n",
      "  Obtaining dependency information for requests>=2.26 from https://files.pythonhosted.org/packages/70/8e/0e2d847013cb52cd35b38c009bb167a1a26b2ce6cd6965bf26b47bc0bf44/requests-2.31.0-py3-none-any.whl.metadata\n",
      "  Downloading requests-2.31.0-py3-none-any.whl.metadata (4.6 kB)\n",
      "Collecting multitasking>=0.0.7 (from yfinance)\n",
      "  Using cached multitasking-0.0.11-py3-none-any.whl (8.5 kB)\n",
      "Collecting lxml>=4.9.1 (from yfinance)\n",
      "  Obtaining dependency information for lxml>=4.9.1 from https://files.pythonhosted.org/packages/d6/56/9d5cb3438143a5aebad59088ca392950d74a531e1b96d0959144370b3b59/lxml-4.9.3-cp311-cp311-macosx_11_0_universal2.whl.metadata\n",
      "  Downloading lxml-4.9.3-cp311-cp311-macosx_11_0_universal2.whl.metadata (3.8 kB)\n",
      "Collecting appdirs>=1.4.4 (from yfinance)\n",
      "  Using cached appdirs-1.4.4-py2.py3-none-any.whl (9.6 kB)\n",
      "Collecting pytz>=2022.5 (from yfinance)\n",
      "  Using cached pytz-2023.3-py2.py3-none-any.whl (502 kB)\n",
      "Collecting frozendict>=2.3.4 (from yfinance)\n",
      "  Downloading frozendict-2.3.8-py311-none-any.whl (14 kB)\n",
      "Collecting beautifulsoup4>=4.11.1 (from yfinance)\n",
      "  Using cached beautifulsoup4-4.12.2-py3-none-any.whl (142 kB)\n",
      "Collecting html5lib>=1.1 (from yfinance)\n",
      "  Using cached html5lib-1.1-py2.py3-none-any.whl (112 kB)\n",
      "Collecting soupsieve>1.2 (from beautifulsoup4>=4.11.1->yfinance)\n",
      "  Using cached soupsieve-2.4.1-py3-none-any.whl (36 kB)\n",
      "Requirement already satisfied: six>=1.9 in /opt/homebrew/anaconda3/envs/stocks/lib/python3.11/site-packages (from html5lib>=1.1->yfinance) (1.16.0)\n",
      "Collecting webencodings (from html5lib>=1.1->yfinance)\n",
      "  Using cached webencodings-0.5.1-py2.py3-none-any.whl (11 kB)\n",
      "Requirement already satisfied: python-dateutil>=2.8.2 in /opt/homebrew/anaconda3/envs/stocks/lib/python3.11/site-packages (from pandas>=1.3.0->yfinance) (2.8.2)\n",
      "Collecting tzdata>=2022.1 (from pandas>=1.3.0->yfinance)\n",
      "  Using cached tzdata-2023.3-py2.py3-none-any.whl (341 kB)\n",
      "Collecting charset-normalizer<4,>=2 (from requests>=2.26->yfinance)\n",
      "  Obtaining dependency information for charset-normalizer<4,>=2 from https://files.pythonhosted.org/packages/91/e6/8fa919fc84a106e9b04109de62bdf8526899e2754a64da66e1cd50ac1faa/charset_normalizer-3.2.0-cp311-cp311-macosx_11_0_arm64.whl.metadata\n",
      "  Downloading charset_normalizer-3.2.0-cp311-cp311-macosx_11_0_arm64.whl.metadata (31 kB)\n",
      "Collecting idna<4,>=2.5 (from requests>=2.26->yfinance)\n",
      "  Using cached idna-3.4-py3-none-any.whl (61 kB)\n",
      "Collecting urllib3<3,>=1.21.1 (from requests>=2.26->yfinance)\n",
      "  Obtaining dependency information for urllib3<3,>=1.21.1 from https://files.pythonhosted.org/packages/8a/03/ad9306a50d05c166e3456fe810f33cee2b8b2a7a6818ec5d4908c4ec6b36/urllib3-2.0.3-py3-none-any.whl.metadata\n",
      "  Downloading urllib3-2.0.3-py3-none-any.whl.metadata (6.6 kB)\n",
      "Collecting certifi>=2017.4.17 (from requests>=2.26->yfinance)\n",
      "  Using cached certifi-2023.5.7-py3-none-any.whl (156 kB)\n",
      "Using cached yfinance-0.2.24-py2.py3-none-any.whl (63 kB)\n",
      "Downloading lxml-4.9.3-cp311-cp311-macosx_11_0_universal2.whl (8.6 MB)\n",
      "\u001b[2K   \u001b[90m━━━━━━━━━━━━━━━━━━━━━━━━━━━━━━━━━━━━━━━━\u001b[0m \u001b[32m8.6/8.6 MB\u001b[0m \u001b[31m2.3 MB/s\u001b[0m eta \u001b[36m0:00:00\u001b[0m00:01\u001b[0m00:01\u001b[0m\n",
      "\u001b[?25hDownloading numpy-1.25.1-cp311-cp311-macosx_11_0_arm64.whl (14.0 MB)\n",
      "\u001b[2K   \u001b[90m━━━━━━━━━━━━━━━━━━━━━━━━━━━━━━━━━━━━━━━━\u001b[0m \u001b[32m14.0/14.0 MB\u001b[0m \u001b[31m2.4 MB/s\u001b[0m eta \u001b[36m0:00:00\u001b[0m00:01\u001b[0m00:01\u001b[0m\n",
      "\u001b[?25hDownloading pandas-2.0.3-cp311-cp311-macosx_11_0_arm64.whl (10.7 MB)\n",
      "\u001b[2K   \u001b[90m━━━━━━━━━━━━━━━━━━━━━━━━━━━━━━━━━━━━━━━━\u001b[0m \u001b[32m10.7/10.7 MB\u001b[0m \u001b[31m2.8 MB/s\u001b[0m eta \u001b[36m0:00:00\u001b[0m00:01\u001b[0m00:01\u001b[0m\n",
      "\u001b[?25hUsing cached requests-2.31.0-py3-none-any.whl (62 kB)\n",
      "Downloading charset_normalizer-3.2.0-cp311-cp311-macosx_11_0_arm64.whl (122 kB)\n",
      "\u001b[2K   \u001b[90m━━━━━━━━━━━━━━━━━━━━━━━━━━━━━━━━━━━━━━━━\u001b[0m \u001b[32m122.8/122.8 kB\u001b[0m \u001b[31m3.5 MB/s\u001b[0m eta \u001b[36m0:00:00\u001b[0m\n",
      "\u001b[?25hUsing cached urllib3-2.0.3-py3-none-any.whl (123 kB)\n",
      "Installing collected packages: webencodings, pytz, multitasking, appdirs, urllib3, tzdata, soupsieve, numpy, lxml, idna, html5lib, frozendict, charset-normalizer, certifi, requests, pandas, beautifulsoup4, yfinance\n",
      "Successfully installed appdirs-1.4.4 beautifulsoup4-4.12.2 certifi-2023.5.7 charset-normalizer-3.2.0 frozendict-2.3.8 html5lib-1.1 idna-3.4 lxml-4.9.3 multitasking-0.0.11 numpy-1.25.1 pandas-2.0.3 pytz-2023.3 requests-2.31.0 soupsieve-2.4.1 tzdata-2023.3 urllib3-2.0.3 webencodings-0.5.1 yfinance-0.2.24\n",
      "Note: you may need to restart the kernel to use updated packages.\n"
     ]
    }
   ],
   "source": [
    "pip install yfinance"
   ]
  },
  {
   "cell_type": "code",
   "execution_count": 48,
   "metadata": {},
   "outputs": [
    {
     "name": "stdout",
     "output_type": "stream",
     "text": [
      "Collecting matplotlib\n",
      "  Obtaining dependency information for matplotlib from https://files.pythonhosted.org/packages/f6/22/9c31044ff7339c63727a135872e5cb59564f11625372a81c3eebf148f4af/matplotlib-3.7.2-cp311-cp311-macosx_11_0_arm64.whl.metadata\n",
      "  Downloading matplotlib-3.7.2-cp311-cp311-macosx_11_0_arm64.whl.metadata (5.6 kB)\n",
      "Collecting contourpy>=1.0.1 (from matplotlib)\n",
      "  Obtaining dependency information for contourpy>=1.0.1 from https://files.pythonhosted.org/packages/88/e3/696e96ee197b1f60242d12b215332af9fc1961c81990c8b5630b89b34ce6/contourpy-1.1.0-cp311-cp311-macosx_11_0_arm64.whl.metadata\n",
      "  Downloading contourpy-1.1.0-cp311-cp311-macosx_11_0_arm64.whl.metadata (5.7 kB)\n",
      "Collecting cycler>=0.10 (from matplotlib)\n",
      "  Using cached cycler-0.11.0-py3-none-any.whl (6.4 kB)\n",
      "Collecting fonttools>=4.22.0 (from matplotlib)\n",
      "  Obtaining dependency information for fonttools>=4.22.0 from https://files.pythonhosted.org/packages/e3/a6/5e8c6dfd239fe281b1aa9408a7d681e82182295fb87d05e086e1e2fd376c/fonttools-4.41.0-cp311-cp311-macosx_10_9_universal2.whl.metadata\n",
      "  Downloading fonttools-4.41.0-cp311-cp311-macosx_10_9_universal2.whl.metadata (149 kB)\n",
      "\u001b[2K     \u001b[90m━━━━━━━━━━━━━━━━━━━━━━━━━━━━━━━━━━━━━━━\u001b[0m \u001b[32m149.4/149.4 kB\u001b[0m \u001b[31m2.9 MB/s\u001b[0m eta \u001b[36m0:00:00\u001b[0ma \u001b[36m0:00:01\u001b[0m\n",
      "\u001b[?25hCollecting kiwisolver>=1.0.1 (from matplotlib)\n",
      "  Using cached kiwisolver-1.4.4-cp311-cp311-macosx_11_0_arm64.whl (63 kB)\n",
      "Requirement already satisfied: numpy>=1.20 in /opt/homebrew/anaconda3/envs/stocks/lib/python3.11/site-packages (from matplotlib) (1.25.1)\n",
      "Requirement already satisfied: packaging>=20.0 in /opt/homebrew/anaconda3/envs/stocks/lib/python3.11/site-packages (from matplotlib) (23.1)\n",
      "Collecting pillow>=6.2.0 (from matplotlib)\n",
      "  Obtaining dependency information for pillow>=6.2.0 from https://files.pythonhosted.org/packages/b7/ad/71982d18fd28ed1f93c31b8648f980ebdbdbcf7d8c9c9b4af59290914ce9/Pillow-10.0.0-cp311-cp311-macosx_11_0_arm64.whl.metadata\n",
      "  Downloading Pillow-10.0.0-cp311-cp311-macosx_11_0_arm64.whl.metadata (9.5 kB)\n",
      "Collecting pyparsing<3.1,>=2.3.1 (from matplotlib)\n",
      "  Using cached pyparsing-3.0.9-py3-none-any.whl (98 kB)\n",
      "Requirement already satisfied: python-dateutil>=2.7 in /opt/homebrew/anaconda3/envs/stocks/lib/python3.11/site-packages (from matplotlib) (2.8.2)\n",
      "Requirement already satisfied: six>=1.5 in /opt/homebrew/anaconda3/envs/stocks/lib/python3.11/site-packages (from python-dateutil>=2.7->matplotlib) (1.16.0)\n",
      "Downloading matplotlib-3.7.2-cp311-cp311-macosx_11_0_arm64.whl (7.3 MB)\n",
      "\u001b[2K   \u001b[90m━━━━━━━━━━━━━━━━━━━━━━━━━━━━━━━━━━━━━━━━\u001b[0m \u001b[32m7.3/7.3 MB\u001b[0m \u001b[31m2.0 MB/s\u001b[0m eta \u001b[36m0:00:00\u001b[0m00:01\u001b[0m00:01\u001b[0m\n",
      "\u001b[?25hDownloading contourpy-1.1.0-cp311-cp311-macosx_11_0_arm64.whl (229 kB)\n",
      "\u001b[2K   \u001b[90m━━━━━━━━━━━━━━━━━━━━━━━━━━━━━━━━━━━━━━━━\u001b[0m \u001b[32m229.3/229.3 kB\u001b[0m \u001b[31m1.6 MB/s\u001b[0m eta \u001b[36m0:00:00\u001b[0ma \u001b[36m0:00:01\u001b[0m\n",
      "\u001b[?25hDownloading fonttools-4.41.0-cp311-cp311-macosx_10_9_universal2.whl (2.5 MB)\n",
      "\u001b[2K   \u001b[90m━━━━━━━━━━━━━━━━━━━━━━━━━━━━━━━━━━━━━━━━\u001b[0m \u001b[32m2.5/2.5 MB\u001b[0m \u001b[31m1.6 MB/s\u001b[0m eta \u001b[36m0:00:00\u001b[0m00:01\u001b[0m00:01\u001b[0m\n",
      "\u001b[?25hDownloading Pillow-10.0.0-cp311-cp311-macosx_11_0_arm64.whl (3.1 MB)\n",
      "\u001b[2K   \u001b[90m━━━━━━━━━━━━━━━━━━━━━━━━━━━━━━━━━━━━━━━━\u001b[0m \u001b[32m3.1/3.1 MB\u001b[0m \u001b[31m1.2 MB/s\u001b[0m eta \u001b[36m0:00:00\u001b[0m00:01\u001b[0m00:01\u001b[0m\n",
      "\u001b[?25hInstalling collected packages: pyparsing, pillow, kiwisolver, fonttools, cycler, contourpy, matplotlib\n",
      "Successfully installed contourpy-1.1.0 cycler-0.11.0 fonttools-4.41.0 kiwisolver-1.4.4 matplotlib-3.7.2 pillow-10.0.0 pyparsing-3.0.9\n",
      "Note: you may need to restart the kernel to use updated packages.\n"
     ]
    }
   ],
   "source": [
    "pip install matplotlib"
   ]
  },
  {
   "cell_type": "markdown",
   "metadata": {},
   "source": [
    "## Step 5 - stock printing "
   ]
  },
  {
   "cell_type": "code",
   "execution_count": 9,
   "metadata": {},
   "outputs": [],
   "source": [
    "import yfinance as yf\n",
    "import matplotlib.pyplot as plt\n"
   ]
  },
  {
   "cell_type": "code",
   "execution_count": 10,
   "metadata": {},
   "outputs": [
    {
     "data": {
      "text/plain": [
       "<Axes: title={'center': \"NVDA's stock price\"}, xlabel='Date'>"
      ]
     },
     "execution_count": 10,
     "metadata": {},
     "output_type": "execute_result"
    },
    {
     "data": {
      "image/png": "[encoded data removed]",
      "text/plain": [
       "<Figure size 640x480 with 1 Axes>"
      ]
     },
     "metadata": {},
     "output_type": "display_data"
    }
   ],
   "source": [
    "#get stock data on NVDA for the months of march 2023 to july 2023\n",
    "nvda = yf.download('NVDA', start='2023-03-01', end='2023-07-31', progress=False)\n",
    "\n",
    "nvda.head()\n",
    "\n",
    "#plot the closing price of NVDA\n",
    "nvda['Close'].plot(title=\"NVDA's stock price\")\n",
    "\n"
   ]
  },
  {
   "cell_type": "code",
   "execution_count": 11,
   "metadata": {},
   "outputs": [
    {
     "data": {
      "text/plain": [
       "<Axes: title={'center': \"AAPL's stock price\"}, xlabel='Date'>"
      ]
     },
     "execution_count": 11,
     "metadata": {},
     "output_type": "execute_result"
    },
    {
     "data": {
      "image/png": "[encoded data removed]",
      "text/plain": [
       "<Figure size 640x480 with 1 Axes>"
      ]
     },
     "metadata": {},
     "output_type": "display_data"
    }
   ],
   "source": [
    "#get stock data on NVDA for the months of march 2023 to july 2023\n",
    "aapl = yf.download('AAPL', start='2023-03-01', end='2023-07-31', progress=False)\n",
    "\n",
    "aapl.head()\n",
    "\n",
    "#plot the closing price of NVDA\n",
    "aapl['Close'].plot(title=\"AAPL's stock price\")\n"
   ]
  },
  {
   "cell_type": "code",
   "execution_count": 61,
   "metadata": {},
   "outputs": [
    {
     "data": {
      "text/plain": [
       "Date\n",
       "2023-03-16    3960.280029\n",
       "2023-03-17    3916.639893\n",
       "Name: Close, dtype: float64"
      ]
     },
     "execution_count": 61,
     "metadata": {},
     "output_type": "execute_result"
    }
   ],
   "source": [
    "#get the price of S&P500 from yfinance  \n",
    "sp500 = yf.download('^GSPC', start='2023-03-16', end='2023-03-18', progress=False)\n",
    "sp500['Close']\n"
   ]
  },
  {
   "cell_type": "markdown",
   "metadata": {},
   "source": [
    "## Previous dates and next dates \n",
    "Working, but need to get the price of the next date\n"
   ]
  },
  {
   "cell_type": "code",
   "execution_count": 12,
   "metadata": {},
   "outputs": [],
   "source": [
    "from datetime import datetime, timedelta\n",
    "\n",
    "def get_previous_date(input_date_str):\n",
    "    # Convert the input date string to a datetime object\n",
    "    input_date = datetime.strptime(input_date_str, \"%Y-%m-%d\")\n",
    "    \n",
    "    # Calculate the previous date by subtracting one day using timedelta\n",
    "    previous_date = input_date - timedelta(days=1)\n",
    "    \n",
    "    # Convert the previous date back to string format and return it\n",
    "    return previous_date.strftime(\"%Y-%m-%d\")\n",
    "\n",
    "def get_next_date(input_date_str):\n",
    "    # Convert the input date string to a datetime object\n",
    "    input_date = datetime.strptime(input_date_str, \"%Y-%m-%d\")\n",
    "    \n",
    "    # Calculate the next date by adding one day using timedelta\n",
    "    next_date = input_date + timedelta(days=1)\n",
    "    \n",
    "    # Convert the next date back to string format and return it\n",
    "    return next_date.strftime(\"%Y-%m-%d\")\n"
   ]
  },
  {
   "cell_type": "code",
   "execution_count": 20,
   "metadata": {},
   "outputs": [
    {
     "data": {
      "text/plain": [
       "'2023-03-17'"
      ]
     },
     "execution_count": 20,
     "metadata": {},
     "output_type": "execute_result"
    }
   ],
   "source": [
    "get_previous_date(dates[0])\n",
    "get_next_date(dates[0])\n"
   ]
  },
  {
   "cell_type": "code",
   "execution_count": 92,
   "metadata": {},
   "outputs": [
    {
     "data": {
      "text/plain": [
       "'2023-03-20'"
      ]
     },
     "execution_count": 92,
     "metadata": {},
     "output_type": "execute_result"
    }
   ],
   "source": [
    "dates[3]"
   ]
  },
  {
   "cell_type": "code",
   "execution_count": 22,
   "metadata": {},
   "outputs": [
    {
     "name": "stdout",
     "output_type": "stream",
     "text": [
      "[*********************100%***********************]  1 of 1 completed\n",
      "                  Open        High         Low       Close   Adj Close  \\\n",
      "Date                                                                     \n",
      "2023-03-16  152.160004  156.460007  151.639999  155.850006  155.634735   \n",
      "2023-03-17  156.080002  156.740005  154.279999  155.000000  154.785904   \n",
      "2023-03-20  155.070007  157.820007  154.149994  157.399994  157.182587   \n",
      "\n",
      "              Volume  \n",
      "Date                  \n",
      "2023-03-16  76161100  \n",
      "2023-03-17  98944600  \n",
      "2023-03-20  73641400  \n"
     ]
    }
   ],
   "source": [
    "import yfinance as yf\n",
    "from datetime import datetime, timedelta\n",
    "\n",
    "def download_stock_data(sym, date):\n",
    "    # Convert the input date string to a datetime object\n",
    "    input_date = datetime.strptime(date, \"%Y-%m-%d\")\n",
    "    \n",
    "    # Calculate the date 5 days ahead using timedelta\n",
    "    day_5 = input_date + timedelta(days=5)\n",
    "    day_5_str = day_5.strftime(\"%Y-%m-%d\")\n",
    "    \n",
    "    # Fetch stock data using yfinance.download for the specified symbol and date range\n",
    "    data = yf.download(sym, start=date, end=day_5_str)\n",
    "    \n",
    "    return data\n",
    "\n",
    "# Example usage:\n",
    "symbol = \"AAPL\"\n",
    "start_date = \"2023-03-16\"\n",
    "stock_data = download_stock_data(symbol, start_date)\n",
    "print(stock_data)\n"
   ]
  },
  {
   "cell_type": "code",
   "execution_count": 27,
   "metadata": {},
   "outputs": [],
   "source": [
    "import matplotlib.pyplot as plt\n",
    "def plot_stock_closing_price(data):\n",
    "    # Plot the closing price\n",
    "    plt.figure(figsize=(10, 6))\n",
    "    plt.plot(data.index, data['Close'], label='Closing Price', color='blue')\n",
    "    plt.xlabel('Date')\n",
    "    plt.ylabel('Closing Price')\n",
    "    plt.title('Closing Price of Stock')\n",
    "    plt.legend()\n",
    "    plt.grid(True)\n",
    "    plt.show()"
   ]
  },
  {
   "cell_type": "code",
   "execution_count": 29,
   "metadata": {},
   "outputs": [
    {
     "data": {
      "image/png": "[encoded data removed]",
      "text/plain": [
       "<Figure size 1000x600 with 1 Axes>"
      ]
     },
     "metadata": {},
     "output_type": "display_data"
    }
   ],
   "source": [
    "plot_stock_closing_price(stock_data)"
   ]
  },
  {
   "cell_type": "markdown",
   "metadata": {},
   "source": [
    "# Price history"
   ]
  },
  {
   "cell_type": "code",
   "execution_count": 151,
   "metadata": {},
   "outputs": [
    {
     "name": "stdout",
     "output_type": "stream",
     "text": [
      "Start Date:  2023-07-11 00:00:00\n",
      "End Date:  2023-07-18 00:00:00\n",
      "[*********************100%***********************]  1 of 1 completed\n",
      "                  Open        High         Low       Close   Adj Close  \\\n",
      "Date                                                                     \n",
      "2023-07-11  189.160004  189.300003  186.600006  188.080002  188.080002   \n",
      "2023-07-12  189.679993  191.699997  188.470001  189.770004  189.770004   \n",
      "2023-07-13  190.500000  191.190002  189.779999  190.539993  190.539993   \n",
      "2023-07-14  190.229996  191.179993  189.630005  190.690002  190.690002   \n",
      "2023-07-17  191.899994  194.320007  191.809998  193.990005  193.990005   \n",
      "\n",
      "              Volume  \n",
      "Date                  \n",
      "2023-07-11  46638100  \n",
      "2023-07-12  60750200  \n",
      "2023-07-13  41342300  \n",
      "2023-07-14  41573900  \n",
      "2023-07-17  50520200  \n",
      "Length:  5\n",
      "Adjusted Closing Prices: [188.0800018310547, 189.77000427246094, 190.5399932861328, 190.69000244140625, 193.99000549316406]\n"
     ]
    }
   ],
   "source": [
    "import yfinance as yf\n",
    "import pandas as pd\n",
    "\n",
    "\n",
    "def download_stock_data(date, ticker):\n",
    "    # Calculate the start and end dates for data download\n",
    "    start_date = date - pd.Timedelta(days=5)\n",
    "    end_date = date + pd.Timedelta(days=2)\n",
    "\n",
    "    if start_date.weekday() == 5:  # Saturday\n",
    "        start_date -= pd.Timedelta(days=1)  # Adjust to previous Friday\n",
    "    elif start_date.weekday() == 6:  # Sunday\n",
    "        start_date -= pd.Timedelta(days=2)  # Adjust to previous Friday\n",
    "\n",
    "    if end_date.weekday() == 5:  # Saturday\n",
    "        end_date += pd.Timedelta(days=3)  # Adjust to next Monday\n",
    "    elif end_date.weekday() == 6:  # Sunday\n",
    "        end_date += pd.Timedelta(days=2)  # Adjust to next Monday\n",
    "\n",
    "    print(\"Start Date: \", start_date)\n",
    "    print(\"End Date: \", end_date)\n",
    "    # Download stock data from Yahoo Finance\n",
    "    stock_data = yf.download(ticker, start=start_date, end=end_date)\n",
    "    print(stock_data)\n",
    "    print(\"Length: \",len(stock_data))\n",
    "\n",
    "    # Extract closing prices for each day\n",
    "    closing_prices = stock_data['Close'].tolist()\n",
    "\n",
    "    return closing_prices\n",
    "\n",
    "# Example usage:\n",
    "date_input = pd.to_datetime('2023-07-16')  # Replace this with your desired date\n",
    "ticker_input = 'AAPL'  # Replace this with your desired stock ticker\n",
    "\n",
    "# Call the download_stock_data function to get adjusted closing prices\n",
    "closing_prices = download_stock_data(date_input, ticker_input)\n",
    "\n",
    "print(\"Adjusted Closing Prices:\", closing_prices)\n"
   ]
  },
  {
   "cell_type": "code",
   "execution_count": 166,
   "metadata": {},
   "outputs": [
    {
     "name": "stdout",
     "output_type": "stream",
     "text": [
      "[*********************100%***********************]  1 of 1 completed\n"
     ]
    }
   ],
   "source": [
    "start_date = pd.to_datetime('2023-03-16')\n",
    "end_date = pd.to_datetime('2023-08-02')\n",
    "#ticker for S&P 500 from yfinance\n",
    "ticker = 'TSLA'\n",
    "\n",
    "stock_data = yf.download(ticker, start=start_date, end=end_date)"
   ]
  },
  {
   "cell_type": "code",
   "execution_count": 167,
   "metadata": {},
   "outputs": [],
   "source": [
    "#write the stock data to a csv file in the price_data folder\n",
    "stock_data.to_csv('price_data/TSLA.csv')"
   ]
  },
  {
   "cell_type": "code",
   "execution_count": 160,
   "metadata": {},
   "outputs": [],
   "source": [
    "price_history = pd.DataFrame({\n",
    "    'Date': [],\n",
    "    'Ticker': [],\n",
    "    'T_5': [],\n",
    "    'T_4': [],\n",
    "    'T_3': [],\n",
    "    'T_2': [],\n",
    "    'T_1': [],\n",
    "    'Price': [],\n",
    "    'P_1': [],\n",
    "})"
   ]
  },
  {
   "cell_type": "code",
   "execution_count": 185,
   "metadata": {},
   "outputs": [],
   "source": [
    "#read the csv file\n",
    "stock_read = pd.read_csv('price_data/NVDA.csv')\n",
    "\n"
   ]
  },
  {
   "cell_type": "code",
   "execution_count": 186,
   "metadata": {},
   "outputs": [
    {
     "data": {
      "text/html": [
       "<div>\n",
       "<style scoped>\n",
       "    .dataframe tbody tr th:only-of-type {\n",
       "        vertical-align: middle;\n",
       "    }\n",
       "\n",
       "    .dataframe tbody tr th {\n",
       "        vertical-align: top;\n",
       "    }\n",
       "\n",
       "    .dataframe thead th {\n",
       "        text-align: right;\n",
       "    }\n",
       "</style>\n",
       "<table border=\"1\" class=\"dataframe\">\n",
       "  <thead>\n",
       "    <tr style=\"text-align: right;\">\n",
       "      <th></th>\n",
       "      <th>Date</th>\n",
       "      <th>Open</th>\n",
       "      <th>High</th>\n",
       "      <th>Low</th>\n",
       "      <th>Close</th>\n",
       "      <th>Adj Close</th>\n",
       "      <th>Volume</th>\n",
       "    </tr>\n",
       "  </thead>\n",
       "  <tbody>\n",
       "    <tr>\n",
       "      <th>0</th>\n",
       "      <td>2023-03-16</td>\n",
       "      <td>240.270004</td>\n",
       "      <td>255.880005</td>\n",
       "      <td>238.940002</td>\n",
       "      <td>255.410004</td>\n",
       "      <td>255.383575</td>\n",
       "      <td>58325300</td>\n",
       "    </tr>\n",
       "    <tr>\n",
       "      <th>1</th>\n",
       "      <td>2023-03-17</td>\n",
       "      <td>259.820007</td>\n",
       "      <td>263.989990</td>\n",
       "      <td>256.679993</td>\n",
       "      <td>257.250000</td>\n",
       "      <td>257.223389</td>\n",
       "      <td>84854700</td>\n",
       "    </tr>\n",
       "    <tr>\n",
       "      <th>2</th>\n",
       "      <td>2023-03-20</td>\n",
       "      <td>256.149994</td>\n",
       "      <td>260.239990</td>\n",
       "      <td>251.300003</td>\n",
       "      <td>259.000000</td>\n",
       "      <td>258.973206</td>\n",
       "      <td>43274700</td>\n",
       "    </tr>\n",
       "    <tr>\n",
       "      <th>3</th>\n",
       "      <td>2023-03-21</td>\n",
       "      <td>261.799988</td>\n",
       "      <td>263.920013</td>\n",
       "      <td>253.809998</td>\n",
       "      <td>261.989990</td>\n",
       "      <td>261.962891</td>\n",
       "      <td>54740800</td>\n",
       "    </tr>\n",
       "    <tr>\n",
       "      <th>4</th>\n",
       "      <td>2023-03-22</td>\n",
       "      <td>264.250000</td>\n",
       "      <td>275.890015</td>\n",
       "      <td>262.369995</td>\n",
       "      <td>264.679993</td>\n",
       "      <td>264.652618</td>\n",
       "      <td>79729500</td>\n",
       "    </tr>\n",
       "  </tbody>\n",
       "</table>\n",
       "</div>"
      ],
      "text/plain": [
       "         Date        Open        High         Low       Close   Adj Close  \\\n",
       "0  2023-03-16  240.270004  255.880005  238.940002  255.410004  255.383575   \n",
       "1  2023-03-17  259.820007  263.989990  256.679993  257.250000  257.223389   \n",
       "2  2023-03-20  256.149994  260.239990  251.300003  259.000000  258.973206   \n",
       "3  2023-03-21  261.799988  263.920013  253.809998  261.989990  261.962891   \n",
       "4  2023-03-22  264.250000  275.890015  262.369995  264.679993  264.652618   \n",
       "\n",
       "     Volume  \n",
       "0  58325300  \n",
       "1  84854700  \n",
       "2  43274700  \n",
       "3  54740800  \n",
       "4  79729500  "
      ]
     },
     "execution_count": 186,
     "metadata": {},
     "output_type": "execute_result"
    }
   ],
   "source": [
    "stock_read.head()\n"
   ]
  },
  {
   "cell_type": "code",
   "execution_count": 188,
   "metadata": {},
   "outputs": [
    {
     "name": "stdout",
     "output_type": "stream",
     "text": [
      "93\n",
      "                  Date Ticker         T_5         T_4         T_3         T_2  \\\n",
      "0  2023-07-31 00:00:00   TSLA  165.080002  162.550003  160.669998  153.750000   \n",
      "1  2023-07-31 00:00:00   TSLA  165.080002  162.550003  160.669998  153.750000   \n",
      "2           2023-07-31   TSLA  165.080002  162.550003  160.669998  153.750000   \n",
      "3           2023-07-31   NVDA  271.190002  270.420013  262.410004  269.559998   \n",
      "4           2023-07-31   NVDA  446.119995  456.790009  454.519989  459.000000   \n",
      "\n",
      "          T_1       Price         P_1  \n",
      "0  160.190002  164.309998  161.830002  \n",
      "1  160.190002  164.309998  161.830002  \n",
      "2  160.190002  164.309998  161.830002  \n",
      "3  272.260010  277.489990  289.100006  \n",
      "4  467.500000  467.290009  465.070007  \n"
     ]
    }
   ],
   "source": [
    "date = '2023-07-31'  # Replace this with your desired date\n",
    "ticker = 'NVDA'  # Replace this with your desired stock ticker\n",
    "\n",
    "# Get the index of the date in stock_read DataFrame\n",
    "date_index = stock_read[stock_read['Date'] == date].index[0]\n",
    "print(date_index)\n",
    "# Get the closing prices of 5 previous rows and one row ahead\n",
    "closing_prices = stock_read.loc[date_index - 5: date_index + 1, 'Close'].tolist()\n",
    "\n",
    "# Create a DataFrame with the price history data\n",
    "price_history_data = {\n",
    "    'Date': [date],\n",
    "    'Ticker': [ticker],\n",
    "    'T_5': [closing_prices[0]],\n",
    "    'T_4': [closing_prices[1]],\n",
    "    'T_3': [closing_prices[2]],\n",
    "    'T_2': [closing_prices[3]],\n",
    "    'T_1': [closing_prices[4]],\n",
    "    'Price': [closing_prices[5]],\n",
    "    'P_1': [closing_prices[6]],\n",
    "}\n",
    "price_history_df = pd.DataFrame(price_history_data)\n",
    "\n",
    "# Concatenate the price_history_df with the existing price_history DataFrame\n",
    "price_history = pd.concat([price_history, price_history_df], ignore_index=True)\n",
    "\n",
    "print(price_history)"
   ]
  },
  {
   "cell_type": "markdown",
   "metadata": {},
   "source": [
    "# Make previous cell a function"
   ]
  },
  {
   "cell_type": "markdown",
   "metadata": {},
   "source": [
    "# Sentiment"
   ]
  },
  {
   "cell_type": "markdown",
   "metadata": {},
   "source": [
    "## install transformers"
   ]
  },
  {
   "cell_type": "code",
   "execution_count": 1,
   "metadata": {},
   "outputs": [
    {
     "name": "stdout",
     "output_type": "stream",
     "text": [
      "Collecting transformers\n",
      "  Obtaining dependency information for transformers from https://files.pythonhosted.org/packages/21/02/ae8e595f45b6c8edee07913892b3b41f5f5f273962ad98851dc6a564bbb9/transformers-4.31.0-py3-none-any.whl.metadata\n",
      "  Downloading transformers-4.31.0-py3-none-any.whl.metadata (116 kB)\n",
      "\u001b[2K     \u001b[90m━━━━━━━━━━━━━━━━━━━━━━━━━━━━━━━━━━━━━━━\u001b[0m \u001b[32m116.9/116.9 kB\u001b[0m \u001b[31m5.5 MB/s\u001b[0m eta \u001b[36m0:00:00\u001b[0m\n",
      "\u001b[?25hCollecting filelock (from transformers)\n",
      "  Obtaining dependency information for filelock from https://files.pythonhosted.org/packages/00/45/ec3407adf6f6b5bf867a4462b2b0af27597a26bd3cd6e2534cb6ab029938/filelock-3.12.2-py3-none-any.whl.metadata\n",
      "  Downloading filelock-3.12.2-py3-none-any.whl.metadata (2.7 kB)\n",
      "Collecting huggingface-hub<1.0,>=0.14.1 (from transformers)\n",
      "  Obtaining dependency information for huggingface-hub<1.0,>=0.14.1 from https://files.pythonhosted.org/packages/7f/c4/adcbe9a696c135578cabcbdd7331332daad4d49b7c43688bc2d36b3a47d2/huggingface_hub-0.16.4-py3-none-any.whl.metadata\n",
      "  Downloading huggingface_hub-0.16.4-py3-none-any.whl.metadata (12 kB)\n",
      "Requirement already satisfied: numpy>=1.17 in /opt/homebrew/anaconda3/envs/stocks/lib/python3.11/site-packages (from transformers) (1.25.1)\n",
      "Requirement already satisfied: packaging>=20.0 in /opt/homebrew/anaconda3/envs/stocks/lib/python3.11/site-packages (from transformers) (23.1)\n",
      "Collecting pyyaml>=5.1 (from transformers)\n",
      "  Obtaining dependency information for pyyaml>=5.1 from https://files.pythonhosted.org/packages/28/09/55f715ddbf95a054b764b547f617e22f1d5e45d83905660e9a088078fe67/PyYAML-6.0.1-cp311-cp311-macosx_11_0_arm64.whl.metadata\n",
      "  Downloading PyYAML-6.0.1-cp311-cp311-macosx_11_0_arm64.whl.metadata (2.1 kB)\n",
      "Collecting regex!=2019.12.17 (from transformers)\n",
      "  Obtaining dependency information for regex!=2019.12.17 from https://files.pythonhosted.org/packages/f8/bc/01e6a5597904147d13c1a6dc16ec334b73cddb190b6b8f05fca2c0bfbe89/regex-2023.6.3-cp311-cp311-macosx_11_0_arm64.whl.metadata\n",
      "  Downloading regex-2023.6.3-cp311-cp311-macosx_11_0_arm64.whl.metadata (40 kB)\n",
      "\u001b[2K     \u001b[90m━━━━━━━━━━━━━━━━━━━━━━━━━━━━━━━━━━━━━━━━\u001b[0m \u001b[32m40.9/40.9 kB\u001b[0m \u001b[31m6.7 MB/s\u001b[0m eta \u001b[36m0:00:00\u001b[0m\n",
      "\u001b[?25hRequirement already satisfied: requests in /opt/homebrew/anaconda3/envs/stocks/lib/python3.11/site-packages (from transformers) (2.31.0)\n",
      "Collecting tokenizers!=0.11.3,<0.14,>=0.11.1 (from transformers)\n",
      "  Downloading tokenizers-0.13.3-cp311-cp311-macosx_12_0_arm64.whl (3.9 MB)\n",
      "\u001b[2K     \u001b[90m━━━━━━━━━━━━━━━━━━━━━━━━━━━━━━━━━━━━━━━━\u001b[0m \u001b[32m3.9/3.9 MB\u001b[0m \u001b[31m15.3 MB/s\u001b[0m eta \u001b[36m0:00:00\u001b[0ma \u001b[36m0:00:01\u001b[0m\n",
      "\u001b[?25hCollecting safetensors>=0.3.1 (from transformers)\n",
      "  Downloading safetensors-0.3.1-cp311-cp311-macosx_12_0_arm64.whl (401 kB)\n",
      "\u001b[2K     \u001b[90m━━━━━━━━━━━━━━━━━━━━━━━━━━━━━━━━━━━━━━\u001b[0m \u001b[32m401.4/401.4 kB\u001b[0m \u001b[31m12.0 MB/s\u001b[0m eta \u001b[36m0:00:00\u001b[0m\n",
      "\u001b[?25hCollecting tqdm>=4.27 (from transformers)\n",
      "  Using cached tqdm-4.65.0-py3-none-any.whl (77 kB)\n",
      "Collecting fsspec (from huggingface-hub<1.0,>=0.14.1->transformers)\n",
      "  Obtaining dependency information for fsspec from https://files.pythonhosted.org/packages/e3/bd/4c0a4619494188a9db5d77e2100ab7d544a42e76b2447869d8e124e981d8/fsspec-2023.6.0-py3-none-any.whl.metadata\n",
      "  Downloading fsspec-2023.6.0-py3-none-any.whl.metadata (6.7 kB)\n",
      "Requirement already satisfied: typing-extensions>=3.7.4.3 in /opt/homebrew/anaconda3/envs/stocks/lib/python3.11/site-packages (from huggingface-hub<1.0,>=0.14.1->transformers) (4.7.1)\n",
      "Requirement already satisfied: charset-normalizer<4,>=2 in /opt/homebrew/anaconda3/envs/stocks/lib/python3.11/site-packages (from requests->transformers) (3.2.0)\n",
      "Requirement already satisfied: idna<4,>=2.5 in /opt/homebrew/anaconda3/envs/stocks/lib/python3.11/site-packages (from requests->transformers) (3.4)\n",
      "Requirement already satisfied: urllib3<3,>=1.21.1 in /opt/homebrew/anaconda3/envs/stocks/lib/python3.11/site-packages (from requests->transformers) (2.0.3)\n",
      "Requirement already satisfied: certifi>=2017.4.17 in /opt/homebrew/anaconda3/envs/stocks/lib/python3.11/site-packages (from requests->transformers) (2023.5.7)\n",
      "Downloading transformers-4.31.0-py3-none-any.whl (7.4 MB)\n",
      "\u001b[2K   \u001b[90m━━━━━━━━━━━━━━━━━━━━━━━━━━━━━━━━━━━━━━━━\u001b[0m \u001b[32m7.4/7.4 MB\u001b[0m \u001b[31m5.2 MB/s\u001b[0m eta \u001b[36m0:00:00\u001b[0m00:01\u001b[0m00:01\u001b[0mm\n",
      "\u001b[?25hDownloading huggingface_hub-0.16.4-py3-none-any.whl (268 kB)\n",
      "\u001b[2K   \u001b[90m━━━━━━━━━━━━━━━━━━━━━━━━━━━━━━━━━━━━━━━━\u001b[0m \u001b[32m268.8/268.8 kB\u001b[0m \u001b[31m3.5 MB/s\u001b[0m eta \u001b[36m0:00:00\u001b[0ma \u001b[36m0:00:01\u001b[0m\n",
      "\u001b[?25hDownloading PyYAML-6.0.1-cp311-cp311-macosx_11_0_arm64.whl (167 kB)\n",
      "\u001b[2K   \u001b[90m━━━━━━━━━━━━━━━━━━━━━━━━━━━━━━━━━━━━━━━━\u001b[0m \u001b[32m167.5/167.5 kB\u001b[0m \u001b[31m2.9 MB/s\u001b[0m eta \u001b[36m0:00:00\u001b[0m \u001b[36m0:00:01\u001b[0m\n",
      "\u001b[?25hDownloading regex-2023.6.3-cp311-cp311-macosx_11_0_arm64.whl (288 kB)\n",
      "\u001b[2K   \u001b[90m━━━━━━━━━━━━━━━━━━━━━━━━━━━━━━━━━━━━━━━━\u001b[0m \u001b[32m289.0/289.0 kB\u001b[0m \u001b[31m3.0 MB/s\u001b[0m eta \u001b[36m0:00:00\u001b[0ma \u001b[36m0:00:01\u001b[0m\n",
      "\u001b[?25hDownloading filelock-3.12.2-py3-none-any.whl (10 kB)\n",
      "Downloading fsspec-2023.6.0-py3-none-any.whl (163 kB)\n",
      "\u001b[2K   \u001b[90m━━━━━━━━━━━━━━━━━━━━━━━━━━━━━━━━━━━━━━━━\u001b[0m \u001b[32m163.8/163.8 kB\u001b[0m \u001b[31m2.2 MB/s\u001b[0m eta \u001b[36m0:00:00\u001b[0m \u001b[36m0:00:01\u001b[0m\n",
      "\u001b[?25hInstalling collected packages: tokenizers, safetensors, tqdm, regex, pyyaml, fsspec, filelock, huggingface-hub, transformers\n",
      "Successfully installed filelock-3.12.2 fsspec-2023.6.0 huggingface-hub-0.16.4 pyyaml-6.0.1 regex-2023.6.3 safetensors-0.3.1 tokenizers-0.13.3 tqdm-4.65.0 transformers-4.31.0\n"
     ]
    }
   ],
   "source": [
    "#install transformers\n",
    "!pip install transformers"
   ]
  },
  {
   "cell_type": "markdown",
   "metadata": {},
   "source": [
    "## Step 6 - transformer"
   ]
  },
  {
   "cell_type": "code",
   "execution_count": 20,
   "metadata": {},
   "outputs": [
    {
     "name": "stderr",
     "output_type": "stream",
     "text": [
      "/opt/homebrew/anaconda3/envs/stocks/lib/python3.11/site-packages/tqdm/auto.py:21: TqdmWarning: IProgress not found. Please update jupyter and ipywidgets. See https://ipywidgets.readthedocs.io/en/stable/user_install.html\n",
      "  from .autonotebook import tqdm as notebook_tqdm\n"
     ]
    }
   ],
   "source": [
    "# Use a pipeline as a high-level helper\n",
    "from transformers import pipeline\n",
    "\n",
    "pipe = pipeline(\"text-classification\", model=\"ProsusAI/finbert\")"
   ]
  },
  {
   "cell_type": "markdown",
   "metadata": {},
   "source": [
    "## Finbert"
   ]
  },
  {
   "cell_type": "code",
   "execution_count": 3,
   "metadata": {},
   "outputs": [],
   "source": [
    "# Load model directly\n",
    "from transformers import AutoTokenizer, AutoModelForSequenceClassification\n",
    "\n",
    "tokenizer = AutoTokenizer.from_pretrained(\"ProsusAI/finbert\")\n",
    "model = AutoModelForSequenceClassification.from_pretrained(\"ProsusAI/finbert\")"
   ]
  },
  {
   "cell_type": "code",
   "execution_count": 21,
   "metadata": {},
   "outputs": [
    {
     "name": "stdout",
     "output_type": "stream",
     "text": [
      "[{'label': 'neutral', 'score': 0.9017506837844849}, {'label': 'neutral', 'score': 0.8464773297309875}, {'label': 'neutral', 'score': 0.4653760492801666}, {'label': 'negative', 'score': 0.7765033841133118}, {'label': 'neutral', 'score': 0.7835943102836609}, {'label': 'neutral', 'score': 0.9380859136581421}, {'label': 'neutral', 'score': 0.6765013337135315}, {'label': 'negative', 'score': 0.9501414895057678}, {'label': 'neutral', 'score': 0.9266661405563354}, {'label': 'negative', 'score': 0.5133665800094604}, {'label': 'neutral', 'score': 0.8184475898742676}, {'label': 'neutral', 'score': 0.4791071116924286}, {'label': 'positive', 'score': 0.6525055766105652}, {'label': 'positive', 'score': 0.8452711701393127}, {'label': 'neutral', 'score': 0.671565055847168}, {'label': 'negative', 'score': 0.7675930261611938}, {'label': 'neutral', 'score': 0.8586453795433044}, {'label': 'neutral', 'score': 0.5991299152374268}, {'label': 'neutral', 'score': 0.8895115256309509}, {'label': 'neutral', 'score': 0.9367268085479736}, {'label': 'neutral', 'score': 0.9175840020179749}, {'label': 'neutral', 'score': 0.49834775924682617}, {'label': 'neutral', 'score': 0.8019953966140747}, {'label': 'neutral', 'score': 0.884676992893219}, {'label': 'neutral', 'score': 0.8388425707817078}, {'label': 'neutral', 'score': 0.7705118060112}, {'label': 'neutral', 'score': 0.6012246012687683}, {'label': 'positive', 'score': 0.5058308839797974}, {'label': 'neutral', 'score': 0.774431586265564}, {'label': 'neutral', 'score': 0.9112764000892639}, {'label': 'neutral', 'score': 0.9223058819770813}, {'label': 'neutral', 'score': 0.8881041407585144}, {'label': 'neutral', 'score': 0.808692216873169}, {'label': 'negative', 'score': 0.8312941789627075}, {'label': 'neutral', 'score': 0.8645555377006531}, {'label': 'neutral', 'score': 0.9193483591079712}, {'label': 'neutral', 'score': 0.9339542388916016}, {'label': 'positive', 'score': 0.6525055766105652}, {'label': 'neutral', 'score': 0.9024447202682495}, {'label': 'neutral', 'score': 0.7916125059127808}, {'label': 'negative', 'score': 0.9337906837463379}, {'label': 'neutral', 'score': 0.856086015701294}, {'label': 'neutral', 'score': 0.8957868814468384}, {'label': 'neutral', 'score': 0.9264650344848633}, {'label': 'neutral', 'score': 0.8094701766967773}, {'label': 'neutral', 'score': 0.9092331528663635}, {'label': 'neutral', 'score': 0.7373092174530029}, {'label': 'neutral', 'score': 0.8945236206054688}, {'label': 'neutral', 'score': 0.8835883736610413}, {'label': 'negative', 'score': 0.9479205012321472}, {'label': 'neutral', 'score': 0.9245739579200745}, {'label': 'negative', 'score': 0.5830343961715698}, {'label': 'negative', 'score': 0.961005449295044}, {'label': 'neutral', 'score': 0.9024024605751038}, {'label': 'neutral', 'score': 0.8559895157814026}, {'label': 'negative', 'score': 0.6098923087120056}, {'label': 'neutral', 'score': 0.8271014094352722}, {'label': 'neutral', 'score': 0.8967007994651794}, {'label': 'neutral', 'score': 0.8133002519607544}, {'label': 'neutral', 'score': 0.7395033240318298}, {'label': 'neutral', 'score': 0.9216029644012451}, {'label': 'neutral', 'score': 0.7958978414535522}, {'label': 'positive', 'score': 0.7429827451705933}, {'label': 'neutral', 'score': 0.8099560737609863}, {'label': 'neutral', 'score': 0.9337565302848816}, {'label': 'neutral', 'score': 0.8794535398483276}, {'label': 'neutral', 'score': 0.8953081965446472}, {'label': 'neutral', 'score': 0.9212082624435425}, {'label': 'neutral', 'score': 0.7234601974487305}, {'label': 'positive', 'score': 0.6749646663665771}, {'label': 'neutral', 'score': 0.9354402422904968}, {'label': 'neutral', 'score': 0.8451226353645325}, {'label': 'neutral', 'score': 0.8922293186187744}, {'label': 'neutral', 'score': 0.9127395749092102}, {'label': 'neutral', 'score': 0.9061868786811829}, {'label': 'neutral', 'score': 0.9304133653640747}, {'label': 'neutral', 'score': 0.9160879254341125}, {'label': 'neutral', 'score': 0.7825635075569153}, {'label': 'neutral', 'score': 0.5543850660324097}, {'label': 'neutral', 'score': 0.9343114495277405}, {'label': 'neutral', 'score': 0.9246020317077637}, {'label': 'neutral', 'score': 0.8998553156852722}, {'label': 'neutral', 'score': 0.9266928434371948}, {'label': 'negative', 'score': 0.7796053290367126}, {'label': 'positive', 'score': 0.5777143836021423}, {'label': 'neutral', 'score': 0.9293347001075745}, {'label': 'neutral', 'score': 0.9063633680343628}, {'label': 'neutral', 'score': 0.8628058433532715}, {'label': 'positive', 'score': 0.8406669497489929}, {'label': 'negative', 'score': 0.9568650126457214}, {'label': 'negative', 'score': 0.5627406239509583}, {'label': 'neutral', 'score': 0.8835846781730652}, {'label': 'neutral', 'score': 0.9032572507858276}, {'label': 'neutral', 'score': 0.9274474382400513}, {'label': 'positive', 'score': 0.5222740173339844}, {'label': 'neutral', 'score': 0.8604399561882019}, {'label': 'neutral', 'score': 0.9305390119552612}, {'label': 'neutral', 'score': 0.8457448482513428}, {'label': 'neutral', 'score': 0.888569712638855}, {'label': 'neutral', 'score': 0.8493191599845886}, {'label': 'neutral', 'score': 0.9028611183166504}, {'label': 'neutral', 'score': 0.8741419315338135}, {'label': 'negative', 'score': 0.8140259981155396}]\n"
     ]
    }
   ],
   "source": [
    "#pass hot_1 into the transformers\n",
    "result = pipe(hot_1)\n",
    "print(result)"
   ]
  },
  {
   "cell_type": "code",
   "execution_count": 51,
   "metadata": {},
   "outputs": [
    {
     "name": "stdout",
     "output_type": "stream",
     "text": [
      "['neutral', 'neutral', 'neutral', 'negative', 'neutral', 'neutral', 'neutral', 'negative', 'neutral', 'negative', 'neutral', 'neutral', 'positive', 'positive', 'neutral', 'negative', 'neutral', 'neutral', 'neutral', 'neutral', 'neutral', 'neutral', 'neutral', 'neutral', 'neutral', 'neutral', 'neutral', 'positive', 'neutral', 'neutral', 'neutral', 'neutral', 'neutral', 'negative', 'neutral', 'neutral', 'neutral', 'positive', 'neutral', 'neutral', 'negative', 'neutral', 'neutral', 'neutral', 'neutral', 'neutral', 'neutral', 'neutral', 'neutral', 'negative', 'neutral', 'negative', 'negative', 'neutral', 'neutral', 'negative', 'neutral', 'neutral', 'neutral', 'neutral', 'neutral', 'neutral', 'positive', 'neutral', 'neutral', 'neutral', 'neutral', 'neutral', 'neutral', 'positive', 'neutral', 'neutral', 'neutral', 'neutral', 'neutral', 'neutral', 'neutral', 'neutral', 'neutral', 'neutral', 'neutral', 'neutral', 'neutral', 'negative', 'positive', 'neutral', 'neutral', 'neutral', 'positive', 'negative', 'negative', 'neutral', 'neutral', 'neutral', 'positive', 'neutral', 'neutral', 'neutral', 'neutral', 'neutral', 'neutral', 'neutral', 'negative']\n",
      "[0.9017506837844849, 0.8464773297309875, 0.4653760492801666, 0.7765033841133118, 0.7835943102836609, 0.9380859136581421, 0.6765013337135315, 0.9501414895057678, 0.9266661405563354, 0.5133665800094604, 0.8184475898742676, 0.4791071116924286, 0.6525055766105652, 0.8452711701393127, 0.671565055847168, 0.7675930261611938, 0.8586453795433044, 0.5991299152374268, 0.8895115256309509, 0.9367268085479736, 0.9175840020179749, 0.49834775924682617, 0.8019953966140747, 0.884676992893219, 0.8388425707817078, 0.7705118060112, 0.6012246012687683, 0.5058308839797974, 0.774431586265564, 0.9112764000892639, 0.9223058819770813, 0.8881041407585144, 0.808692216873169, 0.8312941789627075, 0.8645555377006531, 0.9193483591079712, 0.9339542388916016, 0.6525055766105652, 0.9024447202682495, 0.7916125059127808, 0.9337906837463379, 0.856086015701294, 0.8957868814468384, 0.9264650344848633, 0.8094701766967773, 0.9092331528663635, 0.7373092174530029, 0.8945236206054688, 0.8835883736610413, 0.9479205012321472, 0.9245739579200745, 0.5830343961715698, 0.961005449295044, 0.9024024605751038, 0.8559895157814026, 0.6098923087120056, 0.8271014094352722, 0.8967007994651794, 0.8133002519607544, 0.7395033240318298, 0.9216029644012451, 0.7958978414535522, 0.7429827451705933, 0.8099560737609863, 0.9337565302848816, 0.8794535398483276, 0.8953081965446472, 0.9212082624435425, 0.7234601974487305, 0.6749646663665771, 0.9354402422904968, 0.8451226353645325, 0.8922293186187744, 0.9127395749092102, 0.9061868786811829, 0.9304133653640747, 0.9160879254341125, 0.7825635075569153, 0.5543850660324097, 0.9343114495277405, 0.9246020317077637, 0.8998553156852722, 0.9266928434371948, 0.7796053290367126, 0.5777143836021423, 0.9293347001075745, 0.9063633680343628, 0.8628058433532715, 0.8406669497489929, 0.9568650126457214, 0.5627406239509583, 0.8835846781730652, 0.9032572507858276, 0.9274474382400513, 0.5222740173339844, 0.8604399561882019, 0.9305390119552612, 0.8457448482513428, 0.888569712638855, 0.8493191599845886, 0.9028611183166504, 0.8741419315338135, 0.8140259981155396]\n"
     ]
    },
    {
     "data": {
      "text/html": [
       "<div>\n",
       "<style scoped>\n",
       "    .dataframe tbody tr th:only-of-type {\n",
       "        vertical-align: middle;\n",
       "    }\n",
       "\n",
       "    .dataframe tbody tr th {\n",
       "        vertical-align: top;\n",
       "    }\n",
       "\n",
       "    .dataframe thead th {\n",
       "        text-align: right;\n",
       "    }\n",
       "</style>\n",
       "<table border=\"1\" class=\"dataframe\">\n",
       "  <thead>\n",
       "    <tr style=\"text-align: right;\">\n",
       "      <th></th>\n",
       "      <th>text</th>\n",
       "      <th>labels</th>\n",
       "      <th>scores</th>\n",
       "    </tr>\n",
       "  </thead>\n",
       "  <tbody>\n",
       "    <tr>\n",
       "      <th>0</th>\n",
       "      <td>What Are Your Moves Tomorrow, March 16, 2023</td>\n",
       "      <td>neutral</td>\n",
       "      <td>0.901751</td>\n",
       "    </tr>\n",
       "    <tr>\n",
       "      <th>1</th>\n",
       "      <td>Most Anticipated Earnings Releases for the wee...</td>\n",
       "      <td>neutral</td>\n",
       "      <td>0.846477</td>\n",
       "    </tr>\n",
       "    <tr>\n",
       "      <th>2</th>\n",
       "      <td>Eggon says “GME go up” after earnings. ⬆️</td>\n",
       "      <td>neutral</td>\n",
       "      <td>0.465376</td>\n",
       "    </tr>\n",
       "    <tr>\n",
       "      <th>3</th>\n",
       "      <td>Goldman Sachs: 99% of borrowers have a mortgag...</td>\n",
       "      <td>negative</td>\n",
       "      <td>0.776503</td>\n",
       "    </tr>\n",
       "    <tr>\n",
       "      <th>4</th>\n",
       "      <td>Who would have thought?</td>\n",
       "      <td>neutral</td>\n",
       "      <td>0.783594</td>\n",
       "    </tr>\n",
       "  </tbody>\n",
       "</table>\n",
       "</div>"
      ],
      "text/plain": [
       "                                                text    labels    scores\n",
       "0       What Are Your Moves Tomorrow, March 16, 2023   neutral  0.901751\n",
       "1  Most Anticipated Earnings Releases for the wee...   neutral  0.846477\n",
       "2          Eggon says “GME go up” after earnings. ⬆️   neutral  0.465376\n",
       "3  Goldman Sachs: 99% of borrowers have a mortgag...  negative  0.776503\n",
       "4                            Who would have thought?   neutral  0.783594"
      ]
     },
     "execution_count": 51,
     "metadata": {},
     "output_type": "execute_result"
    }
   ],
   "source": [
    "#break the results into lables and scores\n",
    "labels = []\n",
    "scores = []\n",
    "for i in result:\n",
    "    labels.append(i['label'])\n",
    "    scores.append(i['score'])\n",
    "\n",
    "print(labels)\n",
    "print(scores)\n",
    "\n",
    "#convert the labels and scores into a dataframe\n",
    "finbert = pd.DataFrame(list(zip(hot_1,labels, scores)), columns =['text','labels', 'scores'])\n",
    "finbert.head()\n",
    "\n"
   ]
  },
  {
   "cell_type": "code",
   "execution_count": 52,
   "metadata": {},
   "outputs": [
    {
     "data": {
      "text/html": [
       "<div>\n",
       "<style scoped>\n",
       "    .dataframe tbody tr th:only-of-type {\n",
       "        vertical-align: middle;\n",
       "    }\n",
       "\n",
       "    .dataframe tbody tr th {\n",
       "        vertical-align: top;\n",
       "    }\n",
       "\n",
       "    .dataframe thead th {\n",
       "        text-align: right;\n",
       "    }\n",
       "</style>\n",
       "<table border=\"1\" class=\"dataframe\">\n",
       "  <thead>\n",
       "    <tr style=\"text-align: right;\">\n",
       "      <th></th>\n",
       "      <th>text</th>\n",
       "      <th>labels</th>\n",
       "      <th>scores</th>\n",
       "    </tr>\n",
       "  </thead>\n",
       "  <tbody>\n",
       "    <tr>\n",
       "      <th>12</th>\n",
       "      <td>Swiss National Bank says it will provide Credi...</td>\n",
       "      <td>positive</td>\n",
       "      <td>0.652506</td>\n",
       "    </tr>\n",
       "    <tr>\n",
       "      <th>13</th>\n",
       "      <td>\"Credit suisse is a great company\"</td>\n",
       "      <td>positive</td>\n",
       "      <td>0.845271</td>\n",
       "    </tr>\n",
       "    <tr>\n",
       "      <th>27</th>\n",
       "      <td>Credit Swiss' chairman has a very appropriate ...</td>\n",
       "      <td>positive</td>\n",
       "      <td>0.505831</td>\n",
       "    </tr>\n",
       "    <tr>\n",
       "      <th>37</th>\n",
       "      <td>Swiss National Bank says it will provide Credi...</td>\n",
       "      <td>positive</td>\n",
       "      <td>0.652506</td>\n",
       "    </tr>\n",
       "    <tr>\n",
       "      <th>62</th>\n",
       "      <td>143K gain riding the S&amp;P rodeo. ES, SPX 0-days...</td>\n",
       "      <td>positive</td>\n",
       "      <td>0.742983</td>\n",
       "    </tr>\n",
       "    <tr>\n",
       "      <th>69</th>\n",
       "      <td>100% Batting Average today- +$12k</td>\n",
       "      <td>positive</td>\n",
       "      <td>0.674965</td>\n",
       "    </tr>\n",
       "    <tr>\n",
       "      <th>84</th>\n",
       "      <td>Fed balance sheet ticks up massively. Lots of ...</td>\n",
       "      <td>positive</td>\n",
       "      <td>0.577714</td>\n",
       "    </tr>\n",
       "    <tr>\n",
       "      <th>88</th>\n",
       "      <td>Fed poised to approve quarter-point rate hike ...</td>\n",
       "      <td>positive</td>\n",
       "      <td>0.840667</td>\n",
       "    </tr>\n",
       "    <tr>\n",
       "      <th>94</th>\n",
       "      <td>Fed pivoting their balance sheet strategy whil...</td>\n",
       "      <td>positive</td>\n",
       "      <td>0.522274</td>\n",
       "    </tr>\n",
       "  </tbody>\n",
       "</table>\n",
       "</div>"
      ],
      "text/plain": [
       "                                                 text    labels    scores\n",
       "12  Swiss National Bank says it will provide Credi...  positive  0.652506\n",
       "13                 \"Credit suisse is a great company\"  positive  0.845271\n",
       "27  Credit Swiss' chairman has a very appropriate ...  positive  0.505831\n",
       "37  Swiss National Bank says it will provide Credi...  positive  0.652506\n",
       "62  143K gain riding the S&P rodeo. ES, SPX 0-days...  positive  0.742983\n",
       "69                  100% Batting Average today- +$12k  positive  0.674965\n",
       "84  Fed balance sheet ticks up massively. Lots of ...  positive  0.577714\n",
       "88  Fed poised to approve quarter-point rate hike ...  positive  0.840667\n",
       "94  Fed pivoting their balance sheet strategy whil...  positive  0.522274"
      ]
     },
     "execution_count": 52,
     "metadata": {},
     "output_type": "execute_result"
    }
   ],
   "source": [
    "#find and labels with positive \n",
    "finbert[finbert['labels'] == 'positive']"
   ]
  },
  {
   "cell_type": "code",
   "execution_count": 54,
   "metadata": {},
   "outputs": [
    {
     "data": {
      "text/html": [
       "<div>\n",
       "<style scoped>\n",
       "    .dataframe tbody tr th:only-of-type {\n",
       "        vertical-align: middle;\n",
       "    }\n",
       "\n",
       "    .dataframe tbody tr th {\n",
       "        vertical-align: top;\n",
       "    }\n",
       "\n",
       "    .dataframe thead th {\n",
       "        text-align: right;\n",
       "    }\n",
       "</style>\n",
       "<table border=\"1\" class=\"dataframe\">\n",
       "  <thead>\n",
       "    <tr style=\"text-align: right;\">\n",
       "      <th></th>\n",
       "      <th>text</th>\n",
       "      <th>labels</th>\n",
       "      <th>scores</th>\n",
       "      <th>matched_symbol</th>\n",
       "    </tr>\n",
       "  </thead>\n",
       "  <tbody>\n",
       "    <tr>\n",
       "      <th>0</th>\n",
       "      <td>What Are Your Moves Tomorrow, March 16, 2023</td>\n",
       "      <td>neutral</td>\n",
       "      <td>0.901751</td>\n",
       "      <td>S&amp;P</td>\n",
       "    </tr>\n",
       "    <tr>\n",
       "      <th>1</th>\n",
       "      <td>Most Anticipated Earnings Releases for the wee...</td>\n",
       "      <td>neutral</td>\n",
       "      <td>0.846477</td>\n",
       "      <td>S&amp;P</td>\n",
       "    </tr>\n",
       "    <tr>\n",
       "      <th>2</th>\n",
       "      <td>Eggon says “GME go up” after earnings. ⬆️</td>\n",
       "      <td>neutral</td>\n",
       "      <td>0.465376</td>\n",
       "      <td>[E, GME, ME]</td>\n",
       "    </tr>\n",
       "    <tr>\n",
       "      <th>3</th>\n",
       "      <td>Goldman Sachs: 99% of borrowers have a mortgag...</td>\n",
       "      <td>negative</td>\n",
       "      <td>0.776503</td>\n",
       "      <td>S&amp;P</td>\n",
       "    </tr>\n",
       "    <tr>\n",
       "      <th>4</th>\n",
       "      <td>Who would have thought?</td>\n",
       "      <td>neutral</td>\n",
       "      <td>0.783594</td>\n",
       "      <td>S&amp;P</td>\n",
       "    </tr>\n",
       "  </tbody>\n",
       "</table>\n",
       "</div>"
      ],
      "text/plain": [
       "                                                text    labels    scores  \\\n",
       "0       What Are Your Moves Tomorrow, March 16, 2023   neutral  0.901751   \n",
       "1  Most Anticipated Earnings Releases for the wee...   neutral  0.846477   \n",
       "2          Eggon says “GME go up” after earnings. ⬆️   neutral  0.465376   \n",
       "3  Goldman Sachs: 99% of borrowers have a mortgag...  negative  0.776503   \n",
       "4                            Who would have thought?   neutral  0.783594   \n",
       "\n",
       "  matched_symbol  \n",
       "0            S&P  \n",
       "1            S&P  \n",
       "2   [E, GME, ME]  \n",
       "3            S&P  \n",
       "4            S&P  "
      ]
     },
     "execution_count": 54,
     "metadata": {},
     "output_type": "execute_result"
    }
   ],
   "source": [
    "finbert['matched_symbol'] = result_df['Matched_Symbols']\n",
    "finbert.head()"
   ]
  },
  {
   "cell_type": "markdown",
   "metadata": {},
   "source": [
    "## Vader"
   ]
  },
  {
   "cell_type": "code",
   "execution_count": 26,
   "metadata": {},
   "outputs": [
    {
     "name": "stdout",
     "output_type": "stream",
     "text": [
      "Collecting vaderSentiment\n",
      "  Downloading vaderSentiment-3.3.2-py2.py3-none-any.whl (125 kB)\n",
      "\u001b[2K     \u001b[90m━━━━━━━━━━━━━━━━━━━━━━━━━━━━━━━━━━━━━━━\u001b[0m \u001b[32m126.0/126.0 kB\u001b[0m \u001b[31m3.2 MB/s\u001b[0m eta \u001b[36m0:00:00\u001b[0m\n",
      "\u001b[?25hRequirement already satisfied: requests in /opt/homebrew/anaconda3/envs/stocks/lib/python3.11/site-packages (from vaderSentiment) (2.31.0)\n",
      "Requirement already satisfied: charset-normalizer<4,>=2 in /opt/homebrew/anaconda3/envs/stocks/lib/python3.11/site-packages (from requests->vaderSentiment) (3.2.0)\n",
      "Requirement already satisfied: idna<4,>=2.5 in /opt/homebrew/anaconda3/envs/stocks/lib/python3.11/site-packages (from requests->vaderSentiment) (3.4)\n",
      "Requirement already satisfied: urllib3<3,>=1.21.1 in /opt/homebrew/anaconda3/envs/stocks/lib/python3.11/site-packages (from requests->vaderSentiment) (1.26.16)\n",
      "Requirement already satisfied: certifi>=2017.4.17 in /opt/homebrew/anaconda3/envs/stocks/lib/python3.11/site-packages (from requests->vaderSentiment) (2023.5.7)\n",
      "Installing collected packages: vaderSentiment\n",
      "Successfully installed vaderSentiment-3.3.2\n"
     ]
    }
   ],
   "source": [
    "!pip install vaderSentiment"
   ]
  },
  {
   "cell_type": "code",
   "execution_count": 28,
   "metadata": {},
   "outputs": [
    {
     "name": "stdout",
     "output_type": "stream",
     "text": [
      "What Are Your Moves Tomorrow, March 16, 2023--------------------- {'neg': 0.0, 'neu': 1.0, 'pos': 0.0, 'compound': 0.0}\n",
      "Most Anticipated Earnings Releases for the week beginning March 13th, 2023 {'neg': 0.0, 'neu': 1.0, 'pos': 0.0, 'compound': 0.0}\n",
      "Eggon says “GME go up” after earnings. ⬆️------------------------ {'neg': 0.0, 'neu': 1.0, 'pos': 0.0, 'compound': 0.0}\n",
      "Goldman Sachs: 99% of borrowers have a mortgage rate lower than the current market rate {'neg': 0.136, 'neu': 0.864, 'pos': 0.0, 'compound': -0.296}\n",
      "Who would have thought?------------------------------------------ {'neg': 0.0, 'neu': 1.0, 'pos': 0.0, 'compound': 0.0}\n",
      "Live look at banks----------------------------------------------- {'neg': 0.0, 'neu': 1.0, 'pos': 0.0, 'compound': 0.0}\n",
      "Warning from the treasury market--------------------------------- {'neg': 0.333, 'neu': 0.417, 'pos': 0.25, 'compound': -0.1531}\n",
      "Credit Suisse shares suspended, banking crisis deepens----------- {'neg': 0.48, 'neu': 0.2, 'pos': 0.32, 'compound': -0.5267}\n",
      "let me introduce you to the infinite Frosty glitch from Wendy - apply for their jobs, and get a free frosty whenever you're not selected. {'neg': 0.0, 'neu': 0.879, 'pos': 0.121, 'compound': 0.5106}\n",
      "#DWAC and Trump Media Being investigated for Money Laundering for Russians {'neg': 0.0, 'neu': 1.0, 'pos': 0.0, 'compound': 0.0}\n",
      "Credit Suisse to borrow up to about $54 billion from Swiss National Bank {'neg': 0.0, 'neu': 0.822, 'pos': 0.178, 'compound': 0.3818}\n",
      "It’s confirmed, Rivian has gone tits up!------------------------- {'neg': 0.268, 'neu': 0.732, 'pos': 0.0, 'compound': -0.2942}\n",
      "Swiss National Bank says it will provide Credit Suisse with liquidity if necessary {'neg': 0.0, 'neu': 0.822, 'pos': 0.178, 'compound': 0.3818}\n",
      "\"Credit suisse is a great company\"------------------------------- {'neg': 0.0, 'neu': 0.374, 'pos': 0.626, 'compound': 0.7717}\n",
      "Wen bankruptcy?-------------------------------------------------- {'neg': 0.0, 'neu': 1.0, 'pos': 0.0, 'compound': 0.0}\n",
      "Robinhood Users Say The Trading App Won’t Cash In Their Profitable Bets Against Silicon Valley Bank {'neg': 0.0, 'neu': 0.838, 'pos': 0.162, 'compound': 0.4404}\n",
      "Aging like a taco bell you just ate------------------------------ {'neg': 0.0, 'neu': 0.737, 'pos': 0.263, 'compound': 0.3612}\n",
      "The Roaring 20s-------------------------------------------------- {'neg': 0.0, 'neu': 1.0, 'pos': 0.0, 'compound': 0.0}\n",
      "Reddit just mooned, thoughts ?----------------------------------- {'neg': 0.0, 'neu': 1.0, 'pos': 0.0, 'compound': 0.0}\n",
      "Carl Icahn explains Twitter.------------------------------------- {'neg': 0.0, 'neu': 1.0, 'pos': 0.0, 'compound': 0.0}\n",
      "A simple calculation--------------------------------------------- {'neg': 0.0, 'neu': 1.0, 'pos': 0.0, 'compound': 0.0}\n",
      "Day 3 of Photoshopping failing banks on their way to a “meeting”with the FED {'neg': 0.202, 'neu': 0.798, 'pos': 0.0, 'compound': -0.5106}\n",
      "Here is a list of companies that are currently exposed to high levels of debt financing and the incoming credit crunch. Choose your short. {'neg': 0.139, 'neu': 0.766, 'pos': 0.095, 'compound': -0.0516}\n",
      "Jim Cramer Emo Remix - I made a mistake (SVB, Signature Bank & Meta Apology) - Lil Bubble {'neg': 0.122, 'neu': 0.816, 'pos': 0.061, 'compound': -0.296}\n",
      "Biden reverses on TikTok----------------------------------------- {'neg': 0.0, 'neu': 1.0, 'pos': 0.0, 'compound': 0.0}\n",
      "Can’t make this sh*t up. Schwab CEO vs. The Big Short------------ {'neg': 0.0, 'neu': 1.0, 'pos': 0.0, 'compound': 0.0}\n",
      "+1000% on 0DTE Overnight You Fucking Nerds!---------------------- {'neg': 0.0, 'neu': 1.0, 'pos': 0.0, 'compound': 0.0}\n",
      "Credit Swiss' chairman has a very appropriate name--------------- {'neg': 0.0, 'neu': 0.729, 'pos': 0.271, 'compound': 0.3818}\n",
      "0DTE Gains Part 3: $150,000+------------------------------------- {'neg': 0.0, 'neu': 0.625, 'pos': 0.375, 'compound': 0.34}\n",
      "The time of the bear has come, buckle up buckaroos 🐻------------- {'neg': 0.0, 'neu': 1.0, 'pos': 0.0, 'compound': 0.0}\n",
      "Why SVB is just the beginning: Part II Eurodollar edition, from a investment analyst {'neg': 0.0, 'neu': 1.0, 'pos': 0.0, 'compound': 0.0}\n",
      "YOLO------------------------------------------------------------- {'neg': 0.0, 'neu': 0.0, 'pos': 1.0, 'compound': 0.2732}\n",
      "(Pure speculation) I think J Pow confirms 25 base pts, or pause.- {'neg': 0.0, 'neu': 1.0, 'pos': 0.0, 'compound': 0.0}\n",
      "'Credit Suisse To Collapse Next', Says Robert Kiyosaki Who Predicted Lehman Brothers' Fall {'neg': 0.19, 'neu': 0.655, 'pos': 0.155, 'compound': -0.1531}\n",
      "Joseph Gentile Destroying Capitalism----------------------------- {'neg': 0.545, 'neu': 0.455, 'pos': 0.0, 'compound': -0.5574}\n",
      "Breaking News via Bloomberg-------------------------------------- {'neg': 0.0, 'neu': 1.0, 'pos': 0.0, 'compound': 0.0}\n",
      "First Republic Bank, is said to weigh options including a sale, per Bloomberg {'neg': 0.0, 'neu': 1.0, 'pos': 0.0, 'compound': 0.0}\n",
      "Swiss National Bank says it will provide Credit Suisse with liquidity if necessary {'neg': 0.0, 'neu': 0.822, 'pos': 0.178, 'compound': 0.3818}\n",
      "Credit Suisse: Short term CDS at >830 bps------------------------ {'neg': 0.0, 'neu': 0.729, 'pos': 0.271, 'compound': 0.3818}\n",
      "Gotta bankrupt them all------------------------------------------ {'neg': 0.545, 'neu': 0.455, 'pos': 0.0, 'compound': -0.5574}\n",
      "Switzerland faces pressure from at least one major government to intervene on Credit Suisse {'neg': 0.131, 'neu': 0.714, 'pos': 0.155, 'compound': 0.1027}\n",
      "CNBC doing JPow dirty with this pic------------------------------ {'neg': 0.326, 'neu': 0.674, 'pos': 0.0, 'compound': -0.4404}\n",
      "Hey, bank for sale..! For sale?---------------------------------- {'neg': 0.0, 'neu': 1.0, 'pos': 0.0, 'compound': 0.0}\n",
      "FDIC is Daddy---------------------------------------------------- {'neg': 0.0, 'neu': 1.0, 'pos': 0.0, 'compound': 0.0}\n",
      "NVDA CFO just sold a bunch of stock, probably nothing.----------- {'neg': 0.0, 'neu': 1.0, 'pos': 0.0, 'compound': 0.0}\n",
      "How everyone is looking at CS right now...----------------------- {'neg': 0.0, 'neu': 1.0, 'pos': 0.0, 'compound': 0.0}\n",
      "Credit Suisse mooning tomorrow?---------------------------------- {'neg': 0.0, 'neu': 0.536, 'pos': 0.464, 'compound': 0.3818}\n",
      "FEDs are not bailing out banks, they are bailing out the bond market. {'neg': 0.0, 'neu': 1.0, 'pos': 0.0, 'compound': 0.0}\n",
      "All this wishful thinking JPOW is suddenly their friend...------- {'neg': 0.0, 'neu': 0.714, 'pos': 0.286, 'compound': 0.4939}\n",
      "Snap & Meta stock surges on report that Biden may ban TikTok----- {'neg': 0.247, 'neu': 0.753, 'pos': 0.0, 'compound': -0.5574}\n",
      "Daily Discussion Thread for March 15, 2023----------------------- {'neg': 0.0, 'neu': 1.0, 'pos': 0.0, 'compound': 0.0}\n",
      "President Joe Biden on Monday underscored that the American banking system remains safe {'neg': 0.0, 'neu': 0.805, 'pos': 0.195, 'compound': 0.4404}\n",
      "Virgin Orbit pauses operations for a week, furloughs nearly entire staff as it seeks funding {'neg': 0.0, 'neu': 1.0, 'pos': 0.0, 'compound': 0.0}\n",
      "The SVB crisis, explained in ten seconds------------------------- {'neg': 0.406, 'neu': 0.594, 'pos': 0.0, 'compound': -0.6249}\n",
      "Brrr...---------------------------------------------------------- {'neg': 0.0, 'neu': 1.0, 'pos': 0.0, 'compound': 0.0}\n",
      "Recession Confirmed!--------------------------------------------- {'neg': 0.756, 'neu': 0.244, 'pos': 0.0, 'compound': -0.4753}\n",
      "The Federal Home Loans Banks sold 90B in bonds and treasuries to raise liquidity for commercial banks. Tick fucking tock. {'neg': 0.0, 'neu': 0.909, 'pos': 0.091, 'compound': 0.2263}\n",
      "Nothing to see here.. keep it movin…----------------------------- {'neg': 0.0, 'neu': 1.0, 'pos': 0.0, 'compound': 0.0}\n",
      "\"you met me at a very strange time in my life\"------------------- {'neg': 0.173, 'neu': 0.827, 'pos': 0.0, 'compound': -0.2716}\n",
      "The volatility continues… 3-15-23 SPY/ ES Futures, DXY, 10YR and VIX Daily Market Analysis {'neg': 0.0, 'neu': 1.0, 'pos': 0.0, 'compound': 0.0}\n",
      "Adjusted CET1 capital ratio for unrealised losses---------------- {'neg': 0.31, 'neu': 0.69, 'pos': 0.0, 'compound': -0.4019}\n",
      "Could a SVB's collapse been prevented if the accounting rules for recognizing bond losses were required to mark-to market? {'neg': 0.257, 'neu': 0.696, 'pos': 0.048, 'compound': -0.7003}\n",
      "143K gain riding the S&P rodeo. ES, SPX 0-days. Thanks Europe, keep it going! {'neg': 0.0, 'neu': 0.645, 'pos': 0.355, 'compound': 0.7644}\n",
      "RIP BULLZ-------------------------------------------------------- {'neg': 0.0, 'neu': 1.0, 'pos': 0.0, 'compound': 0.0}\n",
      "Credit Suisse = Lehman Brothers---------------------------------- {'neg': 0.0, 'neu': 0.606, 'pos': 0.394, 'compound': 0.3818}\n",
      "Everyone mass buying gold post-SVB collapse---------------------- {'neg': 0.39, 'neu': 0.61, 'pos': 0.0, 'compound': -0.4939}\n",
      "Life moves pretty fast when you're having fun-------------------- {'neg': 0.0, 'neu': 0.48, 'pos': 0.52, 'compound': 0.7579}\n",
      "Jackson Hole 2.0 Speech Leak------------------------------------- {'neg': 0.375, 'neu': 0.625, 'pos': 0.0, 'compound': -0.34}\n",
      "I’m a fucking degenerate regard - YOLO 100x SPY 388P 3/17-------- {'neg': 0.0, 'neu': 0.779, 'pos': 0.221, 'compound': 0.4278}\n",
      "100% Batting Average today- +$12k-------------------------------- {'neg': 0.0, 'neu': 1.0, 'pos': 0.0, 'compound': 0.0}\n",
      "Weekend Discussion Thread for the Weekend of March 18, 2023------ {'neg': 0.0, 'neu': 1.0, 'pos': 0.0, 'compound': 0.0}\n",
      "Most Anticipated Earnings Releases for the week beginning March 20th, 2023 {'neg': 0.0, 'neu': 1.0, 'pos': 0.0, 'compound': 0.0}\n",
      "How it feels----------------------------------------------------- {'neg': 0.0, 'neu': 1.0, 'pos': 0.0, 'compound': 0.0}\n",
      "Imagine---------------------------------------------------------- {'neg': 0.0, 'neu': 1.0, 'pos': 0.0, 'compound': 0.0}\n",
      "JPOW did nothing wrong------------------------------------------- {'neg': 0.0, 'neu': 0.54, 'pos': 0.46, 'compound': 0.3724}\n",
      "Summary of Yellen’s testimony yesterday-------------------------- {'neg': 0.0, 'neu': 1.0, 'pos': 0.0, 'compound': 0.0}\n",
      "Jpow VW effect--------------------------------------------------- {'neg': 0.0, 'neu': 1.0, 'pos': 0.0, 'compound': 0.0}\n",
      "For people who think the banks are fine…------------------------- {'neg': 0.0, 'neu': 1.0, 'pos': 0.0, 'compound': 0.0}\n",
      "WSB autist impresses the ladies---------------------------------- {'neg': 0.0, 'neu': 0.563, 'pos': 0.437, 'compound': 0.4767}\n",
      "Noted... In the future only deposit into banks that can't fail--- {'neg': 0.0, 'neu': 0.778, 'pos': 0.222, 'compound': 0.431}\n",
      "The cycle of the market------------------------------------------ {'neg': 0.0, 'neu': 1.0, 'pos': 0.0, 'compound': 0.0}\n",
      "40K Stock YOLO on BAC-------------------------------------------- {'neg': 0.0, 'neu': 0.585, 'pos': 0.415, 'compound': 0.4278}\n",
      "Update from the fed---------------------------------------------- {'neg': 0.0, 'neu': 1.0, 'pos': 0.0, 'compound': 0.0}\n",
      "DO NOT hold near-expiry Puts on any stock that might collapse. Brokers are refusing to honor Puts on halted bank stocks…YOU WILL LOSE 100% {'neg': 0.287, 'neu': 0.615, 'pos': 0.098, 'compound': -0.7297}\n",
      "Fed balance sheet ticks up massively. Lots of banks wanted liquidity. {'neg': 0.0, 'neu': 1.0, 'pos': 0.0, 'compound': 0.0}\n",
      "SVB Saga--------------------------------------------------------- {'neg': 0.0, 'neu': 1.0, 'pos': 0.0, 'compound': 0.0}\n",
      "WELP peeps there waiting and ready for the crash----------------- {'neg': 0.221, 'neu': 0.574, 'pos': 0.205, 'compound': -0.0516}\n",
      "THE INVESTOOR---------------------------------------------------- {'neg': 0.0, 'neu': 1.0, 'pos': 0.0, 'compound': 0.0}\n",
      "Fed poised to approve quarter-point rate hike next week, despite market turmoil {'neg': 0.0, 'neu': 0.709, 'pos': 0.291, 'compound': 0.4784}\n",
      "Why printer is back on… 2023 is worse than 2008 in terms of deposits held by failed banks. {'neg': 0.286, 'neu': 0.714, 'pos': 0.0, 'compound': -0.7506}\n",
      "Credit Suisse getting desperate for liquidity-------------------- {'neg': 0.258, 'neu': 0.449, 'pos': 0.292, 'compound': 0.0772}\n",
      "I feel like we’re watching The Big Short in real time------------ {'neg': 0.0, 'neu': 0.8, 'pos': 0.2, 'compound': 0.3612}\n",
      "One of these days we'll figure it out, right? ...guys?----------- {'neg': 0.0, 'neu': 1.0, 'pos': 0.0, 'compound': 0.0}\n",
      "I guess this is the right day for this meme? Or maybe wait a few more weeks? {'neg': 0.0, 'neu': 1.0, 'pos': 0.0, 'compound': 0.0}\n",
      "Fed pivoting their balance sheet strategy while inflation is still 6% year-over-year {'neg': 0.0, 'neu': 1.0, 'pos': 0.0, 'compound': 0.0}\n",
      "1... 2... FRED is coming for you...------------------------------ {'neg': 0.0, 'neu': 1.0, 'pos': 0.0, 'compound': 0.0}\n",
      "Memes create dreams. We're going to the moon folks 🚀🫡------------ {'neg': 0.0, 'neu': 0.625, 'pos': 0.375, 'compound': 0.5859}\n",
      "RIP Quantitative Tightening-------------------------------------- {'neg': 0.0, 'neu': 1.0, 'pos': 0.0, 'compound': 0.0}\n",
      "Got ‘em. Bulls on parade.---------------------------------------- {'neg': 0.0, 'neu': 1.0, 'pos': 0.0, 'compound': 0.0}\n",
      "Are you ready to party like it's 1929? Why just have a depression when you can have a GREAT Depression? 🍾🍸🤠🥂 {'neg': 0.163, 'neu': 0.552, 'pos': 0.285, 'compound': 0.6697}\n",
      "FRC moments after the money hits--------------------------------- {'neg': 0.0, 'neu': 1.0, 'pos': 0.0, 'compound': 0.0}\n",
      "Deal of the year 💸💸 already backed by Bank of America.----------- {'neg': 0.0, 'neu': 0.932, 'pos': 0.068, 'compound': 0.0258}\n",
      "Update: High Probability Recession Hits U.S. in Late 2023-------- {'neg': 0.259, 'neu': 0.741, 'pos': 0.0, 'compound': -0.4215}\n"
     ]
    }
   ],
   "source": [
    "from vaderSentiment.vaderSentiment import SentimentIntensityAnalyzer\n",
    "analyzer = SentimentIntensityAnalyzer()\n",
    "\n",
    "for sentence in hot_1:\n",
    "    vs = analyzer.polarity_scores(sentence)\n",
    "    print(\"{:-<65} {}\".format(sentence, str(vs)))"
   ]
  },
  {
   "cell_type": "code",
   "execution_count": 46,
   "metadata": {},
   "outputs": [
    {
     "data": {
      "text/html": [
       "<div>\n",
       "<style scoped>\n",
       "    .dataframe tbody tr th:only-of-type {\n",
       "        vertical-align: middle;\n",
       "    }\n",
       "\n",
       "    .dataframe tbody tr th {\n",
       "        vertical-align: top;\n",
       "    }\n",
       "\n",
       "    .dataframe thead th {\n",
       "        text-align: right;\n",
       "    }\n",
       "</style>\n",
       "<table border=\"1\" class=\"dataframe\">\n",
       "  <thead>\n",
       "    <tr style=\"text-align: right;\">\n",
       "      <th></th>\n",
       "      <th>text</th>\n",
       "      <th>negative</th>\n",
       "      <th>positive</th>\n",
       "      <th>neutral</th>\n",
       "      <th>compound</th>\n",
       "    </tr>\n",
       "  </thead>\n",
       "  <tbody>\n",
       "    <tr>\n",
       "      <th>0</th>\n",
       "      <td>What Are Your Moves Tomorrow, March 16, 2023</td>\n",
       "      <td>0.000</td>\n",
       "      <td>0.0</td>\n",
       "      <td>1.000</td>\n",
       "      <td>0.000</td>\n",
       "    </tr>\n",
       "    <tr>\n",
       "      <th>1</th>\n",
       "      <td>Most Anticipated Earnings Releases for the wee...</td>\n",
       "      <td>0.000</td>\n",
       "      <td>0.0</td>\n",
       "      <td>1.000</td>\n",
       "      <td>0.000</td>\n",
       "    </tr>\n",
       "    <tr>\n",
       "      <th>2</th>\n",
       "      <td>Eggon says “GME go up” after earnings. ⬆️</td>\n",
       "      <td>0.000</td>\n",
       "      <td>0.0</td>\n",
       "      <td>1.000</td>\n",
       "      <td>0.000</td>\n",
       "    </tr>\n",
       "    <tr>\n",
       "      <th>3</th>\n",
       "      <td>Goldman Sachs: 99% of borrowers have a mortgag...</td>\n",
       "      <td>0.136</td>\n",
       "      <td>0.0</td>\n",
       "      <td>0.864</td>\n",
       "      <td>-0.296</td>\n",
       "    </tr>\n",
       "    <tr>\n",
       "      <th>4</th>\n",
       "      <td>Who would have thought?</td>\n",
       "      <td>0.000</td>\n",
       "      <td>0.0</td>\n",
       "      <td>1.000</td>\n",
       "      <td>0.000</td>\n",
       "    </tr>\n",
       "  </tbody>\n",
       "</table>\n",
       "</div>"
      ],
      "text/plain": [
       "                                                text  negative  positive  \\\n",
       "0       What Are Your Moves Tomorrow, March 16, 2023     0.000       0.0   \n",
       "1  Most Anticipated Earnings Releases for the wee...     0.000       0.0   \n",
       "2          Eggon says “GME go up” after earnings. ⬆️     0.000       0.0   \n",
       "3  Goldman Sachs: 99% of borrowers have a mortgag...     0.136       0.0   \n",
       "4                            Who would have thought?     0.000       0.0   \n",
       "\n",
       "   neutral  compound  \n",
       "0    1.000     0.000  \n",
       "1    1.000     0.000  \n",
       "2    1.000     0.000  \n",
       "3    0.864    -0.296  \n",
       "4    1.000     0.000  "
      ]
     },
     "execution_count": 46,
     "metadata": {},
     "output_type": "execute_result"
    }
   ],
   "source": [
    "#store all the sentiments in a new varaible for hot_1\n",
    "sentiment = []\n",
    "for sentence in hot_1:\n",
    "    vs = analyzer.polarity_scores(sentence)\n",
    "    sentiment.append(vs)\n",
    "\n",
    "#store the negative, positive, neutral and compound scores for the sentiments in seperate variables\n",
    "negative = []\n",
    "positive = []\n",
    "neutral = []\n",
    "compound = []\n",
    "for i in sentiment:\n",
    "    negative.append(i['neg'])\n",
    "    positive.append(i['pos'])\n",
    "    neutral.append(i['neu'])\n",
    "    compound.append(i['compound'])\n",
    "\n",
    "\n",
    "#convert the negative, positive, neutral and compound scores and the hot_1 sentences into a dataframe\n",
    "vader = pd.DataFrame(list(zip(hot_1, negative, positive, neutral, compound)), columns =['text','negative', 'positive', 'neutral', 'compound'])\n",
    "vader.head()\n",
    "\n",
    "\n"
   ]
  },
  {
   "cell_type": "code",
   "execution_count": 33,
   "metadata": {},
   "outputs": [
    {
     "data": {
      "text/plain": [
       "<Axes: title={'center': 'Compound scores of hot_1'}>"
      ]
     },
     "execution_count": 33,
     "metadata": {},
     "output_type": "execute_result"
    },
    {
     "data": {
      "image/png": "[encoded data removed]",
      "text/plain": [
       "<Figure size 640x480 with 1 Axes>"
      ]
     },
     "metadata": {},
     "output_type": "display_data"
    }
   ],
   "source": [
    "#plot the compound scores\n",
    "df['compound'].plot(title=\"Compound scores of hot_1\")"
   ]
  },
  {
   "cell_type": "code",
   "execution_count": 37,
   "metadata": {},
   "outputs": [
    {
     "data": {
      "text/plain": [
       "text        26\n",
       "negative    26\n",
       "positive    26\n",
       "neutral     26\n",
       "compound    26\n",
       "dtype: int64"
      ]
     },
     "execution_count": 37,
     "metadata": {},
     "output_type": "execute_result"
    }
   ],
   "source": [
    "#count the number of non zero positive score\n",
    "df[df['positive'] != 0].count()\n"
   ]
  },
  {
   "cell_type": "code",
   "execution_count": 45,
   "metadata": {},
   "outputs": [
    {
     "data": {
      "text/plain": [
       "103"
      ]
     },
     "execution_count": 45,
     "metadata": {},
     "output_type": "execute_result"
    }
   ],
   "source": [
    "len(hot_1)"
   ]
  },
  {
   "cell_type": "code",
   "execution_count": 49,
   "metadata": {},
   "outputs": [
    {
     "name": "stdout",
     "output_type": "stream",
     "text": [
      "    Matched_Symbols\n",
      "0               S&P\n",
      "1               S&P\n",
      "2      [E, GME, ME]\n",
      "3               S&P\n",
      "4               S&P\n",
      "..              ...\n",
      "98              S&P\n",
      "99         [EAT, T]\n",
      "100         [C, RC]\n",
      "101             S&P\n",
      "102          [S, U]\n",
      "\n",
      "[103 rows x 1 columns]\n"
     ]
    }
   ],
   "source": [
    "import re\n",
    "import pandas as pd\n",
    "\n",
    "# Assuming hot_1 is a list of sentences\n",
    "# Assuming df is the DataFrame with \"Symbol\" and \"Name\" columns\n",
    "\n",
    "# Function to find matches using regular expressions\n",
    "def find_matches(sentence, symbol_list):\n",
    "    matches = []\n",
    "    for symbol in symbol_list:\n",
    "        if pd.notna(symbol):  # Skip NaN values in the symbol_list\n",
    "            pattern = r\"(?<!\\$)\" + re.escape(symbol) + r\"(?!\\w)\"\n",
    "            if re.search(pattern, sentence):\n",
    "                matches.append(symbol)\n",
    "    return matches\n",
    "\n",
    "# List to store the results\n",
    "results = []\n",
    "\n",
    "# Convert \"Symbol\" column to a list of strings and remove NaN values\n",
    "symbol_list = symbols['Symbol'].astype(str).tolist()\n",
    "\n",
    "# Iterate through each sentence in hot_1\n",
    "for sentence in hot_1:\n",
    "    # Find matches for each sentence\n",
    "    matches = find_matches(sentence, symbol_list)\n",
    "    # If matches found, store the index and symbol; otherwise, store \"S&P\"\n",
    "    if matches:\n",
    "        results.append( matches)\n",
    "    else:\n",
    "        results.append( \"S&P\")\n",
    "\n",
    "# Create a new DataFrame to store the results\n",
    "result_df = pd.DataFrame(results, columns=[ \"Matched_Symbols\"])\n",
    "\n",
    "# Print the result DataFrame\n",
    "print(result_df)\n"
   ]
  },
  {
   "cell_type": "code",
   "execution_count": 50,
   "metadata": {},
   "outputs": [
    {
     "data": {
      "text/html": [
       "<div>\n",
       "<style scoped>\n",
       "    .dataframe tbody tr th:only-of-type {\n",
       "        vertical-align: middle;\n",
       "    }\n",
       "\n",
       "    .dataframe tbody tr th {\n",
       "        vertical-align: top;\n",
       "    }\n",
       "\n",
       "    .dataframe thead th {\n",
       "        text-align: right;\n",
       "    }\n",
       "</style>\n",
       "<table border=\"1\" class=\"dataframe\">\n",
       "  <thead>\n",
       "    <tr style=\"text-align: right;\">\n",
       "      <th></th>\n",
       "      <th>text</th>\n",
       "      <th>negative</th>\n",
       "      <th>positive</th>\n",
       "      <th>neutral</th>\n",
       "      <th>compound</th>\n",
       "      <th>matched_symbol</th>\n",
       "    </tr>\n",
       "  </thead>\n",
       "  <tbody>\n",
       "    <tr>\n",
       "      <th>98</th>\n",
       "      <td>Got ‘em. Bulls on parade.</td>\n",
       "      <td>0.000</td>\n",
       "      <td>0.000</td>\n",
       "      <td>1.000</td>\n",
       "      <td>0.0000</td>\n",
       "      <td>S&amp;P</td>\n",
       "    </tr>\n",
       "    <tr>\n",
       "      <th>99</th>\n",
       "      <td>Are you ready to party like it's 1929? Why jus...</td>\n",
       "      <td>0.163</td>\n",
       "      <td>0.285</td>\n",
       "      <td>0.552</td>\n",
       "      <td>0.6697</td>\n",
       "      <td>[EAT, T]</td>\n",
       "    </tr>\n",
       "    <tr>\n",
       "      <th>100</th>\n",
       "      <td>FRC moments after the money hits</td>\n",
       "      <td>0.000</td>\n",
       "      <td>0.000</td>\n",
       "      <td>1.000</td>\n",
       "      <td>0.0000</td>\n",
       "      <td>[C, RC]</td>\n",
       "    </tr>\n",
       "    <tr>\n",
       "      <th>101</th>\n",
       "      <td>Deal of the year 💸💸 already backed by Bank of ...</td>\n",
       "      <td>0.000</td>\n",
       "      <td>0.068</td>\n",
       "      <td>0.932</td>\n",
       "      <td>0.0258</td>\n",
       "      <td>S&amp;P</td>\n",
       "    </tr>\n",
       "    <tr>\n",
       "      <th>102</th>\n",
       "      <td>Update: High Probability Recession Hits U.S. i...</td>\n",
       "      <td>0.259</td>\n",
       "      <td>0.000</td>\n",
       "      <td>0.741</td>\n",
       "      <td>-0.4215</td>\n",
       "      <td>[S, U]</td>\n",
       "    </tr>\n",
       "  </tbody>\n",
       "</table>\n",
       "</div>"
      ],
      "text/plain": [
       "                                                  text  negative  positive  \\\n",
       "98                           Got ‘em. Bulls on parade.     0.000     0.000   \n",
       "99   Are you ready to party like it's 1929? Why jus...     0.163     0.285   \n",
       "100                   FRC moments after the money hits     0.000     0.000   \n",
       "101  Deal of the year 💸💸 already backed by Bank of ...     0.000     0.068   \n",
       "102  Update: High Probability Recession Hits U.S. i...     0.259     0.000   \n",
       "\n",
       "     neutral  compound matched_symbol  \n",
       "98     1.000    0.0000            S&P  \n",
       "99     0.552    0.6697       [EAT, T]  \n",
       "100    1.000    0.0000        [C, RC]  \n",
       "101    0.932    0.0258            S&P  \n",
       "102    0.741   -0.4215         [S, U]  "
      ]
     },
     "execution_count": 50,
     "metadata": {},
     "output_type": "execute_result"
    }
   ],
   "source": [
    "#add the matched_symbol column to the vader dataframe  \n",
    "vader['matched_symbol'] = result_df['Matched_Symbols']\n",
    "vader.tail()"
   ]
  },
  {
   "cell_type": "code",
   "execution_count": 67,
   "metadata": {},
   "outputs": [
    {
     "data": {
      "text/html": [
       "<div>\n",
       "<style scoped>\n",
       "    .dataframe tbody tr th:only-of-type {\n",
       "        vertical-align: middle;\n",
       "    }\n",
       "\n",
       "    .dataframe tbody tr th {\n",
       "        vertical-align: top;\n",
       "    }\n",
       "\n",
       "    .dataframe thead th {\n",
       "        text-align: right;\n",
       "    }\n",
       "</style>\n",
       "<table border=\"1\" class=\"dataframe\">\n",
       "  <thead>\n",
       "    <tr style=\"text-align: right;\">\n",
       "      <th></th>\n",
       "      <th>text</th>\n",
       "      <th>negative</th>\n",
       "      <th>positive</th>\n",
       "      <th>neutral</th>\n",
       "      <th>compound</th>\n",
       "      <th>matched_symbol</th>\n",
       "    </tr>\n",
       "  </thead>\n",
       "  <tbody>\n",
       "    <tr>\n",
       "      <th>2</th>\n",
       "      <td>Eggon says “GME go up” after earnings. ⬆️</td>\n",
       "      <td>0.000</td>\n",
       "      <td>0.000</td>\n",
       "      <td>1.000</td>\n",
       "      <td>0.0000</td>\n",
       "      <td>[E, GME, ME]</td>\n",
       "    </tr>\n",
       "    <tr>\n",
       "      <th>9</th>\n",
       "      <td>#DWAC and Trump Media Being investigated for M...</td>\n",
       "      <td>0.000</td>\n",
       "      <td>0.000</td>\n",
       "      <td>1.000</td>\n",
       "      <td>0.0000</td>\n",
       "      <td>[AC, C, DWAC]</td>\n",
       "    </tr>\n",
       "    <tr>\n",
       "      <th>20</th>\n",
       "      <td>A simple calculation</td>\n",
       "      <td>0.000</td>\n",
       "      <td>0.000</td>\n",
       "      <td>1.000</td>\n",
       "      <td>0.0000</td>\n",
       "      <td>[A]</td>\n",
       "    </tr>\n",
       "    <tr>\n",
       "      <th>21</th>\n",
       "      <td>Day 3 of Photoshopping failing banks on their ...</td>\n",
       "      <td>0.202</td>\n",
       "      <td>0.000</td>\n",
       "      <td>0.798</td>\n",
       "      <td>-0.5106</td>\n",
       "      <td>[D, ED]</td>\n",
       "    </tr>\n",
       "    <tr>\n",
       "      <th>23</th>\n",
       "      <td>Jim Cramer Emo Remix - I made a mistake (SVB, ...</td>\n",
       "      <td>0.122</td>\n",
       "      <td>0.061</td>\n",
       "      <td>0.816</td>\n",
       "      <td>-0.2960</td>\n",
       "      <td>[B]</td>\n",
       "    </tr>\n",
       "    <tr>\n",
       "      <th>25</th>\n",
       "      <td>Can’t make this sh*t up. Schwab CEO vs. The Bi...</td>\n",
       "      <td>0.000</td>\n",
       "      <td>0.000</td>\n",
       "      <td>1.000</td>\n",
       "      <td>0.0000</td>\n",
       "      <td>[O]</td>\n",
       "    </tr>\n",
       "    <tr>\n",
       "      <th>26</th>\n",
       "      <td>+1000% on 0DTE Overnight You Fucking Nerds!</td>\n",
       "      <td>0.000</td>\n",
       "      <td>0.000</td>\n",
       "      <td>1.000</td>\n",
       "      <td>0.0000</td>\n",
       "      <td>[DTE, E]</td>\n",
       "    </tr>\n",
       "    <tr>\n",
       "      <th>28</th>\n",
       "      <td>0DTE Gains Part 3: $150,000+</td>\n",
       "      <td>0.000</td>\n",
       "      <td>0.375</td>\n",
       "      <td>0.625</td>\n",
       "      <td>0.3400</td>\n",
       "      <td>[DTE, E]</td>\n",
       "    </tr>\n",
       "    <tr>\n",
       "      <th>30</th>\n",
       "      <td>Why SVB is just the beginning: Part II Eurodol...</td>\n",
       "      <td>0.000</td>\n",
       "      <td>0.000</td>\n",
       "      <td>1.000</td>\n",
       "      <td>0.0000</td>\n",
       "      <td>[B]</td>\n",
       "    </tr>\n",
       "    <tr>\n",
       "      <th>31</th>\n",
       "      <td>YOLO</td>\n",
       "      <td>0.000</td>\n",
       "      <td>1.000</td>\n",
       "      <td>0.000</td>\n",
       "      <td>0.2732</td>\n",
       "      <td>[O, OLO]</td>\n",
       "    </tr>\n",
       "    <tr>\n",
       "      <th>32</th>\n",
       "      <td>(Pure speculation) I think J Pow confirms 25 b...</td>\n",
       "      <td>0.000</td>\n",
       "      <td>0.000</td>\n",
       "      <td>1.000</td>\n",
       "      <td>0.0000</td>\n",
       "      <td>[J]</td>\n",
       "    </tr>\n",
       "    <tr>\n",
       "      <th>38</th>\n",
       "      <td>Credit Suisse: Short term CDS at &gt;830 bps</td>\n",
       "      <td>0.000</td>\n",
       "      <td>0.271</td>\n",
       "      <td>0.729</td>\n",
       "      <td>0.3818</td>\n",
       "      <td>[S]</td>\n",
       "    </tr>\n",
       "    <tr>\n",
       "      <th>41</th>\n",
       "      <td>CNBC doing JPow dirty with this pic</td>\n",
       "      <td>0.326</td>\n",
       "      <td>0.000</td>\n",
       "      <td>0.674</td>\n",
       "      <td>-0.4404</td>\n",
       "      <td>[BC, C]</td>\n",
       "    </tr>\n",
       "    <tr>\n",
       "      <th>43</th>\n",
       "      <td>FDIC is Daddy</td>\n",
       "      <td>0.000</td>\n",
       "      <td>0.000</td>\n",
       "      <td>1.000</td>\n",
       "      <td>0.0000</td>\n",
       "      <td>[C]</td>\n",
       "    </tr>\n",
       "    <tr>\n",
       "      <th>44</th>\n",
       "      <td>NVDA CFO just sold a bunch of stock, probably ...</td>\n",
       "      <td>0.000</td>\n",
       "      <td>0.000</td>\n",
       "      <td>1.000</td>\n",
       "      <td>0.0000</td>\n",
       "      <td>[A, NVDA, O]</td>\n",
       "    </tr>\n",
       "    <tr>\n",
       "      <th>45</th>\n",
       "      <td>How everyone is looking at CS right now...</td>\n",
       "      <td>0.000</td>\n",
       "      <td>0.000</td>\n",
       "      <td>1.000</td>\n",
       "      <td>0.0000</td>\n",
       "      <td>[S]</td>\n",
       "    </tr>\n",
       "    <tr>\n",
       "      <th>48</th>\n",
       "      <td>All this wishful thinking JPOW is suddenly the...</td>\n",
       "      <td>0.000</td>\n",
       "      <td>0.286</td>\n",
       "      <td>0.714</td>\n",
       "      <td>0.4939</td>\n",
       "      <td>[W]</td>\n",
       "    </tr>\n",
       "    <tr>\n",
       "      <th>53</th>\n",
       "      <td>The SVB crisis, explained in ten seconds</td>\n",
       "      <td>0.406</td>\n",
       "      <td>0.000</td>\n",
       "      <td>0.594</td>\n",
       "      <td>-0.6249</td>\n",
       "      <td>[B]</td>\n",
       "    </tr>\n",
       "    <tr>\n",
       "      <th>56</th>\n",
       "      <td>The Federal Home Loans Banks sold 90B in bonds...</td>\n",
       "      <td>0.000</td>\n",
       "      <td>0.091</td>\n",
       "      <td>0.909</td>\n",
       "      <td>0.2263</td>\n",
       "      <td>[B]</td>\n",
       "    </tr>\n",
       "    <tr>\n",
       "      <th>59</th>\n",
       "      <td>The volatility continues… 3-15-23 SPY/ ES Futu...</td>\n",
       "      <td>0.000</td>\n",
       "      <td>0.000</td>\n",
       "      <td>1.000</td>\n",
       "      <td>0.0000</td>\n",
       "      <td>[ES, IX, R, S, X]</td>\n",
       "    </tr>\n",
       "    <tr>\n",
       "      <th>61</th>\n",
       "      <td>Could a SVB's collapse been prevented if the a...</td>\n",
       "      <td>0.257</td>\n",
       "      <td>0.048</td>\n",
       "      <td>0.696</td>\n",
       "      <td>-0.7003</td>\n",
       "      <td>[B]</td>\n",
       "    </tr>\n",
       "    <tr>\n",
       "      <th>62</th>\n",
       "      <td>143K gain riding the S&amp;P rodeo. ES, SPX 0-days...</td>\n",
       "      <td>0.000</td>\n",
       "      <td>0.355</td>\n",
       "      <td>0.645</td>\n",
       "      <td>0.7644</td>\n",
       "      <td>[ES, K, PX, S, X]</td>\n",
       "    </tr>\n",
       "    <tr>\n",
       "      <th>63</th>\n",
       "      <td>RIP BULLZ</td>\n",
       "      <td>0.000</td>\n",
       "      <td>0.000</td>\n",
       "      <td>1.000</td>\n",
       "      <td>0.0000</td>\n",
       "      <td>[IP, LZ, Z]</td>\n",
       "    </tr>\n",
       "    <tr>\n",
       "      <th>65</th>\n",
       "      <td>Everyone mass buying gold post-SVB collapse</td>\n",
       "      <td>0.390</td>\n",
       "      <td>0.000</td>\n",
       "      <td>0.610</td>\n",
       "      <td>-0.4939</td>\n",
       "      <td>[B]</td>\n",
       "    </tr>\n",
       "    <tr>\n",
       "      <th>68</th>\n",
       "      <td>I’m a fucking degenerate regard - YOLO 100x SP...</td>\n",
       "      <td>0.000</td>\n",
       "      <td>0.221</td>\n",
       "      <td>0.779</td>\n",
       "      <td>0.4278</td>\n",
       "      <td>[O, OLO]</td>\n",
       "    </tr>\n",
       "    <tr>\n",
       "      <th>74</th>\n",
       "      <td>JPOW did nothing wrong</td>\n",
       "      <td>0.000</td>\n",
       "      <td>0.460</td>\n",
       "      <td>0.540</td>\n",
       "      <td>0.3724</td>\n",
       "      <td>[W]</td>\n",
       "    </tr>\n",
       "    <tr>\n",
       "      <th>76</th>\n",
       "      <td>Jpow VW effect</td>\n",
       "      <td>0.000</td>\n",
       "      <td>0.000</td>\n",
       "      <td>1.000</td>\n",
       "      <td>0.0000</td>\n",
       "      <td>[W]</td>\n",
       "    </tr>\n",
       "    <tr>\n",
       "      <th>78</th>\n",
       "      <td>WSB autist impresses the ladies</td>\n",
       "      <td>0.000</td>\n",
       "      <td>0.437</td>\n",
       "      <td>0.563</td>\n",
       "      <td>0.4767</td>\n",
       "      <td>[B, SB]</td>\n",
       "    </tr>\n",
       "    <tr>\n",
       "      <th>81</th>\n",
       "      <td>40K Stock YOLO on BAC</td>\n",
       "      <td>0.000</td>\n",
       "      <td>0.415</td>\n",
       "      <td>0.585</td>\n",
       "      <td>0.4278</td>\n",
       "      <td>[AC, BAC, C, K, O, OLO]</td>\n",
       "    </tr>\n",
       "    <tr>\n",
       "      <th>83</th>\n",
       "      <td>DO NOT hold near-expiry Puts on any stock that...</td>\n",
       "      <td>0.287</td>\n",
       "      <td>0.098</td>\n",
       "      <td>0.615</td>\n",
       "      <td>-0.7297</td>\n",
       "      <td>[DO, E, L, LL, O, SE, T, U, YOU]</td>\n",
       "    </tr>\n",
       "    <tr>\n",
       "      <th>85</th>\n",
       "      <td>SVB Saga</td>\n",
       "      <td>0.000</td>\n",
       "      <td>0.000</td>\n",
       "      <td>1.000</td>\n",
       "      <td>0.0000</td>\n",
       "      <td>[B]</td>\n",
       "    </tr>\n",
       "    <tr>\n",
       "      <th>86</th>\n",
       "      <td>WELP peeps there waiting and ready for the crash</td>\n",
       "      <td>0.221</td>\n",
       "      <td>0.205</td>\n",
       "      <td>0.574</td>\n",
       "      <td>-0.0516</td>\n",
       "      <td>[ELP]</td>\n",
       "    </tr>\n",
       "    <tr>\n",
       "      <th>87</th>\n",
       "      <td>THE INVESTOOR</td>\n",
       "      <td>0.000</td>\n",
       "      <td>0.000</td>\n",
       "      <td>1.000</td>\n",
       "      <td>0.0000</td>\n",
       "      <td>[E, HE, OR, R]</td>\n",
       "    </tr>\n",
       "    <tr>\n",
       "      <th>95</th>\n",
       "      <td>1... 2... FRED is coming for you...</td>\n",
       "      <td>0.000</td>\n",
       "      <td>0.000</td>\n",
       "      <td>1.000</td>\n",
       "      <td>0.0000</td>\n",
       "      <td>[D, ED]</td>\n",
       "    </tr>\n",
       "    <tr>\n",
       "      <th>97</th>\n",
       "      <td>RIP Quantitative Tightening</td>\n",
       "      <td>0.000</td>\n",
       "      <td>0.000</td>\n",
       "      <td>1.000</td>\n",
       "      <td>0.0000</td>\n",
       "      <td>[IP]</td>\n",
       "    </tr>\n",
       "    <tr>\n",
       "      <th>99</th>\n",
       "      <td>Are you ready to party like it's 1929? Why jus...</td>\n",
       "      <td>0.163</td>\n",
       "      <td>0.285</td>\n",
       "      <td>0.552</td>\n",
       "      <td>0.6697</td>\n",
       "      <td>[EAT, T]</td>\n",
       "    </tr>\n",
       "    <tr>\n",
       "      <th>100</th>\n",
       "      <td>FRC moments after the money hits</td>\n",
       "      <td>0.000</td>\n",
       "      <td>0.000</td>\n",
       "      <td>1.000</td>\n",
       "      <td>0.0000</td>\n",
       "      <td>[C, RC]</td>\n",
       "    </tr>\n",
       "    <tr>\n",
       "      <th>102</th>\n",
       "      <td>Update: High Probability Recession Hits U.S. i...</td>\n",
       "      <td>0.259</td>\n",
       "      <td>0.000</td>\n",
       "      <td>0.741</td>\n",
       "      <td>-0.4215</td>\n",
       "      <td>[S, U]</td>\n",
       "    </tr>\n",
       "  </tbody>\n",
       "</table>\n",
       "</div>"
      ],
      "text/plain": [
       "                                                  text  negative  positive  \\\n",
       "2            Eggon says “GME go up” after earnings. ⬆️     0.000     0.000   \n",
       "9    #DWAC and Trump Media Being investigated for M...     0.000     0.000   \n",
       "20                                A simple calculation     0.000     0.000   \n",
       "21   Day 3 of Photoshopping failing banks on their ...     0.202     0.000   \n",
       "23   Jim Cramer Emo Remix - I made a mistake (SVB, ...     0.122     0.061   \n",
       "25   Can’t make this sh*t up. Schwab CEO vs. The Bi...     0.000     0.000   \n",
       "26         +1000% on 0DTE Overnight You Fucking Nerds!     0.000     0.000   \n",
       "28                        0DTE Gains Part 3: $150,000+     0.000     0.375   \n",
       "30   Why SVB is just the beginning: Part II Eurodol...     0.000     0.000   \n",
       "31                                                YOLO     0.000     1.000   \n",
       "32   (Pure speculation) I think J Pow confirms 25 b...     0.000     0.000   \n",
       "38           Credit Suisse: Short term CDS at >830 bps     0.000     0.271   \n",
       "41                 CNBC doing JPow dirty with this pic     0.326     0.000   \n",
       "43                                       FDIC is Daddy     0.000     0.000   \n",
       "44   NVDA CFO just sold a bunch of stock, probably ...     0.000     0.000   \n",
       "45          How everyone is looking at CS right now...     0.000     0.000   \n",
       "48   All this wishful thinking JPOW is suddenly the...     0.000     0.286   \n",
       "53            The SVB crisis, explained in ten seconds     0.406     0.000   \n",
       "56   The Federal Home Loans Banks sold 90B in bonds...     0.000     0.091   \n",
       "59   The volatility continues… 3-15-23 SPY/ ES Futu...     0.000     0.000   \n",
       "61   Could a SVB's collapse been prevented if the a...     0.257     0.048   \n",
       "62   143K gain riding the S&P rodeo. ES, SPX 0-days...     0.000     0.355   \n",
       "63                                           RIP BULLZ     0.000     0.000   \n",
       "65         Everyone mass buying gold post-SVB collapse     0.390     0.000   \n",
       "68   I’m a fucking degenerate regard - YOLO 100x SP...     0.000     0.221   \n",
       "74                              JPOW did nothing wrong     0.000     0.460   \n",
       "76                                      Jpow VW effect     0.000     0.000   \n",
       "78                     WSB autist impresses the ladies     0.000     0.437   \n",
       "81                               40K Stock YOLO on BAC     0.000     0.415   \n",
       "83   DO NOT hold near-expiry Puts on any stock that...     0.287     0.098   \n",
       "85                                            SVB Saga     0.000     0.000   \n",
       "86    WELP peeps there waiting and ready for the crash     0.221     0.205   \n",
       "87                                       THE INVESTOOR     0.000     0.000   \n",
       "95                 1... 2... FRED is coming for you...     0.000     0.000   \n",
       "97                         RIP Quantitative Tightening     0.000     0.000   \n",
       "99   Are you ready to party like it's 1929? Why jus...     0.163     0.285   \n",
       "100                   FRC moments after the money hits     0.000     0.000   \n",
       "102  Update: High Probability Recession Hits U.S. i...     0.259     0.000   \n",
       "\n",
       "     neutral  compound                    matched_symbol  \n",
       "2      1.000    0.0000                      [E, GME, ME]  \n",
       "9      1.000    0.0000                     [AC, C, DWAC]  \n",
       "20     1.000    0.0000                               [A]  \n",
       "21     0.798   -0.5106                           [D, ED]  \n",
       "23     0.816   -0.2960                               [B]  \n",
       "25     1.000    0.0000                               [O]  \n",
       "26     1.000    0.0000                          [DTE, E]  \n",
       "28     0.625    0.3400                          [DTE, E]  \n",
       "30     1.000    0.0000                               [B]  \n",
       "31     0.000    0.2732                          [O, OLO]  \n",
       "32     1.000    0.0000                               [J]  \n",
       "38     0.729    0.3818                               [S]  \n",
       "41     0.674   -0.4404                           [BC, C]  \n",
       "43     1.000    0.0000                               [C]  \n",
       "44     1.000    0.0000                      [A, NVDA, O]  \n",
       "45     1.000    0.0000                               [S]  \n",
       "48     0.714    0.4939                               [W]  \n",
       "53     0.594   -0.6249                               [B]  \n",
       "56     0.909    0.2263                               [B]  \n",
       "59     1.000    0.0000                 [ES, IX, R, S, X]  \n",
       "61     0.696   -0.7003                               [B]  \n",
       "62     0.645    0.7644                 [ES, K, PX, S, X]  \n",
       "63     1.000    0.0000                       [IP, LZ, Z]  \n",
       "65     0.610   -0.4939                               [B]  \n",
       "68     0.779    0.4278                          [O, OLO]  \n",
       "74     0.540    0.3724                               [W]  \n",
       "76     1.000    0.0000                               [W]  \n",
       "78     0.563    0.4767                           [B, SB]  \n",
       "81     0.585    0.4278           [AC, BAC, C, K, O, OLO]  \n",
       "83     0.615   -0.7297  [DO, E, L, LL, O, SE, T, U, YOU]  \n",
       "85     1.000    0.0000                               [B]  \n",
       "86     0.574   -0.0516                             [ELP]  \n",
       "87     1.000    0.0000                    [E, HE, OR, R]  \n",
       "95     1.000    0.0000                           [D, ED]  \n",
       "97     1.000    0.0000                              [IP]  \n",
       "99     0.552    0.6697                          [EAT, T]  \n",
       "100    1.000    0.0000                           [C, RC]  \n",
       "102    0.741   -0.4215                            [S, U]  "
      ]
     },
     "execution_count": 67,
     "metadata": {},
     "output_type": "execute_result"
    }
   ],
   "source": [
    "#print all matched_symbols which is \"S&P\"\n",
    "vader[vader['matched_symbol'] != 'S&P']\n"
   ]
  },
  {
   "cell_type": "code",
   "execution_count": 64,
   "metadata": {},
   "outputs": [
    {
     "data": {
      "text/plain": [
       "103"
      ]
     },
     "execution_count": 64,
     "metadata": {},
     "output_type": "execute_result"
    }
   ],
   "source": [
    "#number of enteries in vader\n",
    "len(vader)\n"
   ]
  },
  {
   "cell_type": "code",
   "execution_count": null,
   "metadata": {},
   "outputs": [],
   "source": []
  },
  {
   "cell_type": "code",
   "execution_count": null,
   "metadata": {},
   "outputs": [],
   "source": []
  }
 ],
 "metadata": {
  "kernelspec": {
   "display_name": "Python 3",
   "language": "python",
   "name": "python3"
  },
  "language_info": {
   "codemirror_mode": {
    "name": "ipython",
    "version": 3
   },
   "file_extension": ".py",
   "mimetype": "text/x-python",
   "name": "python",
   "nbconvert_exporter": "python",
   "pygments_lexer": "ipython3",
   "version": "3.11.4"
  },
  "orig_nbformat": 4
 },
 "nbformat": 4,
 "nbformat_minor": 2
}
